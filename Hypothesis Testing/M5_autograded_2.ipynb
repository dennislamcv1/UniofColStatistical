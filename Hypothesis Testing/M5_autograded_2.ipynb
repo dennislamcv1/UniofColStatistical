{
 "cells": [
  {
   "cell_type": "markdown",
   "metadata": {
    "deletable": false,
    "editable": false,
    "nbgrader": {
     "cell_type": "markdown",
     "checksum": "53099d9af20b5a7fa513053d0798e48f",
     "grade": false,
     "grade_id": "cell-a355388d11b2c1d0",
     "locked": true,
     "schema_version": 3,
     "solution": false,
     "task": false
    }
   },
   "source": [
    "# Module 5 Autograded Assignment"
   ]
  },
  {
   "cell_type": "code",
   "execution_count": 1,
   "metadata": {
    "deletable": false,
    "editable": false,
    "nbgrader": {
     "cell_type": "code",
     "checksum": "88f05b8d032f5bd14d43ea4c52b51a46",
     "grade": false,
     "grade_id": "cell-663da8664742c4be",
     "locked": true,
     "schema_version": 3,
     "solution": false,
     "task": false
    }
   },
   "outputs": [],
   "source": [
    "# Load Necessary Libraries\n",
    "library(testthat)"
   ]
  },
  {
   "cell_type": "markdown",
   "metadata": {
    "deletable": false,
    "editable": false,
    "nbgrader": {
     "cell_type": "markdown",
     "checksum": "c7c50c4449e9340878b60d692e470210",
     "grade": false,
     "grade_id": "cell-21c6e2bcba59e21a",
     "locked": true,
     "schema_version": 3,
     "solution": false,
     "task": false
    }
   },
   "source": [
    "# Problem 1\n",
    "\n",
    "You are a proctor for a Data Science exam, and just gave a test to 15 students. You want to get an idea for the true standard deviation of the scores, using the scores you just recieved. Assume that the underlying score population is normally distributed."
   ]
  },
  {
   "cell_type": "code",
   "execution_count": 2,
   "metadata": {
    "deletable": false,
    "editable": false,
    "nbgrader": {
     "cell_type": "code",
     "checksum": "149feb714a93262b9862679832368056",
     "grade": false,
     "grade_id": "cell-3b840ffbed41e4ec",
     "locked": true,
     "schema_version": 3,
     "solution": false,
     "task": false
    }
   },
   "outputs": [],
   "source": [
    "scores = c(53.02, 69.2, 81.96, 40.62, 76.24, 99.78, 94.49, 71.6, 76.95, 37.68, 37.59, 59.22, 92.44, 81.22, 63.74)"
   ]
  },
  {
   "cell_type": "markdown",
   "metadata": {
    "deletable": false,
    "editable": false,
    "nbgrader": {
     "cell_type": "markdown",
     "checksum": "f6a4dda3ca7a9bbd958b599ac3c5d203",
     "grade": false,
     "grade_id": "cell-d4eecac4e179394c",
     "locked": true,
     "schema_version": 3,
     "solution": false,
     "task": false
    }
   },
   "source": [
    "**Part A)** Using the data stored in the variable `scores`, calculate a 95% confidence interval for the standard deviation of the data. Your confidence interval should be two tailed, and cut off an equal proportion of area on each side. Save the lower value as `p1.lower` and the upper value as `p1.upper`. Round your answers to two decimal places."
   ]
  },
  {
   "cell_type": "code",
   "execution_count": 3,
   "metadata": {
    "deletable": false,
    "nbgrader": {
     "cell_type": "code",
     "checksum": "7612f3e8319f0d39d8a4b109d877c2f4",
     "grade": false,
     "grade_id": "cell-594c91ad9ed3f5a2",
     "locked": false,
     "schema_version": 3,
     "solution": true,
     "task": false
    }
   },
   "outputs": [
    {
     "data": {
      "text/html": [
       "14.82"
      ],
      "text/latex": [
       "14.82"
      ],
      "text/markdown": [
       "14.82"
      ],
      "text/plain": [
       "[1] 14.82"
      ]
     },
     "metadata": {},
     "output_type": "display_data"
    },
    {
     "data": {
      "text/html": [
       "31.93"
      ],
      "text/latex": [
       "31.93"
      ],
      "text/markdown": [
       "31.93"
      ],
      "text/plain": [
       "[1] 31.93"
      ]
     },
     "metadata": {},
     "output_type": "display_data"
    }
   ],
   "source": [
    "# Given data\n",
    "scores <- c(53.02, 69.2, 81.96, 40.62, 76.24, 99.78, 94.49, 71.6, 76.95, 37.68, 37.59, 59.22, 92.44, 81.22, 63.74)\n",
    "\n",
    "# Sample size\n",
    "n <- length(scores)\n",
    "\n",
    "# Sample variance\n",
    "s2 <- var(scores)\n",
    "\n",
    "# Degrees of freedom\n",
    "df <- n - 1\n",
    "\n",
    "# Significance level\n",
    "alpha <- 0.05\n",
    "\n",
    "# Chi-square critical values\n",
    "chi2_lower <- qchisq(alpha / 2, df)\n",
    "chi2_upper <- qchisq(1 - alpha / 2, df)\n",
    "\n",
    "# Confidence interval for the variance\n",
    "ci_variance_lower <- (df * s2) / chi2_upper\n",
    "ci_variance_upper <- (df * s2) / chi2_lower\n",
    "\n",
    "# Confidence interval for the standard deviation\n",
    "p1.lower <- sqrt(ci_variance_lower)\n",
    "p1.upper <- sqrt(ci_variance_upper)\n",
    "\n",
    "# Round the results to two decimal places\n",
    "p1.lower <- round(p1.lower, 2)\n",
    "p1.upper <- round(p1.upper, 2)\n",
    "\n",
    "# Part B: Compare with historical standard deviation\n",
    "historical_sd <- 15\n",
    "\n",
    "\n",
    "\n",
    "# Display the results\n",
    "p1.lower\n",
    "p1.upper\n",
    "#p1.b\n",
    "\n"
   ]
  },
  {
   "cell_type": "code",
   "execution_count": 4,
   "metadata": {
    "deletable": false,
    "editable": false,
    "nbgrader": {
     "cell_type": "code",
     "checksum": "0b04d414a351f3e33cbe00b128bb4f18",
     "grade": true,
     "grade_id": "cell-a610e410ab7791bc",
     "locked": true,
     "points": 1,
     "schema_version": 3,
     "solution": false,
     "task": false
    }
   },
   "outputs": [],
   "source": [
    "# Hidden Test Cell"
   ]
  },
  {
   "cell_type": "markdown",
   "metadata": {
    "deletable": false,
    "editable": false,
    "nbgrader": {
     "cell_type": "markdown",
     "checksum": "bec62141d746cca8ac02b6ff92cbd9d6",
     "grade": false,
     "grade_id": "cell-29045d261089953f",
     "locked": true,
     "schema_version": 3,
     "solution": false,
     "task": false
    }
   },
   "source": [
    "**Part B)** You consult with your coworkers, and determine that the historical standard deviation of scores for the test is 15. Based on your results from **Part A**, does your data agree with the historical value at an $\\alpha=0.05$ significance level? Save your answer into variable `p1.b`. Answer the boolean `TRUE` if the observed data does agree, and `FALSE` if it does not."
   ]
  },
  {
   "cell_type": "code",
   "execution_count": 5,
   "metadata": {
    "deletable": false,
    "nbgrader": {
     "cell_type": "code",
     "checksum": "9d615d45b6d600113248622944dd7db8",
     "grade": false,
     "grade_id": "cell-028b2c008655dc50",
     "locked": false,
     "schema_version": 3,
     "solution": true,
     "task": false
    }
   },
   "outputs": [
    {
     "data": {
      "text/html": [
       "TRUE"
      ],
      "text/latex": [
       "TRUE"
      ],
      "text/markdown": [
       "TRUE"
      ],
      "text/plain": [
       "[1] TRUE"
      ]
     },
     "metadata": {},
     "output_type": "display_data"
    }
   ],
   "source": [
    "# Check if historical standard deviation lies within the confidence interval\n",
    "p1.b <- historical_sd >= p1.lower && historical_sd <= p1.upper\n",
    "p1.b"
   ]
  },
  {
   "cell_type": "code",
   "execution_count": 6,
   "metadata": {
    "deletable": false,
    "editable": false,
    "nbgrader": {
     "cell_type": "code",
     "checksum": "c056b57598ebdabd58d21c4540f3bff1",
     "grade": true,
     "grade_id": "cell-295c4ca2086137fc",
     "locked": true,
     "points": 1,
     "schema_version": 3,
     "solution": false,
     "task": false
    }
   },
   "outputs": [],
   "source": [
    "# Hidden Test Cell"
   ]
  },
  {
   "cell_type": "markdown",
   "metadata": {
    "deletable": false,
    "editable": false,
    "nbgrader": {
     "cell_type": "markdown",
     "checksum": "ade41684e88b04df8b34360090dd2ffa",
     "grade": false,
     "grade_id": "cell-744f807dd02e1d71",
     "locked": true,
     "schema_version": 3,
     "solution": false,
     "task": false
    }
   },
   "source": [
    "# Problem 2\n",
    "\n",
    "It's Halloween, and Ralphie has 6 large bags, each filled with a combination of 4 different kinds of candy. Each bag should have an approximately equal amounts of each flavor. But, being a buffalo, Ralphie is not sure that she spread the candy out evenly. She has asked your help to determine whether the proportions of flavors within each bag is the same. \n",
    "\n",
    "Each bag contains hundreds of pieces of candy, so we can't count them all by hand. Instead, you take a sample of 50 pieces from each bag. The table below displays the counts of each type of candy within each sample of 50 pieces:\n",
    "\n",
    "|        | Candy A | Candy B | Candy C | Candy D |\n",
    "| :---   | :----:  |  :---:  |  :---:  |    ---: |\n",
    "| Bag 1  |   14    |    18   |   11    |    6    |\n",
    "| Bag 2  |   10    |    20   |   12    |    9    |\n",
    "| Bag 3  |   13    |    14   |   15    |    8    |\n",
    "| Bag 4  |   15    |    15   |   10    |   10    |\n",
    "| Bag 5  |   11    |    17   |   13    |    9    |\n",
    "| Bag 6  |   11    |    14   |   14    |   11    |"
   ]
  },
  {
   "cell_type": "markdown",
   "metadata": {
    "deletable": false,
    "editable": false,
    "nbgrader": {
     "cell_type": "markdown",
     "checksum": "751f5bd417082a3dfc20e99e9ea5122e",
     "grade": false,
     "grade_id": "cell-437cae286f2269fc",
     "locked": true,
     "schema_version": 3,
     "solution": false,
     "task": false
    }
   },
   "source": [
    "**Part A)** Before you start testing anything about the candy counts, think about what kind of test you will need. You are comparing the underlying distribution of different categorical variables, to determine if they are the same. Which test will be most useful?\n",
    "\n",
    "1. Z-test\n",
    "2. t-test\n",
    "3. Chi-Square Goodness of Fit test\n",
    "4. Chi-Square Test of Independence\n",
    "5. Some other test\n",
    "\n",
    "Select the *integer* corresping to your answer, and save it into variable `p2.a`."
   ]
  },
  {
   "cell_type": "code",
   "execution_count": 7,
   "metadata": {
    "deletable": false,
    "nbgrader": {
     "cell_type": "code",
     "checksum": "2116c88db1459fb386f8546bf2546edc",
     "grade": false,
     "grade_id": "cell-ffd6d3e24a3530ba",
     "locked": false,
     "schema_version": 3,
     "solution": true,
     "task": false
    }
   },
   "outputs": [
    {
     "data": {
      "text/html": [
       "3"
      ],
      "text/latex": [
       "3"
      ],
      "text/markdown": [
       "3"
      ],
      "text/plain": [
       "[1] 3"
      ]
     },
     "metadata": {},
     "output_type": "display_data"
    }
   ],
   "source": [
    "# Answer for Part A\n",
    "p2.a <- 3\n",
    "p2.a"
   ]
  },
  {
   "cell_type": "code",
   "execution_count": 8,
   "metadata": {
    "deletable": false,
    "editable": false,
    "nbgrader": {
     "cell_type": "code",
     "checksum": "cf7fb23f6312cd1d0c23f12b08deec92",
     "grade": true,
     "grade_id": "cell-ad1346d708ce2814",
     "locked": true,
     "points": 1,
     "schema_version": 3,
     "solution": false,
     "task": false
    }
   },
   "outputs": [],
   "source": [
    "# Hidden Test Cell"
   ]
  },
  {
   "cell_type": "markdown",
   "metadata": {
    "deletable": false,
    "editable": false,
    "nbgrader": {
     "cell_type": "markdown",
     "checksum": "a5c6308ac0958a4a98b60301090abd5f",
     "grade": false,
     "grade_id": "cell-a872e36896e52feb",
     "locked": true,
     "schema_version": 3,
     "solution": false,
     "task": false
    }
   },
   "source": [
    "**Part B)** Determine whether the proportions of candy are equal by solving for the p-value of the appropriate test. Save your answer as `p2.b`. Round your answer to three decimal places."
   ]
  },
  {
   "cell_type": "code",
   "execution_count": 9,
   "metadata": {
    "deletable": false,
    "nbgrader": {
     "cell_type": "code",
     "checksum": "92b391d5d08d250f6be9a554f4466ea3",
     "grade": false,
     "grade_id": "cell-8a3d31e2434837fd",
     "locked": false,
     "schema_version": 3,
     "solution": true,
     "task": false
    }
   },
   "outputs": [
    {
     "data": {
      "text/html": [
       "0.335"
      ],
      "text/latex": [
       "0.335"
      ],
      "text/markdown": [
       "0.335"
      ],
      "text/plain": [
       "[1] 0.335"
      ]
     },
     "metadata": {},
     "output_type": "display_data"
    }
   ],
   "source": [
    "# Observed counts for each bag\n",
    "observed_counts <- matrix(c(14, 18, 11, 6,\n",
    "                            10, 20, 12, 9,\n",
    "                            13, 14, 15, 8,\n",
    "                            15, 15, 10, 10,\n",
    "                            11, 17, 13, 9,\n",
    "                            11, 14, 14, 11), nrow = 6, byrow = TRUE)\n",
    "\n",
    "# Expected counts (equal proportions, each candy should have 50/4 = 12.5 pieces in each bag)\n",
    "expected_counts <- matrix(rep(12.5, 24), nrow = 6, byrow = TRUE)\n",
    "\n",
    "# Perform the Chi-Square Goodness of Fit test for each bag and sum the test statistics\n",
    "test_statistics <- apply(observed_counts, 1, function(obs) {\n",
    "  chisq.test(obs, p = rep(1/4, 4))$statistic\n",
    "})\n",
    "\n",
    "# Sum the chi-square statistics to get an overall statistic\n",
    "chi_square_stat <- sum(test_statistics)\n",
    "\n",
    "# Degrees of freedom: (number of bags) * (number of candy types - 1)\n",
    "df <- 6 * (4 - 1)\n",
    "\n",
    "# Calculate the p-value\n",
    "p_value <- pchisq(chi_square_stat, df, lower.tail = FALSE)\n",
    "\n",
    "# Round the p-value to three decimal places\n",
    "p2.b <- round(p_value, 3)\n",
    "p2.b\n"
   ]
  },
  {
   "cell_type": "code",
   "execution_count": 10,
   "metadata": {
    "deletable": false,
    "editable": false,
    "nbgrader": {
     "cell_type": "code",
     "checksum": "aafb5489a8e6c5a1acde60ff605179fb",
     "grade": true,
     "grade_id": "cell-3c53b82b0c0f6156",
     "locked": true,
     "points": 1,
     "schema_version": 3,
     "solution": false,
     "task": false
    }
   },
   "outputs": [],
   "source": [
    "# Hidden Test Cell"
   ]
  },
  {
   "cell_type": "markdown",
   "metadata": {
    "deletable": false,
    "editable": false,
    "nbgrader": {
     "cell_type": "markdown",
     "checksum": "6590bda4d160a3bdde75d73e1b7ede60",
     "grade": false,
     "grade_id": "cell-3c8c1a17733c5e6d",
     "locked": true,
     "schema_version": 3,
     "solution": false,
     "task": false
    }
   },
   "source": [
    "**Part C)** Based on the results from **Part B**, is there an equal proportion of candy in each bag? Assume a significance level of $\\alpha=0.05$. Save your answer into `p2.c`. Save the boolean value `TRUE` if there is an equal proportion within each bag, and `FALSE` if there is not an equal proportion."
   ]
  },
  {
   "cell_type": "code",
   "execution_count": 11,
   "metadata": {
    "deletable": false,
    "nbgrader": {
     "cell_type": "code",
     "checksum": "3bf9b649fc7c9393ff600b5af8c8a906",
     "grade": false,
     "grade_id": "cell-33d1164435309a6c",
     "locked": false,
     "schema_version": 3,
     "solution": true,
     "task": false
    }
   },
   "outputs": [
    {
     "data": {
      "text/html": [
       "FALSE"
      ],
      "text/latex": [
       "FALSE"
      ],
      "text/markdown": [
       "FALSE"
      ],
      "text/plain": [
       "[1] FALSE"
      ]
     },
     "metadata": {},
     "output_type": "display_data"
    }
   ],
   "source": [
    "# Determine if the proportions are equal\n",
    "p2.c <- p2.b < 0.05\n",
    "p2.c\n"
   ]
  },
  {
   "cell_type": "code",
   "execution_count": 12,
   "metadata": {
    "deletable": false,
    "editable": false,
    "nbgrader": {
     "cell_type": "code",
     "checksum": "3f2bf2736324b0609b488776b61846cc",
     "grade": true,
     "grade_id": "cell-5c4ec027ed179a1e",
     "locked": true,
     "points": 1,
     "schema_version": 3,
     "solution": false,
     "task": false
    }
   },
   "outputs": [],
   "source": [
    "# Hidden Test Cell"
   ]
  },
  {
   "cell_type": "markdown",
   "metadata": {
    "deletable": false,
    "editable": false,
    "nbgrader": {
     "cell_type": "markdown",
     "checksum": "10bb51d56731ba42ab903a003cc7d87a",
     "grade": false,
     "grade_id": "cell-c0d76e27f83a6cfd",
     "locked": true,
     "schema_version": 3,
     "solution": false,
     "task": false
    }
   },
   "source": [
    "**Part D)** Suppose that the results of your test from **Part B** indicate that the candies do have different proportions. From the test alone, are you able to determine which of the candies within the group have different proportions? Save your answer as `p2.d`. Save the boolean `TRUE` if you can determine which have different proportions, and save `FALSE` if you can not."
   ]
  },
  {
   "cell_type": "code",
   "execution_count": 13,
   "metadata": {
    "deletable": false,
    "nbgrader": {
     "cell_type": "code",
     "checksum": "f4d25156d0fb2c0003c680e5c9fe6ba5",
     "grade": false,
     "grade_id": "cell-dadd33ed9462d0e5",
     "locked": false,
     "schema_version": 3,
     "solution": true,
     "task": false
    }
   },
   "outputs": [
    {
     "data": {
      "text/html": [
       "FALSE"
      ],
      "text/latex": [
       "FALSE"
      ],
      "text/markdown": [
       "FALSE"
      ],
      "text/plain": [
       "[1] FALSE"
      ]
     },
     "metadata": {},
     "output_type": "display_data"
    }
   ],
   "source": [
    "# We cannot determine which specific proportions differ from the test alone\n",
    "p2.d <- FALSE\n",
    "p2.d\n"
   ]
  },
  {
   "cell_type": "code",
   "execution_count": 14,
   "metadata": {
    "deletable": false,
    "editable": false,
    "nbgrader": {
     "cell_type": "code",
     "checksum": "b6a1b5838727b5f2557d120542b4308b",
     "grade": true,
     "grade_id": "cell-65392165354a59da",
     "locked": true,
     "points": 1,
     "schema_version": 3,
     "solution": false,
     "task": false
    }
   },
   "outputs": [],
   "source": [
    "# Hidden Test Cell"
   ]
  },
  {
   "cell_type": "markdown",
   "metadata": {
    "deletable": false,
    "editable": false,
    "nbgrader": {
     "cell_type": "markdown",
     "checksum": "f8a0f8af2b982ec965691444f4daf27a",
     "grade": false,
     "grade_id": "cell-7fb454589a968dc7",
     "locked": true,
     "schema_version": 3,
     "solution": false,
     "task": false
    }
   },
   "source": [
    "**Part E)** After some thinking, Ralphie has changed her mind and believes that the candies actually follow the below proportions:\n",
    "\n",
    "\\begin{align*}\n",
    "    p_A &= 0.25 \\\\\n",
    "    p_B &= 0.35 \\\\\n",
    "    p_C &= 0.25 \\\\\n",
    "    p_D &= 0.15\n",
    "\\end{align*}\n",
    "\n",
    "At a significance level of $\\alpha=0.05$, determine if your observed samples agree with Ralphie's newly proposed proportions. Save the p-value of your calculations as `p2.e.pval`. Round this answer to three decimal places. Into variable `p2.e`, save `TRUE` if your data does agree with the new proportions, or `FALSE` if it does not."
   ]
  },
  {
   "cell_type": "code",
   "execution_count": 15,
   "metadata": {
    "deletable": false,
    "nbgrader": {
     "cell_type": "code",
     "checksum": "7146165b0418ed4b54658b2b7e04f5c6",
     "grade": false,
     "grade_id": "cell-2402a31c88541342",
     "locked": false,
     "schema_version": 3,
     "solution": true,
     "task": false
    }
   },
   "outputs": [
    {
     "data": {
      "text/html": [
       "0.593"
      ],
      "text/latex": [
       "0.593"
      ],
      "text/markdown": [
       "0.593"
      ],
      "text/plain": [
       "[1] 0.593"
      ]
     },
     "metadata": {},
     "output_type": "display_data"
    },
    {
     "data": {
      "text/html": [
       "TRUE"
      ],
      "text/latex": [
       "TRUE"
      ],
      "text/markdown": [
       "TRUE"
      ],
      "text/plain": [
       "[1] TRUE"
      ]
     },
     "metadata": {},
     "output_type": "display_data"
    }
   ],
   "source": [
    "# Ralphie's proposed proportions\n",
    "expected_proportions <- c(0.25, 0.35, 0.25, 0.15)\n",
    "\n",
    "# Create a vector of observed counts (sum across bags)\n",
    "observed_counts <- colSums(matrix(c(14, 18, 11, 6,\n",
    "                                    10, 20, 12, 9,\n",
    "                                    13, 14, 15, 8,\n",
    "                                    15, 15, 10, 10,\n",
    "                                    11, 17, 13, 9,\n",
    "                                    11, 14, 14, 11), nrow = 6, byrow = TRUE))\n",
    "\n",
    "# Expected counts for the new proportions (total sample size is 6 * 50 = 300)\n",
    "expected_counts <- 300 * expected_proportions\n",
    "\n",
    "# Perform the Chi-Square Goodness of Fit test\n",
    "chi_gof_test <- chisq.test(observed_counts, p = expected_proportions)\n",
    "\n",
    "# Get the p-value\n",
    "p2.e.pval <- round(chi_gof_test$p.value, 3)\n",
    "\n",
    "# Determine if the data agrees with the new proportions\n",
    "p2.e <- p2.e.pval > 0.05\n",
    "\n",
    "# Display the results\n",
    "p2.e.pval\n",
    "p2.e\n"
   ]
  },
  {
   "cell_type": "code",
   "execution_count": 16,
   "metadata": {
    "deletable": false,
    "editable": false,
    "nbgrader": {
     "cell_type": "code",
     "checksum": "10a6205f4c62e1f6c15eb2cf0857936c",
     "grade": true,
     "grade_id": "cell-199367f08e1276fc",
     "locked": true,
     "points": 1,
     "schema_version": 3,
     "solution": false,
     "task": false
    }
   },
   "outputs": [],
   "source": [
    "# Hidden Test Cell"
   ]
  },
  {
   "cell_type": "markdown",
   "metadata": {
    "deletable": false,
    "editable": false,
    "nbgrader": {
     "cell_type": "markdown",
     "checksum": "b460fba42fc70e8eff137d967bd9b7e6",
     "grade": false,
     "grade_id": "cell-a876776a8e15671e",
     "locked": true,
     "schema_version": 3,
     "solution": false,
     "task": false
    }
   },
   "source": [
    "# Problem 3\n",
    "\n",
    "A recent public opinion poll surveyed a simple random sample of 400 individuals. Respondents where classified by their age group (0-20, 20-40, 40-60, 60+) and by their preference of pet (Dog or Cat). Results are shown in the table below.\n",
    "\n",
    "|        | Dog     | Cat     |\n",
    "| :---   | :----:  |   ---:  |\n",
    "| 0-20   |   41    |    28   |\n",
    "| 20-40  |   76    |    54   |\n",
    "| 40-60  |   80    |    56   |\n",
    "| 60+    |   38    |    27   |\n",
    "\n",
    "Does people's age group affect their pet preferences?"
   ]
  },
  {
   "cell_type": "markdown",
   "metadata": {
    "deletable": false,
    "editable": false,
    "nbgrader": {
     "cell_type": "markdown",
     "checksum": "1a5df171bb9d8df967d458957b54272c",
     "grade": false,
     "grade_id": "cell-69643c447b29484e",
     "locked": true,
     "schema_version": 3,
     "solution": false,
     "task": false
    }
   },
   "source": [
    "**Part A)** What kind of test should you use to solve this problem? \n",
    "\n",
    "1. Z-test\n",
    "2. t-test\n",
    "3. Chi-Square Goodness of Fit test\n",
    "4. Chi-Square Test of Independence\n",
    "5. Some other test\n",
    "\n",
    "Select the *integer* of the most appropriate test and save it into variable `p3.a`."
   ]
  },
  {
   "cell_type": "code",
   "execution_count": 17,
   "metadata": {
    "deletable": false,
    "nbgrader": {
     "cell_type": "code",
     "checksum": "2565300611e74adce5423fffde8736c1",
     "grade": false,
     "grade_id": "cell-4414d854db730b17",
     "locked": false,
     "schema_version": 3,
     "solution": true,
     "task": false
    }
   },
   "outputs": [
    {
     "data": {
      "text/html": [
       "4"
      ],
      "text/latex": [
       "4"
      ],
      "text/markdown": [
       "4"
      ],
      "text/plain": [
       "[1] 4"
      ]
     },
     "metadata": {},
     "output_type": "display_data"
    }
   ],
   "source": [
    "# Answer for Part A\n",
    "p3.a <- 4\n",
    "p3.a\n",
    "\n"
   ]
  },
  {
   "cell_type": "code",
   "execution_count": 18,
   "metadata": {
    "deletable": false,
    "editable": false,
    "nbgrader": {
     "cell_type": "code",
     "checksum": "ec43a346d4f72efcc7afc55cce63769b",
     "grade": true,
     "grade_id": "cell-d7fa401188bd2ba1",
     "locked": true,
     "points": 1,
     "schema_version": 3,
     "solution": false,
     "task": false
    }
   },
   "outputs": [],
   "source": [
    "# Hidden Test Cell"
   ]
  },
  {
   "cell_type": "markdown",
   "metadata": {
    "deletable": false,
    "editable": false,
    "nbgrader": {
     "cell_type": "markdown",
     "checksum": "63f42d808bbd1bc63b88e4b3197256e6",
     "grade": false,
     "grade_id": "cell-7d4d0133d5645acd",
     "locked": true,
     "schema_version": 3,
     "solution": false,
     "task": false
    }
   },
   "source": [
    "**Part B)** Determine whether people's age affect their preference in pet. Use an $\\alpha=0.05$ significance level. Using the test you selected in **Part A**, save the p-value of your test statistic as `p3.b.pval`. Round this value to three decimal places. If people's preference of pet is **not** determined by their age, save `TRUE` into variable `p3.b`. Otherwise, save `FALSE` into `p3.b`."
   ]
  },
  {
   "cell_type": "code",
   "execution_count": 19,
   "metadata": {
    "deletable": false,
    "nbgrader": {
     "cell_type": "code",
     "checksum": "bf192689055338d0f0638708aef20799",
     "grade": false,
     "grade_id": "cell-e86baedf85c8255d",
     "locked": false,
     "schema_version": 3,
     "solution": true,
     "task": false
    }
   },
   "outputs": [
    {
     "data": {
      "text/html": [
       "0.999"
      ],
      "text/latex": [
       "0.999"
      ],
      "text/markdown": [
       "0.999"
      ],
      "text/plain": [
       "[1] 0.999"
      ]
     },
     "metadata": {},
     "output_type": "display_data"
    },
    {
     "data": {
      "text/html": [
       "TRUE"
      ],
      "text/latex": [
       "TRUE"
      ],
      "text/markdown": [
       "TRUE"
      ],
      "text/plain": [
       "[1] TRUE"
      ]
     },
     "metadata": {},
     "output_type": "display_data"
    }
   ],
   "source": [
    "# Create the contingency table\n",
    "pet_preference <- matrix(c(41, 28,\n",
    "                           76, 54,\n",
    "                           80, 56,\n",
    "                           38, 27), nrow = 4, byrow = TRUE)\n",
    "\n",
    "# Perform the Chi-Square Test of Independence\n",
    "chi_test <- chisq.test(pet_preference)\n",
    "\n",
    "# Get the p-value and round it to three decimal places\n",
    "p3.b.pval <- round(chi_test$p.value, 3)\n",
    "\n",
    "# Determine if the preference is independent of age group\n",
    "p3.b <- p3.b.pval > 0.05\n",
    "\n",
    "# Display the results\n",
    "p3.b.pval\n",
    "p3.b\n"
   ]
  },
  {
   "cell_type": "code",
   "execution_count": 20,
   "metadata": {},
   "outputs": [],
   "source": [
    "#exp.020.dog"
   ]
  },
  {
   "cell_type": "code",
   "execution_count": 21,
   "metadata": {
    "deletable": false,
    "editable": false,
    "nbgrader": {
     "cell_type": "code",
     "checksum": "3868eec416d47ef5463efdac8618f5d9",
     "grade": true,
     "grade_id": "cell-5c458bffd5e8c5b2",
     "locked": true,
     "points": 1,
     "schema_version": 3,
     "solution": false,
     "task": false
    }
   },
   "outputs": [],
   "source": [
    "# Hidden Test Cell"
   ]
  },
  {
   "cell_type": "markdown",
   "metadata": {
    "deletable": false,
    "editable": false,
    "nbgrader": {
     "cell_type": "markdown",
     "checksum": "0c1cdddd25feb4574121406ffa48e62a",
     "grade": false,
     "grade_id": "cell-d7e4004bedf949c7",
     "locked": true,
     "schema_version": 3,
     "solution": false,
     "task": false
    }
   },
   "source": [
    "**Part C)** Suppose that the results of your test from **Part B** indicate that you should reject the null hypothesis. Does this also mean that the different age groups *causes* the difference in pet preferences? Save the boolean `TRUE` or `FALSE` into variable `p3.c`."
   ]
  },
  {
   "cell_type": "code",
   "execution_count": 22,
   "metadata": {
    "deletable": false,
    "nbgrader": {
     "cell_type": "code",
     "checksum": "7eab6c2bfeacb7578c447dfea0cbc012",
     "grade": false,
     "grade_id": "cell-ec6cfa7b0afc9dd8",
     "locked": false,
     "schema_version": 3,
     "solution": true,
     "task": false
    }
   },
   "outputs": [
    {
     "data": {
      "text/html": [
       "FALSE"
      ],
      "text/latex": [
       "FALSE"
      ],
      "text/markdown": [
       "FALSE"
      ],
      "text/plain": [
       "[1] FALSE"
      ]
     },
     "metadata": {},
     "output_type": "display_data"
    }
   ],
   "source": [
    "# Answer for Part C\n",
    "p3.c <- FALSE\n",
    "p3.c\n"
   ]
  },
  {
   "cell_type": "code",
   "execution_count": 23,
   "metadata": {
    "deletable": false,
    "editable": false,
    "nbgrader": {
     "cell_type": "code",
     "checksum": "edd67ef654b7513acbe57e974da1418f",
     "grade": true,
     "grade_id": "cell-a8fe69f03a70c254",
     "locked": true,
     "points": 1,
     "schema_version": 3,
     "solution": false,
     "task": false
    }
   },
   "outputs": [],
   "source": [
    "# Hidden Test Cell"
   ]
  },
  {
   "cell_type": "code",
   "execution_count": null,
   "metadata": {},
   "outputs": [],
   "source": []
  }
 ],
 "metadata": {
  "kernelspec": {
   "display_name": "R",
   "language": "R",
   "name": "ir"
  },
  "language_info": {
   "codemirror_mode": "r",
   "file_extension": ".r",
   "mimetype": "text/x-r-source",
   "name": "R",
   "pygments_lexer": "r",
   "version": "3.6.3"
  }
 },
 "nbformat": 4,
 "nbformat_minor": 4
}
