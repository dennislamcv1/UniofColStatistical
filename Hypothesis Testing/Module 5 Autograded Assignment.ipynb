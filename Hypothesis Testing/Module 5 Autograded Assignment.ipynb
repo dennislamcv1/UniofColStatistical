{
 "cells": [
  {
   "cell_type": "markdown",
   "id": "9ecf7652-387a-4dfe-b1ae-784e3b9f841d",
   "metadata": {},
   "source": [
    "# Question 2"
   ]
  },
  {
   "cell_type": "code",
   "execution_count": 1,
   "id": "467bf67d-9e89-4d37-9682-a17b2f09355d",
   "metadata": {},
   "outputs": [
    {
     "data": {
      "text/plain": [
       "([5.2, 6.64, 2.3200000000000003, 2.0, 2.8, 0.72],\n",
       " [0.15772445039666255,\n",
       "  0.08430178511453798,\n",
       "  0.5087002695252654,\n",
       "  0.5724067044708798,\n",
       "  0.4234999170554594,\n",
       "  0.8684899681806465])"
      ]
     },
     "execution_count": 1,
     "metadata": {},
     "output_type": "execute_result"
    }
   ],
   "source": [
    "import numpy as np\n",
    "from scipy.stats import chisquare\n",
    "\n",
    "# Observed frequencies\n",
    "observed = np.array([\n",
    "    [14, 18, 11, 7],\n",
    "    [10, 20, 12, 8],\n",
    "    [13, 14, 15, 8],\n",
    "    [15, 15, 10, 10],\n",
    "    [11, 17, 13, 9],\n",
    "    [11, 14, 14, 11]\n",
    "])\n",
    "\n",
    "# Expected frequencies\n",
    "expected = np.array([12.5, 12.5, 12.5, 12.5])\n",
    "\n",
    "# Perform Chi-Square Goodness of Fit test for each bag\n",
    "chi_square_stats = []\n",
    "p_values = []\n",
    "\n",
    "for obs in observed:\n",
    "    chi2_stat, p_val = chisquare(obs, expected)\n",
    "    chi_square_stats.append(chi2_stat)\n",
    "    p_values.append(p_val)\n",
    "\n",
    "chi_square_stats, p_values\n"
   ]
  },
  {
   "cell_type": "code",
   "execution_count": 2,
   "id": "2ce55095-b3cf-4933-b580-1f152c9ae8d3",
   "metadata": {},
   "outputs": [
    {
     "data": {
      "text/plain": [
       "([5.2, 6.64, 2.3200000000000003, 2.0, 2.8, 0.72],\n",
       " [0.15772445039666255,\n",
       "  0.08430178511453798,\n",
       "  0.5087002695252654,\n",
       "  0.5724067044708798,\n",
       "  0.4234999170554594,\n",
       "  0.8684899681806465])"
      ]
     },
     "execution_count": 2,
     "metadata": {},
     "output_type": "execute_result"
    }
   ],
   "source": [
    "import numpy as np\n",
    "from scipy.stats import chisquare\n",
    "\n",
    "# Corrected observed frequencies\n",
    "observed = np.array([\n",
    "    [14, 18, 11, 7],\n",
    "    [10, 20, 12, 8],\n",
    "    [13, 14, 15, 8],\n",
    "    [15, 15, 10, 10],\n",
    "    [11, 17, 13, 9],\n",
    "    [11, 14, 14, 11]\n",
    "])\n",
    "\n",
    "# Expected frequencies (scaled to match the observed total for each bag)\n",
    "total_pieces = 50\n",
    "expected = np.array([total_pieces / 4] * 4)\n",
    "\n",
    "# Perform Chi-Square Goodness of Fit test for each bag\n",
    "chi_square_stats = []\n",
    "p_values = []\n",
    "\n",
    "for obs in observed:\n",
    "    chi2_stat, p_val = chisquare(obs, expected)\n",
    "    chi_square_stats.append(chi2_stat)\n",
    "    p_values.append(p_val)\n",
    "\n",
    "chi_square_stats, p_values\n"
   ]
  },
  {
   "cell_type": "code",
   "execution_count": 3,
   "id": "a6e99f9e-2e90-446f-89dd-9eacbae033f9",
   "metadata": {},
   "outputs": [
    {
     "data": {
      "text/plain": [
       "0.436"
      ]
     },
     "execution_count": 3,
     "metadata": {},
     "output_type": "execute_result"
    }
   ],
   "source": [
    "import numpy as np\n",
    "from scipy.stats import chisquare\n",
    "\n",
    "# Corrected observed frequencies\n",
    "observed = np.array([\n",
    "    [14, 18, 11, 7],\n",
    "    [10, 20, 12, 8],\n",
    "    [13, 14, 15, 8],\n",
    "    [15, 15, 10, 10],\n",
    "    [11, 17, 13, 9],\n",
    "    [11, 14, 14, 11]\n",
    "])\n",
    "\n",
    "# Expected frequencies (scaled to match the observed total for each bag)\n",
    "total_pieces = 50\n",
    "expected = np.array([total_pieces / 4] * 4)\n",
    "\n",
    "# Perform Chi-Square Goodness of Fit test for each bag\n",
    "p_values = []\n",
    "\n",
    "for obs in observed:\n",
    "    _, p_val = chisquare(obs, expected)\n",
    "    p_values.append(p_val)\n",
    "\n",
    "# Calculate the mean p-value for all bags\n",
    "mean_p_value = np.mean(p_values)\n",
    "p2_b = round(mean_p_value, 3)\n",
    "p2_b\n"
   ]
  },
  {
   "cell_type": "code",
   "execution_count": null,
   "id": "796886c7-c779-4ad8-b2f9-bfe6d58bae9f",
   "metadata": {},
   "outputs": [],
   "source": []
  }
 ],
 "metadata": {
  "kernelspec": {
   "display_name": "Python 3 (ipykernel)",
   "language": "python",
   "name": "python3"
  },
  "language_info": {
   "codemirror_mode": {
    "name": "ipython",
    "version": 3
   },
   "file_extension": ".py",
   "mimetype": "text/x-python",
   "name": "python",
   "nbconvert_exporter": "python",
   "pygments_lexer": "ipython3",
   "version": "3.10.9"
  }
 },
 "nbformat": 4,
 "nbformat_minor": 5
}
