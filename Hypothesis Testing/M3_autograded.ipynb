{
 "cells": [
  {
   "cell_type": "code",
   "execution_count": 1,
   "metadata": {},
   "outputs": [],
   "source": [
    "options(warn=1)"
   ]
  },
  {
   "cell_type": "code",
   "execution_count": 2,
   "metadata": {
    "deletable": false,
    "editable": false,
    "nbgrader": {
     "cell_type": "code",
     "checksum": "8ad87880b1f8ee1bbecfc0572cab1ac1",
     "grade": false,
     "grade_id": "cell-413544c26eafb8d7",
     "locked": true,
     "schema_version": 3,
     "solution": false,
     "task": false
    }
   },
   "outputs": [],
   "source": [
    "# Load required libraries\n",
    "library(testthat)"
   ]
  },
  {
   "cell_type": "markdown",
   "metadata": {
    "deletable": false,
    "editable": false,
    "nbgrader": {
     "cell_type": "markdown",
     "checksum": "77e3b2cfdd7a77d5755c1a649e16bce6",
     "grade": false,
     "grade_id": "cell-3aaef261cc35e90e",
     "locked": true,
     "schema_version": 3,
     "solution": false,
     "task": false
    }
   },
   "source": [
    "# Problem 1\n",
    "\n",
    "For each of the following questions, decide which of the following tests would be most appropriate.\n",
    "\n",
    "1. z-test\n",
    "2. t-test\n",
    "3. The test is not possible.\n",
    "\n",
    "For each answer, save the **integer** corresponding to the correct answer."
   ]
  },
  {
   "cell_type": "markdown",
   "metadata": {
    "deletable": false,
    "editable": false,
    "nbgrader": {
     "cell_type": "markdown",
     "checksum": "2a7bd25e2d8d838ae9a186538298bd73",
     "grade": false,
     "grade_id": "cell-afbb2e202d1fddf9",
     "locked": true,
     "schema_version": 3,
     "solution": false,
     "task": false
    }
   },
   "source": [
    "**Part A)** You are measuring the average calorie intake across teenage boys and teenage girls. You get two samples, one of boys and one of girls. The sample of boys has 12 participants, and leads to a sample mean of 2637 calories with a sample standard deviation of 1138. The sample of girls has 11 participants, has a sample mean of 2258 calories and a sample standard deviation of 1519. At an $\\alpha = 0.05$ significance level, do boys consume more than girls by at least 200 calories per day? Assume that the sampling distribution is normal.\n",
    "\n",
    "Select the **integer** of the test should be used for this situation. Save your answer as `p1.a`."
   ]
  },
  {
   "cell_type": "code",
   "execution_count": 3,
   "metadata": {
    "deletable": false,
    "nbgrader": {
     "cell_type": "code",
     "checksum": "ecda5225f000a77f6cfabc0246e4e707",
     "grade": false,
     "grade_id": "cell-e330c87ceae41b6e",
     "locked": false,
     "schema_version": 3,
     "solution": true,
     "task": false
    }
   },
   "outputs": [],
   "source": [
    "p1.a <- 2\n",
    "\n"
   ]
  },
  {
   "cell_type": "code",
   "execution_count": 4,
   "metadata": {
    "deletable": false,
    "editable": false,
    "nbgrader": {
     "cell_type": "code",
     "checksum": "8b90a673d684a8a95615c5725cb6e13d",
     "grade": true,
     "grade_id": "cell-29d04e0deba119d6",
     "locked": true,
     "points": 1,
     "schema_version": 3,
     "solution": false,
     "task": false
    }
   },
   "outputs": [],
   "source": [
    "# Hidden Test Cell"
   ]
  },
  {
   "cell_type": "markdown",
   "metadata": {
    "deletable": false,
    "editable": false,
    "nbgrader": {
     "cell_type": "markdown",
     "checksum": "6763edfcff733ce945ae29b204dae34d",
     "grade": false,
     "grade_id": "cell-1fc13ea18e063f9e",
     "locked": true,
     "schema_version": 3,
     "solution": false,
     "task": false
    }
   },
   "source": [
    "**Part B)** You repeat the same experiment as **Part A)**, but have more time to collect larger sample sizes. The sample of boys has a sample size of 63, with a sample mean of 2663 calories and a sample standard deviation of 895. The sample of girls has a sample size of 71, with a sample mean of 2190 with a sample standard deviation of 1448. At an $\\alpha=0.05$ significance level, do boys consume more than girls by at least 200 calories per day? Assume that the sampling distribution is normal.\n",
    "\n",
    "Select the **integer** of the test should be used for this situation. Save your answer as `p1.b`."
   ]
  },
  {
   "cell_type": "code",
   "execution_count": 5,
   "metadata": {
    "deletable": false,
    "nbgrader": {
     "cell_type": "code",
     "checksum": "8e66cde96f26ee602932d85d005717dd",
     "grade": false,
     "grade_id": "cell-0175c858f25222cd",
     "locked": false,
     "schema_version": 3,
     "solution": true,
     "task": false
    }
   },
   "outputs": [],
   "source": [
    "p1.b <- 1\n"
   ]
  },
  {
   "cell_type": "code",
   "execution_count": 6,
   "metadata": {
    "deletable": false,
    "editable": false,
    "nbgrader": {
     "cell_type": "code",
     "checksum": "3ea825e257e65896e8e7905d97df700a",
     "grade": true,
     "grade_id": "cell-62022b79c25f0c45",
     "locked": true,
     "points": 1,
     "schema_version": 3,
     "solution": false,
     "task": false
    }
   },
   "outputs": [],
   "source": [
    "# Hidden Test Cell"
   ]
  },
  {
   "cell_type": "markdown",
   "metadata": {
    "deletable": false,
    "editable": false,
    "nbgrader": {
     "cell_type": "markdown",
     "checksum": "e332261d4c860b2f9521cb2c8f180e27",
     "grade": false,
     "grade_id": "cell-b3453097f07ad22c",
     "locked": true,
     "schema_version": 3,
     "solution": false,
     "task": false
    }
   },
   "source": [
    "**Part C)** You spend some more time analyzing the data from **Part B**, and eventually come to the conclusion that the sampling distribution is not normal, it actually follows a Gamma distribution.\n",
    "\n",
    "Select the **integer** corresponding to the test should be used for this situation. Save your answer as `p1.c`."
   ]
  },
  {
   "cell_type": "code",
   "execution_count": 7,
   "metadata": {
    "deletable": false,
    "nbgrader": {
     "cell_type": "code",
     "checksum": "1af7e63b6f18b4a9b03a39bf56567cf2",
     "grade": false,
     "grade_id": "cell-a131970d8b019c11",
     "locked": false,
     "schema_version": 3,
     "solution": true,
     "task": false
    }
   },
   "outputs": [],
   "source": [
    "p1.c <- 1\n",
    "\n"
   ]
  },
  {
   "cell_type": "code",
   "execution_count": 8,
   "metadata": {
    "deletable": false,
    "editable": false,
    "nbgrader": {
     "cell_type": "code",
     "checksum": "e9f5621736adedb918857c918e0e9f51",
     "grade": true,
     "grade_id": "cell-b50894c5287d6873",
     "locked": true,
     "points": 1,
     "schema_version": 3,
     "solution": false,
     "task": false
    }
   },
   "outputs": [],
   "source": [
    "# Hidden Test Cell"
   ]
  },
  {
   "cell_type": "markdown",
   "metadata": {
    "nbgrader": {
     "grade": false,
     "grade_id": "cell-aec291ad54398494",
     "locked": false,
     "schema_version": 3,
     "solution": false,
     "task": false
    }
   },
   "source": [
    "**Part D)** Suppose that in an alternate universe, instead of spending time gathering a larger sample, you spent that time researching the \"true\" distributions of teenagers' calorie consumption. In that research, you found that boys have a true standard deviation of 932 calories and girls have a true standard deviation of 1071 calories. You have the same sample values as in **Part A)**.\n",
    "\n",
    "Select the **integer** of the test should be used for this situation. Save your answer as `p1.d`."
   ]
  },
  {
   "cell_type": "code",
   "execution_count": 9,
   "metadata": {
    "deletable": false,
    "nbgrader": {
     "cell_type": "code",
     "checksum": "201765e92c987cd20862ec6126a6fda3",
     "grade": false,
     "grade_id": "cell-08758811f5ea39bd",
     "locked": false,
     "schema_version": 3,
     "solution": true,
     "task": false
    }
   },
   "outputs": [],
   "source": [
    "p1.d <- 1\n"
   ]
  },
  {
   "cell_type": "code",
   "execution_count": 10,
   "metadata": {
    "deletable": false,
    "editable": false,
    "nbgrader": {
     "cell_type": "code",
     "checksum": "a0d38f018f91fff0b33de63b29577ed0",
     "grade": true,
     "grade_id": "cell-8f5a5e5aea8eb9ac",
     "locked": true,
     "points": 1,
     "schema_version": 3,
     "solution": false,
     "task": false
    }
   },
   "outputs": [],
   "source": [
    "# Hidden Test Cell"
   ]
  },
  {
   "cell_type": "markdown",
   "metadata": {
    "deletable": false,
    "editable": false,
    "nbgrader": {
     "cell_type": "markdown",
     "checksum": "34d9332743165f7bd077c4bbe7db7118",
     "grade": false,
     "grade_id": "cell-d1f96a186d3cf66d",
     "locked": true,
     "schema_version": 3,
     "solution": false,
     "task": false
    }
   },
   "source": [
    "# Problem 2\n",
    "\n",
    "Recently, Ralphie has been feeling sluggish during her regular \"Running With Ralphie\" event. She knows there are things that she could do to potentially improve her responsiveness, such as drinking coffee or taking a nap, but she wants to be sure. Being the Data Scientist that she is, she decides to create a experiment to test whether the different situations actually improve her reaction time. For each method, she does as the method requires, and a few hours later she has her handlers record her reaction time. These values are recorded in the `nap` and `coffee` variables. She tested the coffee method 10 times and the nap method 12 times. \n",
    "\n",
    "Ralphie also knows, from her supreme buffalo intuition, that her average reaction time is 490 units and that her reaction time measurements are normally distributed."
   ]
  },
  {
   "cell_type": "code",
   "execution_count": 11,
   "metadata": {
    "deletable": false,
    "editable": false,
    "nbgrader": {
     "cell_type": "code",
     "checksum": "62e008535d4483e57dc360a60cd92152",
     "grade": false,
     "grade_id": "cell-d6d4978e219bd91b",
     "locked": true,
     "schema_version": 3,
     "solution": false,
     "task": false
    }
   },
   "outputs": [],
   "source": [
    "# Sample size of each test\n",
    "n.coffee = 10\n",
    "n.nap = 12\n",
    "# The reaction time data for each method\n",
    "coffee = c(485.77, 490.86, 460.79, 528.74, 483.47, 526.24, 504.78, 460.7, 587.08, 484.13)\n",
    "nap = c(598.15, 518.69, 601.49, 598.62, 555.73, 458, 488.57, 520.26, 534.71, 655.23, 573.18, 495.05)"
   ]
  },
  {
   "cell_type": "markdown",
   "metadata": {
    "deletable": false,
    "editable": false,
    "nbgrader": {
     "cell_type": "markdown",
     "checksum": "a8ac8fc68787e29acc821409f9a51cb3",
     "grade": false,
     "grade_id": "cell-36947eaa18b513bb",
     "locked": true,
     "schema_version": 3,
     "solution": false,
     "task": false
    }
   },
   "source": [
    "**Part A)** Determine, at the $\\alpha=0.05$ significance level, if drinking coffee improved Ralphie's reaction time. For this, you will need to calculate an appropriate test statistic. Store this value as `p2.a.stat` and round the value to two decimal places. Then calculate the p-value for this test statistic. Store this value in `p2.a.p` and round it to two decimal places."
   ]
  },
  {
   "cell_type": "code",
   "execution_count": 12,
   "metadata": {
    "deletable": false,
    "nbgrader": {
     "cell_type": "code",
     "checksum": "9597e03b25a77bf3a31105b2ccf7576f",
     "grade": false,
     "grade_id": "cell-6b2d5d055be66e34",
     "locked": false,
     "schema_version": 3,
     "solution": true,
     "task": false
    }
   },
   "outputs": [
    {
     "data": {
      "text/html": [
       "0.94"
      ],
      "text/latex": [
       "0.94"
      ],
      "text/markdown": [
       "0.94"
      ],
      "text/plain": [
       "[1] 0.94"
      ]
     },
     "metadata": {},
     "output_type": "display_data"
    },
    {
     "data": {
      "text/html": [
       "0.81"
      ],
      "text/latex": [
       "0.81"
      ],
      "text/markdown": [
       "0.81"
      ],
      "text/plain": [
       "[1] 0.81"
      ]
     },
     "metadata": {},
     "output_type": "display_data"
    }
   ],
   "source": [
    "# Given data\n",
    "n.coffee <- 10\n",
    "mean.coffee <- mean(coffee)\n",
    "sd.coffee <- sd(coffee)\n",
    "mu_0 <- 490\n",
    "\n",
    "# Calculate the t-statistic\n",
    "t_stat_coffee <- (mean.coffee - mu_0) / (sd.coffee / sqrt(n.coffee))\n",
    "t_stat_coffee <- round(t_stat_coffee, 2)\n",
    "\n",
    "# Calculate the p-value\n",
    "p_value_coffee <- pt(t_stat_coffee, df = n.coffee - 1)\n",
    "p_value_coffee <- round(p_value_coffee, 2)\n",
    "\n",
    "# Store results\n",
    "p2.a.stat <- t_stat_coffee\n",
    "p2.a.p <- p_value_coffee\n",
    "\n",
    "p2.a.stat\n",
    "p2.a.p"
   ]
  },
  {
   "cell_type": "code",
   "execution_count": 13,
   "metadata": {
    "deletable": false,
    "editable": false,
    "nbgrader": {
     "cell_type": "code",
     "checksum": "0b8f8d21aebc37efbf7592b7478d8ae7",
     "grade": true,
     "grade_id": "cell-da4da8a0ae351115",
     "locked": true,
     "points": 1,
     "schema_version": 3,
     "solution": false,
     "task": false
    }
   },
   "outputs": [],
   "source": [
    "# Hidden Test Cell"
   ]
  },
  {
   "cell_type": "code",
   "execution_count": null,
   "metadata": {},
   "outputs": [],
   "source": []
  },
  {
   "cell_type": "markdown",
   "metadata": {
    "deletable": false,
    "editable": false,
    "nbgrader": {
     "cell_type": "markdown",
     "checksum": "4e96742b44b8f2c352e2c2191832a07c",
     "grade": false,
     "grade_id": "cell-1af4e006a6db0e17",
     "locked": true,
     "schema_version": 3,
     "solution": false,
     "task": false
    }
   },
   "source": [
    "**Part B)** Based on your answers to **Part A**, does drinking coffee improve Ralphie's reaction time at the $\\alpha=0.05$ significance level? Your answer should be the boolean `TRUE` if coffee improves her reaction time, and `FALSE` if it does not. Save your answer into variable `p2.b`. "
   ]
  },
  {
   "cell_type": "code",
   "execution_count": 14,
   "metadata": {
    "deletable": false,
    "nbgrader": {
     "cell_type": "code",
     "checksum": "62d7c3b8e1a7cc15b45de00557060d39",
     "grade": false,
     "grade_id": "cell-eda781839d124033",
     "locked": false,
     "schema_version": 3,
     "solution": true,
     "task": false
    }
   },
   "outputs": [
    {
     "data": {
      "text/html": [
       "FALSE"
      ],
      "text/latex": [
       "FALSE"
      ],
      "text/markdown": [
       "FALSE"
      ],
      "text/plain": [
       "[1] FALSE"
      ]
     },
     "metadata": {},
     "output_type": "display_data"
    }
   ],
   "source": [
    "p2.b <- p_value_coffee < 0.05\n",
    "\n",
    "p2.b"
   ]
  },
  {
   "cell_type": "code",
   "execution_count": 15,
   "metadata": {
    "deletable": false,
    "editable": false,
    "nbgrader": {
     "cell_type": "code",
     "checksum": "4b1823ca13b4715b4233617e5ad226b5",
     "grade": true,
     "grade_id": "cell-9e803171c3bd89b2",
     "locked": true,
     "points": 1,
     "schema_version": 3,
     "solution": false,
     "task": false
    }
   },
   "outputs": [],
   "source": [
    "# Hidden Test Cell"
   ]
  },
  {
   "cell_type": "markdown",
   "metadata": {
    "deletable": false,
    "editable": false,
    "nbgrader": {
     "cell_type": "markdown",
     "checksum": "64f97cdab00de1ed9521d7ce7736b568",
     "grade": false,
     "grade_id": "cell-c60380cdb9470735",
     "locked": true,
     "schema_version": 3,
     "solution": false,
     "task": false
    }
   },
   "source": [
    "**Part C)** Assuming that the true (unknown) variances for nap and coffee reaction times are equal, determine if there sufficient evidence, at the $\\alpha = 0.05$ significance level, to conclude that taking a nap promotes faster reaction time than drinking coffee. Again, calculate an appropriate test statistic and save it into variable `p2.c.stat`. Round this value to two decimal places. Then calculate the p-value for this test statistic and save it into variable `p2.c.p`. Round this value to three decimal places."
   ]
  },
  {
   "cell_type": "code",
   "execution_count": 16,
   "metadata": {
    "deletable": false,
    "nbgrader": {
     "cell_type": "code",
     "checksum": "75ca3e6f05991266df716b61f4da839b",
     "grade": false,
     "grade_id": "cell-2be7993e9ecdfcd1",
     "locked": false,
     "schema_version": 3,
     "solution": true,
     "task": false
    }
   },
   "outputs": [
    {
     "data": {
      "text/html": [
       "2.28"
      ],
      "text/latex": [
       "2.28"
      ],
      "text/markdown": [
       "2.28"
      ],
      "text/plain": [
       "[1] 2.28"
      ]
     },
     "metadata": {},
     "output_type": "display_data"
    },
    {
     "data": {
      "text/html": [
       "0.983"
      ],
      "text/latex": [
       "0.983"
      ],
      "text/markdown": [
       "0.983"
      ],
      "text/plain": [
       "[1] 0.983"
      ]
     },
     "metadata": {},
     "output_type": "display_data"
    }
   ],
   "source": [
    "# Given data\n",
    "coffee <- c(485.77, 490.86, 460.79, 528.74, 483.47, 526.24, 504.78, 460.7, 587.08, 484.13)\n",
    "nap <- c(598.15, 518.69, 601.49, 598.62, 555.73, 458, 488.57, 520.26, 534.71, 655.23, 573.18, 495.05)\n",
    "n.coffee <- 10\n",
    "n.nap <- 12\n",
    "\n",
    "# Calculate the means and standard deviations\n",
    "mean.coffee <- mean(coffee)\n",
    "mean.nap <- mean(nap)\n",
    "sd.coffee <- sd(coffee)\n",
    "sd.nap <- sd(nap)\n",
    "\n",
    "# Calculate the pooled standard deviation\n",
    "pooled_sd <- sqrt(((n.coffee - 1) * sd.coffee^2 + (n.nap - 1) * sd.nap^2) / (n.coffee + n.nap - 2))\n",
    "\n",
    "# Calculate the t-statistic (positive value)\n",
    "t_stat_nap_vs_coffee <- abs(mean.nap - mean.coffee) / (pooled_sd * sqrt(1/n.coffee + 1/n.nap))\n",
    "t_stat_nap_vs_coffee <- round(t_stat_nap_vs_coffee, 2)\n",
    "\n",
    "# Calculate the p-value for one-tailed test (testing if nap results in slower reaction time)\n",
    "p_value_nap_vs_coffee <- pt(t_stat_nap_vs_coffee, df = n.coffee + n.nap - 2, lower.tail = TRUE)\n",
    "p_value_nap_vs_coffee <- round(p_value_nap_vs_coffee, 3)\n",
    "\n",
    "# Store results\n",
    "p2.c.stat <- t_stat_nap_vs_coffee\n",
    "p2.c.p <- p_value_nap_vs_coffee\n",
    "\n",
    "p2.c.stat\n",
    "p2.c.p"
   ]
  },
  {
   "cell_type": "code",
   "execution_count": 17,
   "metadata": {
    "deletable": false,
    "editable": false,
    "nbgrader": {
     "cell_type": "code",
     "checksum": "a0bc341269ee3b1ded8f649acf8d37b3",
     "grade": true,
     "grade_id": "cell-ff56fae2074348bb",
     "locked": true,
     "points": 1,
     "schema_version": 3,
     "solution": false,
     "task": false
    }
   },
   "outputs": [],
   "source": [
    "# Hidden Test Cell"
   ]
  },
  {
   "cell_type": "markdown",
   "metadata": {
    "deletable": false,
    "editable": false,
    "nbgrader": {
     "cell_type": "markdown",
     "checksum": "74711f58a55e71d673ca2e88189b3ed0",
     "grade": false,
     "grade_id": "cell-79be6ff01c7116c2",
     "locked": true,
     "schema_version": 3,
     "solution": false,
     "task": false
    }
   },
   "source": [
    "**Part D)** Based on your answers to **Part C)**, is there sufficient evidence at the $\\alpha = 0.05$ significance level to conclude that taking a nap promotes faster reaction time in Ralphie than drinking coffee? Save your answer into variable `p2.d`. Save the boolean value `TRUE` if naps do result in Ralphie having a statistically significant faster reaction time than coffee, and `FALSE` otherwise."
   ]
  },
  {
   "cell_type": "code",
   "execution_count": 18,
   "metadata": {
    "deletable": false,
    "nbgrader": {
     "cell_type": "code",
     "checksum": "036c12b354db25004654c1c8988968a2",
     "grade": false,
     "grade_id": "cell-28f7898baba1b97b",
     "locked": false,
     "schema_version": 3,
     "solution": true,
     "task": false
    }
   },
   "outputs": [
    {
     "data": {
      "text/html": [
       "FALSE"
      ],
      "text/latex": [
       "FALSE"
      ],
      "text/markdown": [
       "FALSE"
      ],
      "text/plain": [
       "[1] FALSE"
      ]
     },
     "metadata": {},
     "output_type": "display_data"
    }
   ],
   "source": [
    "# Determine if there is sufficient evidence at the α = 0.05 level\n",
    "# Determine if there is sufficient evidence at the α = 0.05 level\n",
    "p2.d <- p_value_nap_vs_coffee < 0.05\n",
    "\n",
    "p2.d"
   ]
  },
  {
   "cell_type": "code",
   "execution_count": 19,
   "metadata": {
    "deletable": false,
    "editable": false,
    "nbgrader": {
     "cell_type": "code",
     "checksum": "9f6b98377600a8bd8a452836b4e05d89",
     "grade": true,
     "grade_id": "cell-4cf3bece49077b96",
     "locked": true,
     "points": 1,
     "schema_version": 3,
     "solution": false,
     "task": false
    }
   },
   "outputs": [],
   "source": [
    "# Hidden Test Cell"
   ]
  },
  {
   "cell_type": "markdown",
   "metadata": {
    "deletable": false,
    "editable": false,
    "nbgrader": {
     "cell_type": "markdown",
     "checksum": "c35335fe9073a67bd09170f096ffb426",
     "grade": false,
     "grade_id": "cell-575150710226cf57",
     "locked": true,
     "schema_version": 3,
     "solution": false,
     "task": false
    }
   },
   "source": [
    "# Question 3\n",
    "\n",
    "Now that you've learned about hypothesis testing and p-values, you should also be aware that these methods can be used incorrectly. Or, even worse, maliciously. Usually it involves manipulating the data or the test in such a way to produce a desired result. There's many methods for this, and they've got some cool names like [p-hacking and data dredging](https://www.explainxkcd.com/wiki/index.php/882:_Significant). In this problem, we will focus on the idea of using subsets of data to find a desired result.\n",
    "\n",
    "Nefarian just landed his first data science position as an intern at a new e-commerce company. His project was the design and test a new website layout that would lead to more purchases. To test his new layout, the company gathered four different groups of 50 customers and recorded how many of those ended up purchasing an item. This test was then repeated on multiple days. The effectiveness of Nefarian's layout is measured by the number of customers that made a purchase. This data is stored in the data frame `purchases`.\n",
    "\n",
    "Nefarian wants to land a permanent position at the company after his internship is over, so he really wants to impress his supervisors with his new layout. He knows that the site has an average purchase rate of $0.8$ and wants to see if his layout is an improvement."
   ]
  },
  {
   "cell_type": "code",
   "execution_count": 20,
   "metadata": {
    "deletable": false,
    "editable": false,
    "nbgrader": {
     "cell_type": "code",
     "checksum": "df7798343253da145ffb0a6591fc5049",
     "grade": false,
     "grade_id": "cell-5b1e9d904bdb9230",
     "locked": true,
     "schema_version": 3,
     "solution": false,
     "task": false
    }
   },
   "outputs": [
    {
     "data": {
      "text/html": [
       "<table>\n",
       "<caption>A data.frame: 6 × 2</caption>\n",
       "<thead>\n",
       "\t<tr><th></th><th scope=col>group</th><th scope=col>num_purchases</th></tr>\n",
       "\t<tr><th></th><th scope=col>&lt;fct&gt;</th><th scope=col>&lt;int&gt;</th></tr>\n",
       "</thead>\n",
       "<tbody>\n",
       "\t<tr><th scope=row>1</th><td>a</td><td>36</td></tr>\n",
       "\t<tr><th scope=row>2</th><td>a</td><td>42</td></tr>\n",
       "\t<tr><th scope=row>3</th><td>a</td><td>41</td></tr>\n",
       "\t<tr><th scope=row>4</th><td>a</td><td>40</td></tr>\n",
       "\t<tr><th scope=row>5</th><td>a</td><td>36</td></tr>\n",
       "\t<tr><th scope=row>6</th><td>a</td><td>42</td></tr>\n",
       "</tbody>\n",
       "</table>\n"
      ],
      "text/latex": [
       "A data.frame: 6 × 2\n",
       "\\begin{tabular}{r|ll}\n",
       "  & group & num\\_purchases\\\\\n",
       "  & <fct> & <int>\\\\\n",
       "\\hline\n",
       "\t1 & a & 36\\\\\n",
       "\t2 & a & 42\\\\\n",
       "\t3 & a & 41\\\\\n",
       "\t4 & a & 40\\\\\n",
       "\t5 & a & 36\\\\\n",
       "\t6 & a & 42\\\\\n",
       "\\end{tabular}\n"
      ],
      "text/markdown": [
       "\n",
       "A data.frame: 6 × 2\n",
       "\n",
       "| <!--/--> | group &lt;fct&gt; | num_purchases &lt;int&gt; |\n",
       "|---|---|---|\n",
       "| 1 | a | 36 |\n",
       "| 2 | a | 42 |\n",
       "| 3 | a | 41 |\n",
       "| 4 | a | 40 |\n",
       "| 5 | a | 36 |\n",
       "| 6 | a | 42 |\n",
       "\n"
      ],
      "text/plain": [
       "  group num_purchases\n",
       "1 a     36           \n",
       "2 a     42           \n",
       "3 a     41           \n",
       "4 a     40           \n",
       "5 a     36           \n",
       "6 a     42           "
      ]
     },
     "metadata": {},
     "output_type": "display_data"
    }
   ],
   "source": [
    "purchases = read.csv(\"purchases.csv\")\n",
    "purchases = purchases[,-1]\n",
    "names(purchases) = c(\"group\", \"num_purchases\")\n",
    "head(purchases)"
   ]
  },
  {
   "cell_type": "markdown",
   "metadata": {
    "deletable": false,
    "editable": false,
    "nbgrader": {
     "cell_type": "markdown",
     "checksum": "d35b4aca96a7a446f712666ce64168f8",
     "grade": false,
     "grade_id": "cell-7793a8ee6f2b0efa",
     "locked": true,
     "schema_version": 3,
     "solution": false,
     "task": false
    }
   },
   "source": [
    "**Part A)** Use the entire dataset to determine whether Nefarian's layout is an improvement over the original layout. Use an appropriate hypothesis test and a significance level of $\\alpha=0.05$. Store the p-value for this test in the variable `p3.a` and round your answer to two decimal places.\n",
    "\n",
    "**Note**: In case you haven't see a data frame before, think of it like a spreadsheet where each row is an instance each data and each column is a vector of specific values. To access the values in the \"num_purchases\" column, use `purchases$num_purchases`."
   ]
  },
  {
   "cell_type": "code",
   "execution_count": 21,
   "metadata": {
    "deletable": false,
    "nbgrader": {
     "cell_type": "code",
     "checksum": "e764dd88b69ce319c1dbfcc98790c9d1",
     "grade": false,
     "grade_id": "cell-128f02fad561e32d",
     "locked": false,
     "schema_version": 3,
     "solution": true,
     "task": false
    }
   },
   "outputs": [
    {
     "name": "stderr",
     "output_type": "stream",
     "text": [
      "Warning message:\n",
      "“Missing column names filled in: 'X1' [1]”\n",
      "Parsed with column specification:\n",
      "cols(\n",
      "  X1 = \u001b[32mcol_double()\u001b[39m,\n",
      "  group = \u001b[31mcol_character()\u001b[39m,\n",
      "  purchases = \u001b[32mcol_double()\u001b[39m\n",
      ")\n",
      "\n"
     ]
    },
    {
     "data": {
      "text/html": [
       "0"
      ],
      "text/latex": [
       "0"
      ],
      "text/markdown": [
       "0"
      ],
      "text/plain": [
       "[1] 0"
      ]
     },
     "metadata": {},
     "output_type": "display_data"
    }
   ],
   "source": [
    "# Load necessary library\n",
    "library(readr)\n",
    "library(stats)\n",
    "\n",
    "# Read the data\n",
    "purchases <- read_csv(\"purchases.csv\")\n",
    "\n",
    "# Remove the first column\n",
    "purchases <- purchases[, -1]\n",
    "\n",
    "# Rename the columns\n",
    "names(purchases) <- c(\"group\", \"num_purchases\")\n",
    "\n",
    "# Part A\n",
    "# Calculate the total number of purchases\n",
    "total_purchases <- sum(purchases$num_purchases)\n",
    "\n",
    "# Calculate the total number of trials\n",
    "total_trials <- nrow(purchases) * 50\n",
    "\n",
    "# Population proportion\n",
    "population_proportion <- 0.8\n",
    "\n",
    "# Sample proportion\n",
    "sample_proportion <- total_purchases / total_trials\n",
    "\n",
    "# Perform one-sample proportion test using binom.test for more precision\n",
    "binom_test <- binom.test(total_purchases, total_trials, p = population_proportion, alternative = \"greater\")\n",
    "\n",
    "# Get p-value and round it to two decimal places\n",
    "p3.a <- round(binom_test$p.value, 2)\n",
    "\n",
    "\n",
    "p3.a\n"
   ]
  },
  {
   "cell_type": "code",
   "execution_count": 22,
   "metadata": {
    "deletable": false,
    "editable": false,
    "nbgrader": {
     "cell_type": "code",
     "checksum": "36e75c5aec382989c57df1843c5f37a8",
     "grade": true,
     "grade_id": "cell-2edde207b7fca8a5",
     "locked": true,
     "points": 1,
     "schema_version": 3,
     "solution": false,
     "task": false
    }
   },
   "outputs": [],
   "source": [
    "# Hidden Test Cell"
   ]
  },
  {
   "cell_type": "markdown",
   "metadata": {
    "deletable": false,
    "editable": false,
    "nbgrader": {
     "cell_type": "markdown",
     "checksum": "4abf4a08b4be71162b97b2ea003855c2",
     "grade": false,
     "grade_id": "cell-4bc39dce910176b9",
     "locked": true,
     "schema_version": 3,
     "solution": false,
     "task": false
    }
   },
   "source": [
    "**Part B)** Based on your results from **Part A**, is Nefarian's layout an improvement over the original layout? Save your answer as `p3.b`. Save the boolean `TRUE` if it is a statistically significant improvement or `FALSE` if it is not."
   ]
  },
  {
   "cell_type": "code",
   "execution_count": 23,
   "metadata": {
    "deletable": false,
    "nbgrader": {
     "cell_type": "code",
     "checksum": "041523d21e80a85f8e974e938b8dff16",
     "grade": false,
     "grade_id": "cell-b09bcd4f64b15499",
     "locked": false,
     "schema_version": 3,
     "solution": true,
     "task": false
    }
   },
   "outputs": [
    {
     "data": {
      "text/html": [
       "FALSE"
      ],
      "text/latex": [
       "FALSE"
      ],
      "text/markdown": [
       "FALSE"
      ],
      "text/plain": [
       "[1] FALSE"
      ]
     },
     "metadata": {},
     "output_type": "display_data"
    }
   ],
   "source": [
    "# Part B\n",
    "# Check if the p-value is less than 0.05\n",
    "p3.b <- p3.a > 0.05\n",
    "p3.b"
   ]
  },
  {
   "cell_type": "code",
   "execution_count": 24,
   "metadata": {
    "deletable": false,
    "editable": false,
    "nbgrader": {
     "cell_type": "code",
     "checksum": "923245cb1e2e9b887f906ff8fb5a2ef3",
     "grade": true,
     "grade_id": "cell-8a94b03e7ade2da7",
     "locked": true,
     "points": 1,
     "schema_version": 3,
     "solution": false,
     "task": false
    }
   },
   "outputs": [],
   "source": [
    "# Hidden Test Cell"
   ]
  },
  {
   "cell_type": "markdown",
   "metadata": {
    "deletable": false,
    "editable": false,
    "nbgrader": {
     "cell_type": "markdown",
     "checksum": "42c3da78e43bd69228bf42937a5a78f8",
     "grade": false,
     "grade_id": "cell-4caa0da2c0f2563a",
     "locked": true,
     "schema_version": 3,
     "solution": false,
     "task": false
    }
   },
   "source": [
    "**Part C)** Bummer. But Nefarian *really* wants his design to be an improvement, so what's a little bad science? What if he can find a subset of data that supports his claim? Thinking back, Nefarian remembers that Group C supposedly contained some very impulsive customers. Using the same hypothesis from **Part A**, determine if Nafarian's layout was a statistically significant improvement at the $\\alpha=0.05$ significance level, if he only looks at samples from Group C. Save the p-value of this test as `p3.c`, rounded to three decimal places.\n",
    "\n",
    "**Note:** To filter the dataframe to only contain data for Group C, use `purchases[purchases$group==\"c\",]`."
   ]
  },
  {
   "cell_type": "code",
   "execution_count": 25,
   "metadata": {
    "deletable": false,
    "nbgrader": {
     "cell_type": "code",
     "checksum": "853f69cf7701b87488dbc40ed6d54c99",
     "grade": false,
     "grade_id": "cell-e1b740fdddf38fca",
     "locked": false,
     "schema_version": 3,
     "solution": true,
     "task": false
    }
   },
   "outputs": [
    {
     "data": {
      "text/html": [
       "0"
      ],
      "text/latex": [
       "0"
      ],
      "text/markdown": [
       "0"
      ],
      "text/plain": [
       "[1] 0"
      ]
     },
     "metadata": {},
     "output_type": "display_data"
    }
   ],
   "source": [
    "# Filter the data for Group C\n",
    "group_c_data <- purchases[purchases$group == \"c\",]\n",
    "\n",
    "# Calculate the total number of purchases for Group C\n",
    "total_purchases_c <- sum(group_c_data$num_purchases)\n",
    "\n",
    "# Calculate the total number of trials for Group C\n",
    "total_trials_c <- nrow(group_c_data) * 50\n",
    "\n",
    "# Perform one-sample proportion test for Group C using binom.test\n",
    "binom_test_c <- binom.test(total_purchases_c, total_trials_c, p = population_proportion, alternative = \"greater\")\n",
    "\n",
    "# Get p-value for Group C and round it to three decimal places\n",
    "p3.c <- round(binom_test_c$p.value, 3)\n",
    "\n",
    "p3.c"
   ]
  },
  {
   "cell_type": "code",
   "execution_count": 26,
   "metadata": {
    "deletable": false,
    "editable": false,
    "nbgrader": {
     "cell_type": "code",
     "checksum": "5e1c4e4c9a37214328a12f93c61220a6",
     "grade": true,
     "grade_id": "cell-c406b09a528713d2",
     "locked": true,
     "points": 1,
     "schema_version": 3,
     "solution": false,
     "task": false
    }
   },
   "outputs": [],
   "source": [
    "# Hidden Test Cell"
   ]
  },
  {
   "cell_type": "markdown",
   "metadata": {
    "deletable": false,
    "editable": false,
    "nbgrader": {
     "cell_type": "markdown",
     "checksum": "4e7f6f5d8526455bae97576307d0d9df",
     "grade": false,
     "grade_id": "cell-52f981bebd1e4417",
     "locked": true,
     "schema_version": 3,
     "solution": false,
     "task": false
    }
   },
   "source": [
    "**Part D)** Based on your results from Group C, is Nefarian's layout a statistically significant improvement over the original layout? Save your answer as `p3.d`. Save the boolean `TRUE` if it is a statistically significant improvement and `FALSE` otherwise."
   ]
  },
  {
   "cell_type": "code",
   "execution_count": 27,
   "metadata": {
    "deletable": false,
    "nbgrader": {
     "cell_type": "code",
     "checksum": "0953a503ee7b841a30dae2f6d8949fa1",
     "grade": false,
     "grade_id": "cell-192b4ab6c05eb1fa",
     "locked": false,
     "schema_version": 3,
     "solution": true,
     "task": false
    }
   },
   "outputs": [
    {
     "data": {
      "text/html": [
       "TRUE"
      ],
      "text/latex": [
       "TRUE"
      ],
      "text/markdown": [
       "TRUE"
      ],
      "text/plain": [
       "[1] TRUE"
      ]
     },
     "metadata": {},
     "output_type": "display_data"
    }
   ],
   "source": [
    "# Check if the p-value for Group C is less than 0.05\n",
    "p3.d <- p3.c < 0.05\n",
    "p3.d"
   ]
  },
  {
   "cell_type": "code",
   "execution_count": 28,
   "metadata": {
    "deletable": false,
    "editable": false,
    "nbgrader": {
     "cell_type": "code",
     "checksum": "529d7874b16e1bfc8030c5a2f8be7a16",
     "grade": true,
     "grade_id": "cell-aca09dcf9b8ea764",
     "locked": true,
     "points": 1,
     "schema_version": 3,
     "solution": false,
     "task": false
    }
   },
   "outputs": [],
   "source": [
    "# Hidden Test Cell"
   ]
  },
  {
   "cell_type": "code",
   "execution_count": null,
   "metadata": {},
   "outputs": [],
   "source": []
  }
 ],
 "metadata": {
  "kernelspec": {
   "display_name": "R",
   "language": "R",
   "name": "ir"
  },
  "language_info": {
   "codemirror_mode": "r",
   "file_extension": ".r",
   "mimetype": "text/x-r-source",
   "name": "R",
   "pygments_lexer": "r",
   "version": "3.6.3"
  }
 },
 "nbformat": 4,
 "nbformat_minor": 4
}
