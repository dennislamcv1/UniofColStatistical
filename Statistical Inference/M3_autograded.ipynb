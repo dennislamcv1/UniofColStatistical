{
 "cells": [
  {
   "cell_type": "markdown",
   "metadata": {
    "deletable": false,
    "editable": false,
    "nbgrader": {
     "cell_type": "markdown",
     "checksum": "93892ea85403ed10a0cb3f6522b5037d",
     "grade": false,
     "grade_id": "cell-b78cea505b8cc8d7",
     "locked": true,
     "schema_version": 3,
     "solution": false,
     "task": false
    }
   },
   "source": [
    "# Module 3 Autograded Assignment"
   ]
  },
  {
   "cell_type": "code",
   "execution_count": null,
   "metadata": {
    "deletable": false,
    "editable": false,
    "nbgrader": {
     "cell_type": "code",
     "checksum": "4b7526c4eee237c695eba1891cb54cc3",
     "grade": false,
     "grade_id": "cell-3f65e2e89854cc92",
     "locked": true,
     "schema_version": 3,
     "solution": false,
     "task": false
    }
   },
   "outputs": [],
   "source": [
    "# Load Necesary Packages\n",
    "library(testthat)"
   ]
  },
  {
   "cell_type": "markdown",
   "metadata": {
    "deletable": false,
    "editable": false,
    "nbgrader": {
     "cell_type": "markdown",
     "checksum": "fa5577f13c5df24c1fef157096b6ee60",
     "grade": false,
     "grade_id": "cell-22eed233c6983eb4",
     "locked": true,
     "schema_version": 3,
     "solution": false,
     "task": false
    }
   },
   "source": [
    "# Problem 1"
   ]
  },
  {
   "cell_type": "markdown",
   "metadata": {
    "deletable": false,
    "editable": false,
    "nbgrader": {
     "cell_type": "markdown",
     "checksum": "4cb360c6e9c3679b558a8bc127334d90",
     "grade": false,
     "grade_id": "cell-4fb050bf6964e1fc",
     "locked": true,
     "schema_version": 3,
     "solution": false,
     "task": false
    }
   },
   "source": [
    "You've been having some trouble sleeping, and have resorted to the time-honored tradition of counting sheep. Being a budding data scientist, you decided to track the number of sheep you count each night. Historically, you know that, on average, you count $75$ sheep before you to fall asleep, with a standard deviation of 27 sheep. So far, you've recorded your sheep counts for 36 nights."
   ]
  },
  {
   "cell_type": "markdown",
   "metadata": {
    "deletable": false,
    "editable": false,
    "nbgrader": {
     "cell_type": "markdown",
     "checksum": "d95a56fe31aaffc1b513eb7ffbebf6cf",
     "grade": false,
     "grade_id": "cell-1b8b9ada30e94ca1",
     "locked": true,
     "schema_version": 3,
     "solution": false,
     "task": false
    }
   },
   "source": [
    "**Part A)** On any given night, what is the probability that you count 80 or more sheep before you fall asleep? Save your answer as `p1.a`. Round your answer to two decimal places."
   ]
  },
  {
   "cell_type": "code",
   "execution_count": null,
   "metadata": {
    "deletable": false,
    "nbgrader": {
     "cell_type": "code",
     "checksum": "88b35766176c50de0143119e41f5b3dc",
     "grade": false,
     "grade_id": "cell-65f95eab97ca08e6",
     "locked": false,
     "schema_version": 3,
     "solution": true,
     "task": false
    }
   },
   "outputs": [],
   "source": [
    "p1.a = NA\n",
    "\n",
    "# your code here\n"
   ]
  },
  {
   "cell_type": "code",
   "execution_count": null,
   "metadata": {
    "deletable": false,
    "editable": false,
    "nbgrader": {
     "cell_type": "code",
     "checksum": "8040b200db519a9f722260ef942dd511",
     "grade": true,
     "grade_id": "cell-6b69f500e4f76ae8",
     "locked": true,
     "points": 1,
     "schema_version": 3,
     "solution": false,
     "task": false
    }
   },
   "outputs": [],
   "source": [
    "# Hidden Test Cell"
   ]
  },
  {
   "cell_type": "markdown",
   "metadata": {
    "deletable": false,
    "editable": false,
    "nbgrader": {
     "cell_type": "markdown",
     "checksum": "72971ebdf866899b574cff9e18629fb5",
     "grade": false,
     "grade_id": "cell-c8f821a7e3f45ad6",
     "locked": true,
     "schema_version": 3,
     "solution": false,
     "task": false
    }
   },
   "source": [
    "**Part B)** As fun as counting sheep is, you want to go to sleep. That means reducing the number of sheep you have to count. You decide to set a goal for yourself.\n",
    "\n",
    "What is the maximum mean $\\mu$ of the sheep count distribution such that there is a 0.001 probability that you count 80 or more sheep in any given night? Save your answer as `p1.b`. Round your answer to two decimal places."
   ]
  },
  {
   "cell_type": "code",
   "execution_count": null,
   "metadata": {
    "deletable": false,
    "nbgrader": {
     "cell_type": "code",
     "checksum": "1463241d79ceca895c55fbbdb6c43676",
     "grade": false,
     "grade_id": "cell-99c704737d49021c",
     "locked": false,
     "schema_version": 3,
     "solution": true,
     "task": false
    }
   },
   "outputs": [],
   "source": [
    "p1.b = NA\n",
    "\n",
    "# your code here\n"
   ]
  },
  {
   "cell_type": "code",
   "execution_count": null,
   "metadata": {
    "deletable": false,
    "editable": false,
    "nbgrader": {
     "cell_type": "code",
     "checksum": "2572f4064f22422e2ce8832e3a90dc0e",
     "grade": true,
     "grade_id": "cell-ed40454423c5675d",
     "locked": true,
     "points": 1,
     "schema_version": 3,
     "solution": false,
     "task": false
    }
   },
   "outputs": [],
   "source": [
    "# Hidden Test Cell"
   ]
  },
  {
   "cell_type": "markdown",
   "metadata": {},
   "source": [
    "**Part C)** Changing our internal sheep count distribution might be hard. However, we still want to reduce the number of sheep we have to count (and fall asleep). We could change the number of nights we count sheep. If we want the probability of counting 80 sheep to be 0.001, what is the minimum sample size that we would need to meet that requirement? Suppose the mean and standard deviation are their original values of $\\mu=75$ sheep and $\\sigma=27$ sheep. Save your answer as `p1.c`. Round your answer to two decimal places."
   ]
  },
  {
   "cell_type": "code",
   "execution_count": null,
   "metadata": {
    "deletable": false,
    "nbgrader": {
     "cell_type": "code",
     "checksum": "89963fad8e65242d4df890e74b90fef2",
     "grade": false,
     "grade_id": "cell-146eeb1e36ab398a",
     "locked": false,
     "schema_version": 3,
     "solution": true,
     "task": false
    }
   },
   "outputs": [],
   "source": [
    "p1.c = NA\n",
    "\n",
    "# your code here\n"
   ]
  },
  {
   "cell_type": "code",
   "execution_count": null,
   "metadata": {
    "deletable": false,
    "editable": false,
    "nbgrader": {
     "cell_type": "code",
     "checksum": "a986b5e9924c5c4c0109a99f7557c4ad",
     "grade": true,
     "grade_id": "cell-8f86cf37ec9d7b4d",
     "locked": true,
     "points": 1,
     "schema_version": 3,
     "solution": false,
     "task": false
    }
   },
   "outputs": [],
   "source": [
    "# Hidden Test Cell"
   ]
  },
  {
   "cell_type": "markdown",
   "metadata": {
    "deletable": false,
    "editable": false,
    "nbgrader": {
     "cell_type": "markdown",
     "checksum": "33b537a6f8e9c444674a3f05522611bd",
     "grade": false,
     "grade_id": "cell-f5733e03fa78b5bb",
     "locked": true,
     "schema_version": 3,
     "solution": false,
     "task": false
    }
   },
   "source": [
    "**Thought Exercise (Ungraded)**: Can you think of any problems of using a normal distribution to model the number of sheep we count each night? "
   ]
  },
  {
   "cell_type": "markdown",
   "metadata": {
    "deletable": false,
    "editable": false,
    "nbgrader": {
     "cell_type": "markdown",
     "checksum": "3ba98f84ec5c9e4d3e52fc80fe1fed0b",
     "grade": false,
     "grade_id": "cell-eab263903d00e075",
     "locked": true,
     "schema_version": 3,
     "solution": false,
     "task": false
    }
   },
   "source": [
    "# Problem 2\n",
    "\n",
    "Recall that Weak Law of Large Numbers is defined as the following:\n",
    "\n",
    "Suppose $X_1, X_2, X_3, \\dots$ is a sequence of IID random variables from any distribution with mean $\\mu$ and variance $\\sigma^2 < \\infty$. Then $\\bar{X} \\stackrel{\\text{P}}{\\rightarrow} \\mu$.\n",
    "\n",
    "In this problem, we're going to use simulation to see if this idea works with actual data. The three data vectors below are randomly generated from a uniform distribution with lower bound $a=5$ and upper bound $b=25$. The only difference between the vectors is the number of samples."
   ]
  },
  {
   "cell_type": "code",
   "execution_count": null,
   "metadata": {
    "deletable": false,
    "editable": false,
    "nbgrader": {
     "cell_type": "code",
     "checksum": "c92a3a12c08dc9ba6e913f32ccca6c2d",
     "grade": false,
     "grade_id": "cell-e61b4a2de6776998",
     "locked": true,
     "schema_version": 3,
     "solution": false,
     "task": false
    }
   },
   "outputs": [],
   "source": [
    "set.seed(404)\n",
    "v1 = runif(5, 5, 25)\n",
    "v2 = runif(25, 5, 25)\n",
    "v3 = runif(100, 5, 25)\n",
    "v4 = runif(1000, 5, 25)"
   ]
  },
  {
   "cell_type": "markdown",
   "metadata": {
    "deletable": false,
    "editable": false,
    "nbgrader": {
     "cell_type": "markdown",
     "checksum": "c62b3185dc9a78415774b362198d77e0",
     "grade": false,
     "grade_id": "cell-aec00a5a0a10e636",
     "locked": true,
     "schema_version": 3,
     "solution": false,
     "task": false
    }
   },
   "source": [
    "Do the simulated vectors agree with the theorem? Save a boolean value `TRUE` into `p2` if they does agree, or `FALSE` into `p2` if they do not agree."
   ]
  },
  {
   "cell_type": "code",
   "execution_count": null,
   "metadata": {
    "deletable": false,
    "nbgrader": {
     "cell_type": "code",
     "checksum": "6bf08a7d308358ccd38bbe819d0251ed",
     "grade": false,
     "grade_id": "cell-7a2c5bd7d52f744d",
     "locked": false,
     "schema_version": 3,
     "solution": true,
     "task": false
    }
   },
   "outputs": [],
   "source": [
    "p2 = NA\n",
    "\n",
    "# your code here\n"
   ]
  },
  {
   "cell_type": "code",
   "execution_count": null,
   "metadata": {
    "deletable": false,
    "editable": false,
    "nbgrader": {
     "cell_type": "code",
     "checksum": "3be95036fc1110cb15f98375b6d79ad9",
     "grade": true,
     "grade_id": "cell-273208be628c4a77",
     "locked": true,
     "points": 1,
     "schema_version": 3,
     "solution": false,
     "task": false
    }
   },
   "outputs": [],
   "source": [
    "# Hidden Test Cell"
   ]
  },
  {
   "cell_type": "markdown",
   "metadata": {
    "deletable": false,
    "editable": false,
    "nbgrader": {
     "cell_type": "markdown",
     "checksum": "31693dd39f62033e16c229ffdbc2843b",
     "grade": false,
     "grade_id": "cell-85864bba2496e21b",
     "locked": true,
     "schema_version": 3,
     "solution": false,
     "task": false
    }
   },
   "source": [
    "# Problem 3\n",
    "\n",
    "Suppose $X_n \\stackrel{\\text{d}}{\\rightarrow} 1$. What does $X_n$ converge in probability to? Save your answer as `p3`. Leave your answer as `NA` if there is not enough information to solve."
   ]
  },
  {
   "cell_type": "code",
   "execution_count": null,
   "metadata": {
    "deletable": false,
    "nbgrader": {
     "cell_type": "code",
     "checksum": "e582c85bd73996f627eb7d00f23d134a",
     "grade": false,
     "grade_id": "cell-18a49014f06448c5",
     "locked": false,
     "schema_version": 3,
     "solution": true,
     "task": false
    }
   },
   "outputs": [],
   "source": [
    "p3 = NA\n",
    "\n",
    "# your code here\n"
   ]
  },
  {
   "cell_type": "code",
   "execution_count": null,
   "metadata": {
    "deletable": false,
    "editable": false,
    "nbgrader": {
     "cell_type": "code",
     "checksum": "59957d3837d6c30b0bf2426f5591badb",
     "grade": true,
     "grade_id": "cell-6e0bb712defd44f4",
     "locked": true,
     "points": 1,
     "schema_version": 3,
     "solution": false,
     "task": false
    }
   },
   "outputs": [],
   "source": [
    "# Hidden Test Cell"
   ]
  },
  {
   "cell_type": "markdown",
   "metadata": {
    "deletable": false,
    "editable": false,
    "nbgrader": {
     "cell_type": "markdown",
     "checksum": "a70ce6b0544d2ab09cf4d345903ab92b",
     "grade": false,
     "grade_id": "cell-a271abceb6e13059",
     "locked": true,
     "schema_version": 3,
     "solution": false,
     "task": false
    }
   },
   "source": [
    "# Question 4\n",
    "\n",
    "Convergence in Probability, the Cramer-Rao Lower Bound, Mean-Squared Error and such are all justifications for why estimators are important, and how to choose between them. So, let's create a few estimators for some data and justify which is the best. The code cell below loads 100 samples from a Normal distribution with mean $\\mu=10$ and standard deviation $\\sigma=5$."
   ]
  },
  {
   "cell_type": "code",
   "execution_count": null,
   "metadata": {
    "deletable": false,
    "editable": false,
    "nbgrader": {
     "cell_type": "code",
     "checksum": "59092ee729009bd1774e415f57784490",
     "grade": false,
     "grade_id": "cell-f47cbb0c378f6477",
     "locked": true,
     "schema_version": 3,
     "solution": false,
     "task": false
    }
   },
   "outputs": [],
   "source": [
    "set.seed(0)\n",
    "p4.data = rnorm(100, 10, 5)"
   ]
  },
  {
   "cell_type": "markdown",
   "metadata": {
    "deletable": false,
    "editable": false,
    "nbgrader": {
     "cell_type": "markdown",
     "checksum": "3d285a0bf4088131d0d7c9a5ddaf3778",
     "grade": false,
     "grade_id": "cell-b4b947bc9086a5e5",
     "locked": true,
     "schema_version": 3,
     "solution": false,
     "task": false
    }
   },
   "source": [
    "**Part A)** Let these values be $X_1, \\dots, X_{100}$. Compute three estimators for $\\mu$ from this data.\n",
    "\n",
    "1. The MLE. Save this value as `p4.mle`. Round your answer to two decimal places.\n",
    "2. $\\dfrac{max(X_i)+min(X_i)}{2}$. Save this value as `p4.maxmin`. Round your answer to two decimal places.\n",
    "3. A constant value of 11. Save this value as `p4.c`.\n",
    "4. The median of the data. Save this value as `p4.med`. Round your answer to two decimal places."
   ]
  },
  {
   "cell_type": "code",
   "execution_count": null,
   "metadata": {
    "deletable": false,
    "nbgrader": {
     "cell_type": "code",
     "checksum": "f1c98f1db6b46666537f0a7e03b7c281",
     "grade": false,
     "grade_id": "cell-3cc1a16af10c0b00",
     "locked": false,
     "schema_version": 3,
     "solution": true,
     "task": false
    }
   },
   "outputs": [],
   "source": [
    "p4.mle = NA\n",
    "p4.maxmin = NA\n",
    "p4.c = NA\n",
    "p4.med = NA\n",
    "\n",
    "# your code here\n"
   ]
  },
  {
   "cell_type": "code",
   "execution_count": null,
   "metadata": {
    "deletable": false,
    "editable": false,
    "nbgrader": {
     "cell_type": "code",
     "checksum": "fac1827317c31112ae0627237c8d49d0",
     "grade": true,
     "grade_id": "cell-b706f53c7e5241e3",
     "locked": true,
     "points": 1,
     "schema_version": 3,
     "solution": false,
     "task": false
    }
   },
   "outputs": [],
   "source": [
    "# Hidden Test Cell"
   ]
  },
  {
   "cell_type": "markdown",
   "metadata": {
    "deletable": false,
    "editable": false,
    "nbgrader": {
     "cell_type": "markdown",
     "checksum": "9fcf7a8afc53fefef8f235632fdf0435",
     "grade": false,
     "grade_id": "cell-8a1330f29d27c333",
     "locked": true,
     "schema_version": 3,
     "solution": false,
     "task": false
    }
   },
   "source": [
    "**Part B)** Which of these estimators will converge in probability to the true mean? For your answer, save variable `p4.b` as a vector of numbers corresponding to the integer number of the estimators that will converge. \n",
    "\n",
    "For example, if the first and second estimators would converge to the mean, and the thrid and fourth would not, then your final answer would be `p4.b=c(1,2)`. The order of the elements within the vector does not matter. If no estimators meet this criteria, then your answer wil be an empty vector. "
   ]
  },
  {
   "cell_type": "code",
   "execution_count": null,
   "metadata": {
    "deletable": false,
    "nbgrader": {
     "cell_type": "code",
     "checksum": "817e0d64da9bfa35043910f8c677b8c5",
     "grade": false,
     "grade_id": "cell-481c91aa1d25eeea",
     "locked": false,
     "schema_version": 3,
     "solution": true,
     "task": false
    }
   },
   "outputs": [],
   "source": [
    "p4.b = NA\n",
    "\n",
    "# your code here\n"
   ]
  },
  {
   "cell_type": "code",
   "execution_count": null,
   "metadata": {
    "deletable": false,
    "editable": false,
    "nbgrader": {
     "cell_type": "code",
     "checksum": "733e92f4dff79dd79834362dfe5ed806",
     "grade": true,
     "grade_id": "cell-93386000b90aa3a9",
     "locked": true,
     "points": 1,
     "schema_version": 3,
     "solution": false,
     "task": false
    }
   },
   "outputs": [],
   "source": [
    "# Hidden Test Cell"
   ]
  },
  {
   "cell_type": "markdown",
   "metadata": {
    "deletable": false,
    "editable": false,
    "nbgrader": {
     "cell_type": "markdown",
     "checksum": "2eab686c325cfb3cf3cb16dfe1905913",
     "grade": false,
     "grade_id": "cell-35d91153cace99ec",
     "locked": true,
     "schema_version": 3,
     "solution": false,
     "task": false
    }
   },
   "source": [
    "**Part C)** From the estimators you chose from **Part B**, which has the smallest standard error? Save the integer number of your chosen best estimator as `p4.c`. If there was no estimators in **Part B**, leave your answer as `p4.c=NA`."
   ]
  },
  {
   "cell_type": "code",
   "execution_count": null,
   "metadata": {
    "deletable": false,
    "nbgrader": {
     "cell_type": "code",
     "checksum": "90a59c19b39f5be51bb5ba05a8baa9ab",
     "grade": false,
     "grade_id": "cell-6cce41231300b9fe",
     "locked": false,
     "schema_version": 3,
     "solution": true,
     "task": false
    }
   },
   "outputs": [],
   "source": [
    "p4.c = NA\n",
    "\n",
    "# your code here\n"
   ]
  },
  {
   "cell_type": "code",
   "execution_count": null,
   "metadata": {
    "deletable": false,
    "editable": false,
    "nbgrader": {
     "cell_type": "code",
     "checksum": "cfd18fa07c6c3a78e929854f85c752dd",
     "grade": true,
     "grade_id": "cell-15db629022c2b887",
     "locked": true,
     "points": 1,
     "schema_version": 3,
     "solution": false,
     "task": false
    }
   },
   "outputs": [],
   "source": [
    "# Hidden Test Cell"
   ]
  }
 ],
 "metadata": {
  "kernelspec": {
   "display_name": "R",
   "language": "R",
   "name": "ir"
  },
  "language_info": {
   "codemirror_mode": "r",
   "file_extension": ".r",
   "mimetype": "text/x-r-source",
   "name": "R",
   "pygments_lexer": "r",
   "version": "3.6.3"
  }
 },
 "nbformat": 4,
 "nbformat_minor": 4
}
