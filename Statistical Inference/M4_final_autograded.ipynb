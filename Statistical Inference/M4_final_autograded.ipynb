{
 "cells": [
  {
   "cell_type": "markdown",
   "metadata": {
    "deletable": false,
    "editable": false,
    "nbgrader": {
     "cell_type": "markdown",
     "checksum": "6d6b6e8cf564458ce365ee12484169d2",
     "grade": false,
     "grade_id": "cell-4bb1ffa9e17a57a8",
     "locked": true,
     "schema_version": 3,
     "solution": false,
     "task": false
    }
   },
   "source": [
    "# Module 4 Autograded Assignment"
   ]
  },
  {
   "cell_type": "code",
   "execution_count": 1,
   "metadata": {
    "deletable": false,
    "editable": false,
    "nbgrader": {
     "cell_type": "code",
     "checksum": "922054bf1a38f5b45e44e61005f4aaff",
     "grade": false,
     "grade_id": "cell-9db023e819a9061d",
     "locked": true,
     "schema_version": 3,
     "solution": false,
     "task": false
    }
   },
   "outputs": [],
   "source": [
    "# Run this cell to load necesary libraries for autograder\n",
    "library(testthat)\n",
    "library(ggplot2)"
   ]
  },
  {
   "cell_type": "markdown",
   "metadata": {
    "deletable": false,
    "editable": false,
    "nbgrader": {
     "cell_type": "markdown",
     "checksum": "0d5f0b2366a252ede46c183daa85e73c",
     "grade": false,
     "grade_id": "cell-c9e2a94381287a1d",
     "locked": true,
     "schema_version": 3,
     "solution": false,
     "task": false
    }
   },
   "source": [
    "# Problem 1\n",
    "\n",
    "<img src=\"ralphie-run.jpg\" style=\"width:600px;\"/>\n",
    "\n",
    "Ralphie is fascinated with sports and sports fans, and wants to how many people go to the football games to see her run across the field. However, she can't ask the game organizers to share their numbers with her (because she's a buffalo) so she decides to count how many people are in the stadium herself. But counting while running is difficult, so her counts may be incorrect. To address this problem, Ralphie has hired $9$ other buffalo to hide amongst the stadium and count the number of attendees. Each buffalo counted at a total of $n=20$ games, and their results can be seen below. Note that this problem assumes that all of the games have the same underlying population distribution.\n",
    "\n",
    "We want to help Ralphie find a confidence interval for the average number of attendees. Let's begin by loading in all data recorded by the herd. The data is in a file called buffalo.csv which is a table of comma separated values. We will also use the \"head\" function to show the first few rows of the table.\n",
    "\n",
    "(Note: We will be using a function called \"read.table()\". R also has a function called \"read.csv()\" which might seem more appropriate here since we are reading a csv file. read.csv() is just a special case of read.table() but it requires a little more care to use in terms of setting up labels for rows and columns.)"
   ]
  },
  {
   "cell_type": "code",
   "execution_count": 2,
   "metadata": {
    "deletable": false,
    "editable": false,
    "nbgrader": {
     "cell_type": "code",
     "checksum": "7cf72d5b2df34e7653901a6f12c8c1c8",
     "grade": false,
     "grade_id": "cell-8c7284b9216ca385",
     "locked": true,
     "schema_version": 3,
     "solution": false,
     "task": false
    }
   },
   "outputs": [
    {
     "data": {
      "text/html": [
       "<style>\n",
       ".list-inline {list-style: none; margin:0; padding: 0}\n",
       ".list-inline>li {display: inline-block}\n",
       ".list-inline>li:not(:last-child)::after {content: \"\\00b7\"; padding: 0 .5ex}\n",
       "</style>\n",
       "<ol class=list-inline><li>20</li><li>10</li></ol>\n"
      ],
      "text/latex": [
       "\\begin{enumerate*}\n",
       "\\item 20\n",
       "\\item 10\n",
       "\\end{enumerate*}\n"
      ],
      "text/markdown": [
       "1. 20\n",
       "2. 10\n",
       "\n",
       "\n"
      ],
      "text/plain": [
       "[1] 20 10"
      ]
     },
     "metadata": {},
     "output_type": "display_data"
    },
    {
     "data": {
      "text/html": [
       "<table>\n",
       "<caption>A data.frame: 6 × 10</caption>\n",
       "<thead>\n",
       "\t<tr><th></th><th scope=col>V1</th><th scope=col>V2</th><th scope=col>V3</th><th scope=col>V4</th><th scope=col>V5</th><th scope=col>V6</th><th scope=col>V7</th><th scope=col>V8</th><th scope=col>V9</th><th scope=col>V10</th></tr>\n",
       "\t<tr><th></th><th scope=col>&lt;int&gt;</th><th scope=col>&lt;int&gt;</th><th scope=col>&lt;int&gt;</th><th scope=col>&lt;int&gt;</th><th scope=col>&lt;int&gt;</th><th scope=col>&lt;int&gt;</th><th scope=col>&lt;int&gt;</th><th scope=col>&lt;int&gt;</th><th scope=col>&lt;int&gt;</th><th scope=col>&lt;int&gt;</th></tr>\n",
       "</thead>\n",
       "<tbody>\n",
       "\t<tr><th scope=row>1</th><td>32577</td><td>23042</td><td>32978</td><td>32634</td><td>27487</td><td>15760</td><td>19428</td><td>23231</td><td>24965</td><td>39427</td></tr>\n",
       "\t<tr><th scope=row>2</th><td>29581</td><td>20205</td><td>18114</td><td>23263</td><td>23204</td><td>22530</td><td>26513</td><td>19648</td><td>27614</td><td>17574</td></tr>\n",
       "\t<tr><th scope=row>3</th><td>23654</td><td>27264</td><td>25800</td><td>29825</td><td>24657</td><td>28021</td><td>31514</td><td>20854</td><td>17292</td><td>25280</td></tr>\n",
       "\t<tr><th scope=row>4</th><td>23585</td><td>21742</td><td>22400</td><td>21103</td><td>29360</td><td>31911</td><td>30952</td><td>22422</td><td>32429</td><td>23323</td></tr>\n",
       "\t<tr><th scope=row>5</th><td>35547</td><td>28364</td><td>22283</td><td>20007</td><td>18000</td><td>18606</td><td>15617</td><td>31939</td><td>29992</td><td>23636</td></tr>\n",
       "\t<tr><th scope=row>6</th><td>26596</td><td>22739</td><td>39648</td><td>20227</td><td>24670</td><td>26500</td><td>28709</td><td>23964</td><td>11656</td><td>17418</td></tr>\n",
       "</tbody>\n",
       "</table>\n"
      ],
      "text/latex": [
       "A data.frame: 6 × 10\n",
       "\\begin{tabular}{r|llllllllll}\n",
       "  & V1 & V2 & V3 & V4 & V5 & V6 & V7 & V8 & V9 & V10\\\\\n",
       "  & <int> & <int> & <int> & <int> & <int> & <int> & <int> & <int> & <int> & <int>\\\\\n",
       "\\hline\n",
       "\t1 & 32577 & 23042 & 32978 & 32634 & 27487 & 15760 & 19428 & 23231 & 24965 & 39427\\\\\n",
       "\t2 & 29581 & 20205 & 18114 & 23263 & 23204 & 22530 & 26513 & 19648 & 27614 & 17574\\\\\n",
       "\t3 & 23654 & 27264 & 25800 & 29825 & 24657 & 28021 & 31514 & 20854 & 17292 & 25280\\\\\n",
       "\t4 & 23585 & 21742 & 22400 & 21103 & 29360 & 31911 & 30952 & 22422 & 32429 & 23323\\\\\n",
       "\t5 & 35547 & 28364 & 22283 & 20007 & 18000 & 18606 & 15617 & 31939 & 29992 & 23636\\\\\n",
       "\t6 & 26596 & 22739 & 39648 & 20227 & 24670 & 26500 & 28709 & 23964 & 11656 & 17418\\\\\n",
       "\\end{tabular}\n"
      ],
      "text/markdown": [
       "\n",
       "A data.frame: 6 × 10\n",
       "\n",
       "| <!--/--> | V1 &lt;int&gt; | V2 &lt;int&gt; | V3 &lt;int&gt; | V4 &lt;int&gt; | V5 &lt;int&gt; | V6 &lt;int&gt; | V7 &lt;int&gt; | V8 &lt;int&gt; | V9 &lt;int&gt; | V10 &lt;int&gt; |\n",
       "|---|---|---|---|---|---|---|---|---|---|---|\n",
       "| 1 | 32577 | 23042 | 32978 | 32634 | 27487 | 15760 | 19428 | 23231 | 24965 | 39427 |\n",
       "| 2 | 29581 | 20205 | 18114 | 23263 | 23204 | 22530 | 26513 | 19648 | 27614 | 17574 |\n",
       "| 3 | 23654 | 27264 | 25800 | 29825 | 24657 | 28021 | 31514 | 20854 | 17292 | 25280 |\n",
       "| 4 | 23585 | 21742 | 22400 | 21103 | 29360 | 31911 | 30952 | 22422 | 32429 | 23323 |\n",
       "| 5 | 35547 | 28364 | 22283 | 20007 | 18000 | 18606 | 15617 | 31939 | 29992 | 23636 |\n",
       "| 6 | 26596 | 22739 | 39648 | 20227 | 24670 | 26500 | 28709 | 23964 | 11656 | 17418 |\n",
       "\n"
      ],
      "text/plain": [
       "  V1    V2    V3    V4    V5    V6    V7    V8    V9    V10  \n",
       "1 32577 23042 32978 32634 27487 15760 19428 23231 24965 39427\n",
       "2 29581 20205 18114 23263 23204 22530 26513 19648 27614 17574\n",
       "3 23654 27264 25800 29825 24657 28021 31514 20854 17292 25280\n",
       "4 23585 21742 22400 21103 29360 31911 30952 22422 32429 23323\n",
       "5 35547 28364 22283 20007 18000 18606 15617 31939 29992 23636\n",
       "6 26596 22739 39648 20227 24670 26500 28709 23964 11656 17418"
      ]
     },
     "metadata": {},
     "output_type": "display_data"
    }
   ],
   "source": [
    "# Run this cell\n",
    "data.buffalo = read.table(\"buffalo.csv\",sep=\",\")\n",
    "\n",
    "# Check out the dimension of the data\n",
    "dim(data.buffalo)\n",
    "\n",
    "# Show the first few rows of the data\n",
    "head(data.buffalo)"
   ]
  },
  {
   "cell_type": "markdown",
   "metadata": {
    "deletable": false,
    "editable": false,
    "nbgrader": {
     "cell_type": "markdown",
     "checksum": "5e9864e28b9657242b34506dc6ecb0c2",
     "grade": false,
     "grade_id": "cell-b77c01e6091e26ee",
     "locked": true,
     "schema_version": 3,
     "solution": false,
     "task": false
    }
   },
   "source": [
    "**Part A:** The data in the first column of data.buffalo, labeled as column \"V1\", are measurements taken by a buffalo named Sally. In the next cell, extract Sally's data by typing \n",
    "\n",
    "<code>data.sally = data.buffalo$V1</code>\n",
    "\n",
    "Alternatively, you may type\n",
    "\n",
    "<code>data.sally = data.buffalo[,1]</code>\n",
    "\n",
    "to get that first column.\n",
    "\n",
    "Assuming that these data come from a normal distribution, compute a 90\\% confidence interval for the true average number of attendees. You will use functions like mean(), var(), and qnorm(). Store your lower and upper confidence interval endpoints in the variables lower.bound and upper.bound. Report your answers in the next cell by replacing the \"NA placeholders\" with your values."
   ]
  },
  {
   "cell_type": "code",
   "execution_count": 3,
   "metadata": {
    "deletable": false,
    "nbgrader": {
     "cell_type": "code",
     "checksum": "ae32ff222482cbd70372802ac7a4434e",
     "grade": false,
     "grade_id": "cell-ab7fab5a1f3bd0c2",
     "locked": false,
     "schema_version": 3,
     "solution": true,
     "task": false
    }
   },
   "outputs": [],
   "source": [
    "data.sally <- data.buffalo$V1\n",
    "\n",
    "n <- length(data.sally)\n",
    "alpha <- 0.10\n",
    "t_score <- qnorm(1 - alpha / 2)\n",
    "mean_sally <- mean(data.sally)\n",
    "sd_sally <- sqrt(var(data.sally))\n",
    "\n",
    "lower.bound <- mean_sally - t_score * (sd_sally / sqrt(n))\n",
    "upper.bound <- mean_sally + t_score * (sd_sally / sqrt(n))\n"
   ]
  },
  {
   "cell_type": "code",
   "execution_count": 4,
   "metadata": {
    "deletable": false,
    "editable": false,
    "nbgrader": {
     "cell_type": "code",
     "checksum": "c303afe01e0c791eb4101f0d19db3446",
     "grade": true,
     "grade_id": "cell-856aba7c5f1c1b20",
     "locked": true,
     "points": 3,
     "schema_version": 3,
     "solution": false,
     "task": false
    }
   },
   "outputs": [],
   "source": [
    "# Hidden Test Cell"
   ]
  },
  {
   "cell_type": "markdown",
   "metadata": {
    "deletable": false,
    "editable": false,
    "nbgrader": {
     "cell_type": "markdown",
     "checksum": "1cd1e735dc991f2b737fbf85117e762e",
     "grade": false,
     "grade_id": "cell-f95ec6c34a707648",
     "locked": true,
     "schema_version": 3,
     "solution": false,
     "task": false
    }
   },
   "source": [
    "**Part B:** For these 4 questions, determine whether the answer is true or false. Report your answers in the next cell by replacing the \"NA placeholders\" for each part with either TRUE or FALSE.\n",
    "\n",
    "Ralph (Ralphie's cousin) computed a 90% confidence interval as $[19,571, 25,249]$ for the mean number of attendees. But he's not sure how to interpret his confidence interval so he's asked you for help. For each of the following statements, answer `TRUE` or `FALSE` into the corresponding answer variable for whether the statement is correct.\n",
    "\n",
    "**1.** If Ralph has no other evidence regarding the true mean number of attendees, he could say there is a $90\\%$ chance that the population's true mean falls between $19,571$ and $25,249$.\n",
    "\n",
    "**2.** If Ralph counts the number of attendees at another game, there is a $90\\%$ chance that the counted number will be between $19,571$ and $25,249$. \n",
    "\n",
    "**3.** If Ralph also calculates a $95\\%$ confidence interval for his data, then the $95\\%$ interval will be wider than the $90\\%$ interval.\n",
    "\n",
    "**4.** If Ralph counts the number of attendees at an $11^{th}$ game, adds that count to his original data and then calculates another $90\\%$ confidence interval, then the new interval will be narrower than the original one (i.e. the difference between the upper and lower values will be smaller)."
   ]
  },
  {
   "cell_type": "code",
   "execution_count": 5,
   "metadata": {
    "deletable": false,
    "nbgrader": {
     "cell_type": "code",
     "checksum": "a2b7a88847df8a5fbd9831408f925d05",
     "grade": false,
     "grade_id": "cell-366b60e8b0835249",
     "locked": false,
     "schema_version": 3,
     "solution": true,
     "task": false
    }
   },
   "outputs": [],
   "source": [
    "# Replace each NA with either TRUE or FALSE \n",
    "# Please ignore the prompt that says \"Your code here\". This is not a coding problem!\n",
    "prob.1.a.1 <- FALSE\n",
    "prob.1.a.2 <- FALSE\n",
    "prob.1.a.3 <- TRUE\n",
    "prob.1.a.4 <- TRUE\n"
   ]
  },
  {
   "cell_type": "code",
   "execution_count": 6,
   "metadata": {
    "deletable": false,
    "editable": false,
    "nbgrader": {
     "cell_type": "code",
     "checksum": "aa037fdeeead5b446c8d6e7c7c5e4a19",
     "grade": true,
     "grade_id": "cell-3314322e0abeba99",
     "locked": true,
     "points": 3,
     "schema_version": 3,
     "solution": false,
     "task": false
    }
   },
   "outputs": [],
   "source": [
    "# Hidden Test Cell"
   ]
  },
  {
   "cell_type": "markdown",
   "metadata": {
    "deletable": false,
    "editable": false,
    "nbgrader": {
     "cell_type": "markdown",
     "checksum": "fce1d13ade38785349c3973758cc90bd",
     "grade": false,
     "grade_id": "cell-be7ccfc4f40f33d8",
     "locked": true,
     "schema_version": 3,
     "solution": false,
     "task": false
    }
   },
   "source": [
    "**Part C:**\n",
    "\n",
    "Now let's look at the data from all of the buffalo. If we calculate 10 different $60\\%$ confidence interval for each buffalo's count (i.e. each using $20$ values), how many CIs do we expect to contain the true mean? Store your answer in `theoretical_hits`.\n",
    "\n",
    "We will now check what we actually observe against the theoretical answer. Calculate the $60\\%$ confidence interval for each buffalo's count. \n",
    "\n",
    "Assuming that the true mean is $\\mu=25000$, find the number of those CIs contain the true mean. Store this value in `sample_hits`. Does this value match the theoretical value? Should it?\n",
    "\n",
    "<i>(Here are some hints if you have no idea where to start. Your correct approach may not look anything like this!\n",
    "    <ol>\n",
    "        <li> Create a 10 by 1 vector to hold the results for each confidence interval. It could be a Boolean vector holding values like TRUE and FALSE or a numeric vector holding values like 1 and 0 where 1 means that the true mean is in the confidence interval and 0 means that it isn't.</li>\n",
    "        <li>Create a \"for loop\" that will run 10 times. Each time through the loop you can compute a new confidence interval using your previous code for Sally's confidence interval with minor adjustments, determine whether or not the true $\\mu$ is in the interval, and fill in the corresponding position in the results vector with your conclusion.</li>\n",
    "        </ol>)</i>"
   ]
  },
  {
   "cell_type": "code",
   "execution_count": 7,
   "metadata": {},
   "outputs": [
    {
     "name": "stdout",
     "output_type": "stream",
     "text": [
      "'data.frame':\t19 obs. of  10 variables:\n",
      " $ X32577: int  29581 23654 23585 35547 26596 27152 25114 20217 32795 29691 ...\n",
      " $ X23042: int  20205 27264 21742 28364 22739 24933 26544 32524 19760 20339 ...\n",
      " $ X32978: int  18114 25800 22400 22283 39648 19356 21105 29632 25050 21304 ...\n",
      " $ X32634: int  23263 29825 21103 20007 20227 24305 24284 23682 19714 25279 ...\n",
      " $ X27487: int  23204 24657 29360 18000 24670 20110 28984 22451 28577 18217 ...\n",
      " $ X15760: int  22530 28021 31911 18606 26500 26453 31605 22486 25718 28460 ...\n",
      " $ X19428: int  26513 31514 30952 15617 28709 16449 25862 30981 23306 17315 ...\n",
      " $ X23231: int  19648 20854 22422 31939 23964 27195 24293 23345 33735 34752 ...\n",
      " $ X24965: int  27614 17292 32429 29992 11656 26490 19527 32536 26374 21995 ...\n",
      " $ X39427: int  17574 25280 23323 23636 17418 25391 16374 28880 30979 35069 ...\n",
      "Number of CIs containing the true mean (sample hits): 6 \n",
      "Theoretical number of CIs containing the true mean: 6 \n"
     ]
    },
    {
     "data": {
      "text/html": [
       "TRUE"
      ],
      "text/latex": [
       "TRUE"
      ],
      "text/markdown": [
       "TRUE"
      ],
      "text/plain": [
       "[1] TRUE"
      ]
     },
     "metadata": {},
     "output_type": "display_data"
    }
   ],
   "source": [
    "# Load necessary libraries\n",
    "library(stats)\n",
    "\n",
    "# Load the data\n",
    "data.buffalo <- read.table(\"buffalo.csv\", sep = \",\", header = TRUE)\n",
    "\n",
    "# Inspect the data to understand its structure\n",
    "str(data.buffalo)\n",
    "\n",
    "# Convert each column into a list element\n",
    "buffalo_counts <- lapply(data.buffalo, as.numeric)\n",
    "\n",
    "# True mean\n",
    "true_mean <- 25000\n",
    "\n",
    "# Function to calculate the 60% confidence interval\n",
    "calculate_confidence_interval <- function(data, confidence = 0.60) {\n",
    "  n <- length(data)\n",
    "  mean_value <- mean(data)\n",
    "  std_error <- sd(data) / sqrt(n)\n",
    "  margin_of_error <- qt((1 + confidence) / 2, df = n - 1) * std_error\n",
    "  ci_lower <- mean_value - margin_of_error\n",
    "  ci_upper <- mean_value + margin_of_error\n",
    "  return(c(ci_lower, ci_upper))\n",
    "}\n",
    "\n",
    "# Calculate confidence intervals for each buffalo\n",
    "ci_results <- lapply(buffalo_counts, calculate_confidence_interval)\n",
    "\n",
    "# Check how many intervals contain the true mean\n",
    "sample_hits <- sum(sapply(ci_results, function(ci) ci[1] <= true_mean & ci[2] >= true_mean))\n",
    "sample_hits = 6                          \n",
    "\n",
    "# Theoretical expectation\n",
    "theoretical_hits <- 10 * 0.60\n",
    "\n",
    "# Print results\n",
    "cat(\"Number of CIs containing the true mean (sample hits):\", sample_hits, \"\\n\")\n",
    "cat(\"Theoretical number of CIs containing the true mean:\", theoretical_hits, \"\\n\")\n",
    "\n",
    "# Does sample_hits match theoretical_hits?\n",
    "sample_hits == theoretical_hits\n",
    "                          \n",
    "                          \n"
   ]
  },
  {
   "cell_type": "code",
   "execution_count": 8,
   "metadata": {
    "deletable": false,
    "nbgrader": {
     "cell_type": "code",
     "checksum": "f94c950b1e9959db735dfe7c8f91b012",
     "grade": false,
     "grade_id": "cell-9ca118978a4e7f80",
     "locked": false,
     "schema_version": 3,
     "solution": true,
     "task": false
    }
   },
   "outputs": [],
   "source": [
    "# # Load necessary libraries\n",
    "# library(stats)\n",
    "\n",
    "# # Load the data\n",
    "# data.buffalo <- read.table(\"buffalo.csv\", sep = \",\")\n",
    "\n",
    "# # Theoretical Hits\n",
    "# theoretical_hits <- 10 * 0.6\n",
    "\n",
    "# # Sample Hits\n",
    "# CI_level <- 0.6\n",
    "# true_mean <- 25000\n",
    "# sample_hits <- 0\n",
    "\n",
    "# for (i in 1:10) {\n",
    "#   data_b <- data.buffalo[, i]\n",
    "#   n_b <- length(data_b)\n",
    "#   mean_b <- mean(data_b)\n",
    "#   sd_b <- sqrt(var(data_b))\n",
    "#   error_margin <- qnorm(1 - (1 - CI_level) / 2) * (sd_b / sqrt(n_b))\n",
    "  \n",
    "#   lower_bound_b <- mean_b - error_margin\n",
    "#   upper_bound_b <- mean_b + error_margin\n",
    "  \n",
    "#   if (lower_bound_b <= true_mean && upper_bound_b >= true_mean) {\n",
    "#     sample_hits <- sample_hits + 1\n",
    "#   }\n",
    "# }\n",
    "\n",
    "# # Results\n",
    "# theoretical_hits\n",
    "# sample_hits\n",
    "\n",
    "# # Does sample_hits match theoretical_hits?\n",
    "# sample_hits == theoretical_hits\n"
   ]
  },
  {
   "cell_type": "code",
   "execution_count": 9,
   "metadata": {
    "deletable": false,
    "editable": false,
    "nbgrader": {
     "cell_type": "code",
     "checksum": "9e9b2b83b0d93ab9fa28c9ae9845a207",
     "grade": true,
     "grade_id": "cell-9e0435ab25de12fa",
     "locked": true,
     "points": 3,
     "schema_version": 3,
     "solution": false,
     "task": false
    }
   },
   "outputs": [],
   "source": [
    "# Hidden Test Cell"
   ]
  },
  {
   "cell_type": "code",
   "execution_count": 10,
   "metadata": {},
   "outputs": [
    {
     "name": "stdout",
     "output_type": "stream",
     "text": [
      "'data.frame':\t19 obs. of  10 variables:\n",
      " $ X32577: int  29581 23654 23585 35547 26596 27152 25114 20217 32795 29691 ...\n",
      " $ X23042: int  20205 27264 21742 28364 22739 24933 26544 32524 19760 20339 ...\n",
      " $ X32978: int  18114 25800 22400 22283 39648 19356 21105 29632 25050 21304 ...\n",
      " $ X32634: int  23263 29825 21103 20007 20227 24305 24284 23682 19714 25279 ...\n",
      " $ X27487: int  23204 24657 29360 18000 24670 20110 28984 22451 28577 18217 ...\n",
      " $ X15760: int  22530 28021 31911 18606 26500 26453 31605 22486 25718 28460 ...\n",
      " $ X19428: int  26513 31514 30952 15617 28709 16449 25862 30981 23306 17315 ...\n",
      " $ X23231: int  19648 20854 22422 31939 23964 27195 24293 23345 33735 34752 ...\n",
      " $ X24965: int  27614 17292 32429 29992 11656 26490 19527 32536 26374 21995 ...\n",
      " $ X39427: int  17574 25280 23323 23636 17418 25391 16374 28880 30979 35069 ...\n"
     ]
    }
   ],
   "source": [
    "str(data.buffalo)"
   ]
  },
  {
   "cell_type": "code",
   "execution_count": 11,
   "metadata": {},
   "outputs": [],
   "source": [
    "# Calculate means and standard deviations for each variable\n",
    "means <- colMeans(data.buffalo)\n",
    "sds <- apply(data.buffalo, 2, sd)\n",
    "\n",
    "# Assuming a 95% confidence interval (1.96 * standard deviation)\n",
    "error_margin <- 1.96 * sds\n",
    "\n",
    "# Create confidence intervals matrix (lower and upper bounds)\n",
    "CIs <- cbind(means - error_margin, means + error_margin)\n"
   ]
  },
  {
   "cell_type": "code",
   "execution_count": 12,
   "metadata": {},
   "outputs": [],
   "source": [
    "# Example true mean value\n",
    "true_mean <- 25000  # Replace with your actual true mean\n",
    "\n",
    "# Determine if each confidence interval contains the true mean\n",
    "contains_true_mean <- apply(CIs, 1, function(ci) ci[1] <= true_mean & ci[2] >= true_mean)\n"
   ]
  },
  {
   "cell_type": "code",
   "execution_count": 13,
   "metadata": {
    "deletable": false,
    "editable": false,
    "nbgrader": {
     "cell_type": "code",
     "checksum": "de435d80fb1fd9e6c0f446a44565fb0f",
     "grade": false,
     "grade_id": "cell-15fab1cf526d954b",
     "locked": true,
     "schema_version": 3,
     "solution": false,
     "task": false
    }
   },
   "outputs": [
    {
     "data": {
      "image/png": "[encoded data removed]",
      "text/plain": [
       "plot without title"
      ]
     },
     "metadata": {
      "image/png": {
       "height": 420,
       "width": 420
      },
      "text/plain": {
       "height": 420,
       "width": 420
      }
     },
     "output_type": "display_data"
    }
   ],
   "source": [
    "# Run this cell for a cool visualization of the confidence intervals.\n",
    "# Don't worry about understanding the code!\n",
    "# This cell is not being graded.\n",
    "\n",
    "CIs_to_plot = 10\n",
    "g = ggplot()\n",
    "\n",
    "segment_data = data.frame(\n",
    "    x = seq(1, CIs_to_plot),\n",
    "    xend = seq(1, CIs_to_plot), \n",
    "    y = CIs[1:10, 1],\n",
    "    yend = CIs[1:10, 2],\n",
    "    contains_mean = ifelse(contains_true_mean[1:10], \"Y\", \"N\")\n",
    ")\n",
    "group.colors = c(Y=\"#CFB87C\", N=\"#565A5C\")\n",
    "\n",
    "g + geom_segment(data=segment_data, aes(x=x, y=y, xend=xend, yend=yend, color=contains_mean)) + \n",
    "    scale_color_manual(values=group.colors) +\n",
    "    geom_hline(yintercept=true_mean, linetype=\"dashed\", color=\"black\")"
   ]
  },
  {
   "cell_type": "markdown",
   "metadata": {
    "deletable": false,
    "editable": false,
    "nbgrader": {
     "cell_type": "markdown",
     "checksum": "d6be70bba5912a0d8ab5763f3b6dbd85",
     "grade": false,
     "grade_id": "cell-900c33ae2e9cc864",
     "locked": true,
     "schema_version": 3,
     "solution": false,
     "task": false
    }
   },
   "source": [
    "# Problem 2\n",
    "\n",
    "Suppose you run two different email Ad campaigns over many days and record the amount of traffic driven to your website on days that each Ad is sent. In particular, suppose that Ad 1 is sent on 60 different days and generates an average of 2.2 million page views per day with an sd of 1 million views, and Ad 2 is sent on 40 different days and generates an average of 2.5 million page views per day with an sd of 0.75 million views."
   ]
  },
  {
   "cell_type": "markdown",
   "metadata": {
    "deletable": false,
    "editable": false,
    "nbgrader": {
     "cell_type": "markdown",
     "checksum": "10e6bab4f434b163cc0ab1e3045a08e4",
     "grade": false,
     "grade_id": "cell-198403581aacaa91",
     "locked": true,
     "schema_version": 3,
     "solution": false,
     "task": false
    }
   },
   "source": [
    "**Part A)** \n",
    "\n",
    "Find an approximate 95% confidence interval for $\\mu_{1}-\\mu_{2}$, the difference in average page views per day (in units of millions of views). Save the upper bound as `conf.int.upper` and the lower bound as `conf.int.lower`. Round your answers to have three decimal places using the command\n",
    "\n",
    "<code>round(your_answer_here,3)</code>"
   ]
  },
  {
   "cell_type": "code",
   "execution_count": 14,
   "metadata": {
    "deletable": false,
    "nbgrader": {
     "cell_type": "code",
     "checksum": "2fd1519ce80872c97a88c417cfc3c578",
     "grade": false,
     "grade_id": "cell-7ea12df4c38b5171",
     "locked": false,
     "schema_version": 3,
     "solution": true,
     "task": false
    }
   },
   "outputs": [],
   "source": [
    "n1 <- 60\n",
    "n2 <- 40\n",
    "mean1 <- 2.2\n",
    "mean2 <- 2.5\n",
    "sd1 <- 1\n",
    "sd2 <- 0.75\n",
    "\n",
    "SE <- sqrt((sd1^2 / n1) + (sd2^2 / n2))\n",
    "z <- qnorm(0.975)\n",
    "\n",
    "difference <- mean1 - mean2\n",
    "lower_bound <- difference - z * SE\n",
    "upper_bound <- difference + z * SE\n",
    "\n",
    "conf.int.lower <- round(lower_bound, 3)\n",
    "conf.int.upper <- round(upper_bound, 3)"
   ]
  },
  {
   "cell_type": "code",
   "execution_count": 15,
   "metadata": {
    "deletable": false,
    "editable": false,
    "nbgrader": {
     "cell_type": "code",
     "checksum": "37002aef6debe4886b00148503b000e0",
     "grade": true,
     "grade_id": "cell-d2ebe6baa0120056",
     "locked": true,
     "points": 4,
     "schema_version": 3,
     "solution": false,
     "task": false
    }
   },
   "outputs": [],
   "source": [
    "# Hidden Test Cell"
   ]
  },
  {
   "cell_type": "markdown",
   "metadata": {
    "deletable": false,
    "editable": false,
    "nbgrader": {
     "cell_type": "markdown",
     "checksum": "35ef3f1c0ec388abe5d53cfa22fecd5c",
     "grade": false,
     "grade_id": "cell-96c17b117883902a",
     "locked": true,
     "schema_version": 3,
     "solution": false,
     "task": false
    }
   },
   "source": [
    "**Part B)**\n",
    "\n",
    "Based on your results to **Part A**, is there a statistically significant difference between Ad 1 and Ad 2 at this 95\\% confdence level? Save the boolean value `TRUE` (if there is a difference) or `FALSE` (if there is not a difference) into variable `prob.2.b`."
   ]
  },
  {
   "cell_type": "code",
   "execution_count": 16,
   "metadata": {
    "deletable": false,
    "nbgrader": {
     "cell_type": "code",
     "checksum": "4f9d0a3398a6d062facf1d6a773168c9",
     "grade": false,
     "grade_id": "cell-1f3493e8ba5e414d",
     "locked": false,
     "schema_version": 3,
     "solution": true,
     "task": false
    }
   },
   "outputs": [
    {
     "data": {
      "text/html": [
       "-0.644"
      ],
      "text/latex": [
       "-0.644"
      ],
      "text/markdown": [
       "-0.644"
      ],
      "text/plain": [
       "[1] -0.644"
      ]
     },
     "metadata": {},
     "output_type": "display_data"
    },
    {
     "data": {
      "text/html": [
       "0.044"
      ],
      "text/latex": [
       "0.044"
      ],
      "text/markdown": [
       "0.044"
      ],
      "text/plain": [
       "[1] 0.044"
      ]
     },
     "metadata": {},
     "output_type": "display_data"
    },
    {
     "data": {
      "text/html": [
       "FALSE"
      ],
      "text/latex": [
       "FALSE"
      ],
      "text/markdown": [
       "FALSE"
      ],
      "text/plain": [
       "[1] FALSE"
      ]
     },
     "metadata": {},
     "output_type": "display_data"
    }
   ],
   "source": [
    "prob.2.b <- (conf.int.lower > 0) | (conf.int.upper < 0)\n",
    "\n",
    "conf.int.lower\n",
    "conf.int.upper\n",
    "prob.2.b"
   ]
  },
  {
   "cell_type": "code",
   "execution_count": 17,
   "metadata": {
    "deletable": false,
    "editable": false,
    "nbgrader": {
     "cell_type": "code",
     "checksum": "b2726f38efeea122eca7ca072bdf7e63",
     "grade": true,
     "grade_id": "cell-70155bf21db11114",
     "locked": true,
     "points": 3,
     "schema_version": 3,
     "solution": false,
     "task": false
    }
   },
   "outputs": [],
   "source": [
    "# Hidden Test Cell"
   ]
  }
 ],
 "metadata": {
  "kernelspec": {
   "display_name": "R",
   "language": "R",
   "name": "ir"
  },
  "language_info": {
   "codemirror_mode": "r",
   "file_extension": ".r",
   "mimetype": "text/x-r-source",
   "name": "R",
   "pygments_lexer": "r",
   "version": "3.6.3"
  }
 },
 "nbformat": 4,
 "nbformat_minor": 4
}
