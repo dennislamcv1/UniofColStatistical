{
 "cells": [
  {
   "cell_type": "markdown",
   "metadata": {
    "deletable": false,
    "editable": false,
    "nbgrader": {
     "cell_type": "markdown",
     "checksum": "ba5274527cd84be1f303da62563f4e09",
     "grade": false,
     "grade_id": "cell-cfa98577f413d996",
     "locked": true,
     "schema_version": 3,
     "solution": false,
     "task": false
    }
   },
   "source": [
    "# Summary Assignment 1\n",
    "<blockquote>This assignment will be autograded. To avoid autograder errors, please do not add or delete any cells. Also, run all cells even if they are hidden and not requiring any input from you.</blockquote>"
   ]
  },
  {
   "cell_type": "code",
   "execution_count": 1,
   "metadata": {
    "deletable": false,
    "editable": false,
    "nbgrader": {
     "cell_type": "code",
     "checksum": "a7e543e438ae35de9e51cb1d2556db56",
     "grade": false,
     "grade_id": "cell-81d3dcb436100e63",
     "locked": true,
     "schema_version": 3,
     "solution": false,
     "task": false
    }
   },
   "outputs": [],
   "source": [
    "# Load Necesary Libraries for Autograding\n",
    "library(testthat)"
   ]
  },
  {
   "cell_type": "markdown",
   "metadata": {
    "deletable": false,
    "editable": false,
    "nbgrader": {
     "cell_type": "markdown",
     "checksum": "890c09ef80d9834c0bd9fc2178cd310c",
     "grade": false,
     "grade_id": "cell-b660d6dd6140e9d9",
     "locked": true,
     "schema_version": 3,
     "solution": false,
     "task": false
    }
   },
   "source": [
    "# Problem 1\n",
    "\n",
    "Let the joint PDF $f(X,Y)$ be represented by the following table of values:\n",
    "\n",
    "\n",
    "|  | y=-1| y=0 | y=1 | y=2 |\n",
    "| :--- | :----: | :---: | :---: | ---: |\n",
    "| $x=2$ | 0.1 | 0 | 0.15 | 0 |\n",
    "| $x=3$ | 0.1 | 0.1 | 0.05 | 0.05 |\n",
    "| $x=4$ | 0 | 0.05 | 0.15 | 0.25 |"
   ]
  },
  {
   "cell_type": "markdown",
   "metadata": {
    "deletable": false,
    "editable": false,
    "nbgrader": {
     "cell_type": "markdown",
     "checksum": "80e03aaad89caad9d7798056fddfa5ec",
     "grade": false,
     "grade_id": "cell-25b99e5d010c8f12",
     "locked": true,
     "schema_version": 3,
     "solution": false,
     "task": false
    }
   },
   "source": [
    " **Part A)** Find $E[X]$ and $E[Y]$. Save your answers as `p1.a.ex` and `p1.a.ey`."
   ]
  },
  {
   "cell_type": "code",
   "execution_count": 2,
   "metadata": {
    "deletable": false,
    "nbgrader": {
     "cell_type": "code",
     "checksum": "ebff4591302576a2f85832c578415fc8",
     "grade": false,
     "grade_id": "cell-c01546f6e409fcc4",
     "locked": false,
     "schema_version": 3,
     "solution": true,
     "task": false
    }
   },
   "outputs": [],
   "source": [
    "p1.a.ex <- 3.20\n",
    "p1.a.ey <- 0.75"
   ]
  },
  {
   "cell_type": "code",
   "execution_count": 3,
   "metadata": {
    "deletable": false,
    "editable": false,
    "nbgrader": {
     "cell_type": "code",
     "checksum": "78fb7ab65d8dc28608552b1227d972fe",
     "grade": true,
     "grade_id": "cell-5b1889eb8efdf2a8",
     "locked": true,
     "points": 1,
     "schema_version": 3,
     "solution": false,
     "task": false
    }
   },
   "outputs": [],
   "source": [
    "# Hidden Test Cell\n",
    "# NOTE: This cell contains hidden tests. You will not see if you passed these tests until you submit your assignment.\n",
    "# Any cell labeled \"Hidden Test Cell\" MAY have hidden tests."
   ]
  },
  {
   "cell_type": "markdown",
   "metadata": {
    "deletable": false,
    "editable": false,
    "nbgrader": {
     "cell_type": "markdown",
     "checksum": "82b3dd3ffafb50c8659f484dae480716",
     "grade": false,
     "grade_id": "cell-7a0c471a95ce469b",
     "locked": true,
     "schema_version": 3,
     "solution": false,
     "task": false
    }
   },
   "source": [
    "**Part B)** Find $E[XY]$. Save your answer as `p1.b.exy`."
   ]
  },
  {
   "cell_type": "code",
   "execution_count": 4,
   "metadata": {
    "deletable": false,
    "nbgrader": {
     "cell_type": "code",
     "checksum": "41d0ffd93d95eef62309e2114fb86b98",
     "grade": false,
     "grade_id": "cell-5c78993b7207eb33",
     "locked": false,
     "schema_version": 3,
     "solution": true,
     "task": false
    }
   },
   "outputs": [],
   "source": [
    "p1.b.exy <- 2.85\n",
    "\n",
    "\n",
    "# your code here\n"
   ]
  },
  {
   "cell_type": "code",
   "execution_count": 5,
   "metadata": {
    "deletable": false,
    "editable": false,
    "nbgrader": {
     "cell_type": "code",
     "checksum": "a23d003bd351d468bac2f4fad6a94263",
     "grade": true,
     "grade_id": "cell-a07fd01df677d2f4",
     "locked": true,
     "points": 1,
     "schema_version": 3,
     "solution": false,
     "task": false
    }
   },
   "outputs": [],
   "source": [
    "# Hidden Test Cell"
   ]
  },
  {
   "cell_type": "markdown",
   "metadata": {
    "deletable": false,
    "editable": false,
    "nbgrader": {
     "cell_type": "markdown",
     "checksum": "c2ac22a509d0e17c952a433fe501bef6",
     "grade": false,
     "grade_id": "cell-6e86d541a3c34731",
     "locked": true,
     "schema_version": 3,
     "solution": false,
     "task": false
    }
   },
   "source": [
    "**Part C)** Are $X$ and $Y$ independent? Answer the boolean value `TRUE` if they are independent and `FALSE` if they are not independent. Save your answer as `p1.c`."
   ]
  },
  {
   "cell_type": "code",
   "execution_count": 6,
   "metadata": {
    "deletable": false,
    "nbgrader": {
     "cell_type": "code",
     "checksum": "fe14614bf3cce08e14aed7f4b4a25248",
     "grade": false,
     "grade_id": "cell-7adb1551e02e131a",
     "locked": false,
     "schema_version": 3,
     "solution": true,
     "task": false
    }
   },
   "outputs": [],
   "source": [
    "p1.c <- FALSE\n",
    "\n",
    "\n",
    "# your code here\n"
   ]
  },
  {
   "cell_type": "code",
   "execution_count": 7,
   "metadata": {
    "deletable": false,
    "editable": false,
    "nbgrader": {
     "cell_type": "code",
     "checksum": "204399f6410f78b4c72282f8c4075223",
     "grade": true,
     "grade_id": "cell-366a6f3eed5323a8",
     "locked": true,
     "points": 1,
     "schema_version": 3,
     "solution": false,
     "task": false
    }
   },
   "outputs": [],
   "source": [
    "# Hidden Test Cell\n",
    "if(!test_that(\"Check that answer is correct type\", expect_is(p1.c, \"logical\"))){\n",
    "    print(\"Make sure your answer is a boolean!\")\n",
    "}\n"
   ]
  },
  {
   "cell_type": "markdown",
   "metadata": {
    "deletable": false,
    "editable": false,
    "nbgrader": {
     "cell_type": "markdown",
     "checksum": "033c6243a4208ef079003a90c9026c15",
     "grade": false,
     "grade_id": "cell-da74f105361f6d65",
     "locked": true,
     "schema_version": 3,
     "solution": false,
     "task": false
    }
   },
   "source": [
    "**Part D)** Define $U=X+Y$. What is $P(U \\ge 4)$? Save your answer as `p1.d`."
   ]
  },
  {
   "cell_type": "code",
   "execution_count": 8,
   "metadata": {
    "deletable": false,
    "nbgrader": {
     "cell_type": "code",
     "checksum": "fff08d5b3bcb2bfcd459b229f6cc733f",
     "grade": false,
     "grade_id": "cell-3fe9def7644611b9",
     "locked": false,
     "schema_version": 3,
     "solution": true,
     "task": false
    }
   },
   "outputs": [],
   "source": [
    "p1.d <- 0.55\n",
    "\n",
    "\n",
    "# your code here\n"
   ]
  },
  {
   "cell_type": "code",
   "execution_count": 9,
   "metadata": {
    "deletable": false,
    "editable": false,
    "nbgrader": {
     "cell_type": "code",
     "checksum": "15b37e977aefe7911d39b5be5923234d",
     "grade": true,
     "grade_id": "cell-51a8c559d0bcea8d",
     "locked": true,
     "points": 1,
     "schema_version": 3,
     "solution": false,
     "task": false
    }
   },
   "outputs": [],
   "source": [
    "# Hidden Test Cell"
   ]
  },
  {
   "cell_type": "markdown",
   "metadata": {
    "deletable": false,
    "editable": false,
    "nbgrader": {
     "cell_type": "markdown",
     "checksum": "47790542d3b9dabce301b87b42b4cdb7",
     "grade": false,
     "grade_id": "cell-4a7d1bd03e9cf1ad",
     "locked": true,
     "schema_version": 3,
     "solution": false,
     "task": false
    }
   },
   "source": [
    "# Problem 2\n",
    "\n",
    "You work at the front desk of a library, and have to manage the printer. Sadly, the printer is old, and regularly jams. You know that your boss will only replace the printer if there is hard evidence, so you decide to record the number of times the printer was able to print successfully **before** it jammed. These values are recorded in `prints` below. Assume that these values are independent and identically distributed."
   ]
  },
  {
   "cell_type": "code",
   "execution_count": 10,
   "metadata": {
    "deletable": false,
    "editable": false,
    "nbgrader": {
     "cell_type": "code",
     "checksum": "33d0a125ec7a7a3dad34cd46c803bf69",
     "grade": false,
     "grade_id": "cell-2b296ffaf48368cd",
     "locked": true,
     "schema_version": 3,
     "solution": false,
     "task": false
    }
   },
   "outputs": [],
   "source": [
    "prints = c(12, 9, 3, 17, 5, 5, 3, 7, 0, 5, 17, 6, 9, 1, 13)"
   ]
  },
  {
   "cell_type": "markdown",
   "metadata": {
    "deletable": false,
    "editable": false,
    "nbgrader": {
     "cell_type": "markdown",
     "checksum": "9b72c0427e5c13d5b2cdc1d49a7035b5",
     "grade": false,
     "grade_id": "cell-8e76f8ad9c8d37fb",
     "locked": true,
     "schema_version": 3,
     "solution": false,
     "task": false
    }
   },
   "source": [
    "**Part A)** Let $X$ be a random variable for the number of times the printer was able to print before it jammed. Then $X$ follows a Geometric distribution with some unknown probability $p$, where $X_i \\in {0, 1, 2, \\dots}$. We want to estimate $p$, that is the probability that the printer fails. Using the method of moments, what is the estimate $\\hat{p}$?\n",
    "\n",
    "1. $\\dfrac{1}{\\bar{X}}$\n",
    "2. $\\dfrac{1}{\\bar{X}+1}$\n",
    "3. $\\dfrac{\\bar{X}}{\\bar{X}+1}$\n",
    "4. $\\dfrac{\\bar{X}}{1-\\bar{X}}$\n",
    "5. None of the above.\n",
    "\n",
    "Save the NUMBER corresponding to the correct answer into the variable `p2.a`."
   ]
  },
  {
   "cell_type": "code",
   "execution_count": 11,
   "metadata": {
    "deletable": false,
    "nbgrader": {
     "cell_type": "code",
     "checksum": "459914beff70b21439aea04034f5384d",
     "grade": false,
     "grade_id": "cell-efc73ab51f772fb8",
     "locked": false,
     "schema_version": 3,
     "solution": true,
     "task": false
    }
   },
   "outputs": [],
   "source": [
    "p2.a <- 2\n",
    "\n",
    "\n",
    "# your code here\n"
   ]
  },
  {
   "cell_type": "code",
   "execution_count": 12,
   "metadata": {
    "deletable": false,
    "editable": false,
    "nbgrader": {
     "cell_type": "code",
     "checksum": "2a514f163f318e5e8824754ac0102a46",
     "grade": true,
     "grade_id": "cell-877dddf3cb5c2df5",
     "locked": true,
     "points": 1,
     "schema_version": 3,
     "solution": false,
     "task": false
    }
   },
   "outputs": [],
   "source": [
    "# Hidden Test Cell\n",
    "if(!test_that(\"Make sure your answer is the NUMBER of the correct answer\", expect_is(p2.a, \"numeric\"))){\n",
    "    print(\"Make sure your answer is the number corresponding to your answer.\")\n",
    "}\n"
   ]
  },
  {
   "cell_type": "markdown",
   "metadata": {
    "deletable": false,
    "editable": false,
    "nbgrader": {
     "cell_type": "markdown",
     "checksum": "f0bbe91bb376a059491bf55e13293b25",
     "grade": false,
     "grade_id": "cell-9183ec2029a4ec6f",
     "locked": true,
     "schema_version": 3,
     "solution": false,
     "task": false
    }
   },
   "source": [
    "**Part B)** Given your solution to **Part A**, calculate the estimated probability for the recorded data. Save this value into `p2.b`. (Include at least 2 decimal places.)"
   ]
  },
  {
   "cell_type": "code",
   "execution_count": 13,
   "metadata": {
    "deletable": false,
    "nbgrader": {
     "cell_type": "code",
     "checksum": "20cdb31d2ecac82d6cf17f697c0b4f71",
     "grade": false,
     "grade_id": "cell-0219e0276879aa9c",
     "locked": false,
     "schema_version": 3,
     "solution": true,
     "task": false
    }
   },
   "outputs": [],
   "source": [
    "x_bar <- mean(prints)\n",
    "\n",
    "p2.b <- round(1 / (x_bar + 1), 2)\n",
    "\n",
    "\n",
    "# your code here\n"
   ]
  },
  {
   "cell_type": "code",
   "execution_count": 14,
   "metadata": {
    "deletable": false,
    "editable": false,
    "nbgrader": {
     "cell_type": "code",
     "checksum": "80404725fb90eb9a7c133dcb26f46cb4",
     "grade": true,
     "grade_id": "cell-c7827c9f732779f8",
     "locked": true,
     "points": 1,
     "schema_version": 3,
     "solution": false,
     "task": false
    }
   },
   "outputs": [],
   "source": [
    "# Hidden Test Cell"
   ]
  },
  {
   "cell_type": "markdown",
   "metadata": {
    "deletable": false,
    "editable": false,
    "nbgrader": {
     "cell_type": "markdown",
     "checksum": "7092ac104573c69468a859362696133f",
     "grade": false,
     "grade_id": "cell-a0c7c7cdf5321385",
     "locked": true,
     "schema_version": 3,
     "solution": false,
     "task": false
    }
   },
   "source": [
    "**Part C)** Let's try to visualize how well our estimator actually fits the data. \n",
    "\n",
    "To create a histogram of the \"prints\" data, one only needs to type <code>hist(prints)</code>. In order to store the results in a way the autograder can interpret, we need to store this in a variable like this: <code>my_hist_var=hist(prints)</code>\n",
    "\n",
    "Recall that the y-axis of a histogram can be scaled in many different ways.\n",
    "In order to make it so that the total area of each bar is the proportion of observations observed in the corresponding bin, we need to add \"prob=T\" (probability equals true) to the histogram command. This is called a \"density histogram\".\n",
    "\n",
    "Finally, to control the way the bins break on the x-axis, we need to give a sequence of break values. As an example unrelated to this exercise, we might type <code>my_hist_var = hist(mydata,prob=T,breaks=seq(1,8,1))</code> to put breaks at 1,2, ..., 8.\n",
    "\n",
    "For this exercise,  create a density histogram of the `prints` values and store it in variable `p2.c.hist`. Center the bars on the integers 0 through 17 by making breaks at -0.5, 0.5, 1.5, ..., 17.5. Add the curve of a geometric distribution, with the probability of what you estimated in **Part B**, ontop of your histogram. Think about how well this curve approximates the distribution."
   ]
  },
  {
   "cell_type": "code",
   "execution_count": 15,
   "metadata": {
    "deletable": false,
    "nbgrader": {
     "cell_type": "code",
     "checksum": "4268f9975bff034f4cbe5528391da063",
     "grade": false,
     "grade_id": "cell-bea143bf92a0563d",
     "locked": false,
     "schema_version": 3,
     "solution": true,
     "task": false
    },
    "scrolled": false
   },
   "outputs": [
    {
     "name": "stderr",
     "output_type": "stream",
     "text": [
      "Warning message in dgeom(x, prob = p2.b):\n",
      "“non-integer x = 0.170000”\n",
      "Warning message in dgeom(x, prob = p2.b):\n",
      "“non-integer x = 0.340000”\n",
      "Warning message in dgeom(x, prob = p2.b):\n",
      "“non-integer x = 0.510000”\n",
      "Warning message in dgeom(x, prob = p2.b):\n",
      "“non-integer x = 0.680000”\n",
      "Warning message in dgeom(x, prob = p2.b):\n",
      "“non-integer x = 0.850000”\n",
      "Warning message in dgeom(x, prob = p2.b):\n",
      "“non-integer x = 1.020000”\n",
      "Warning message in dgeom(x, prob = p2.b):\n",
      "“non-integer x = 1.190000”\n",
      "Warning message in dgeom(x, prob = p2.b):\n",
      "“non-integer x = 1.360000”\n",
      "Warning message in dgeom(x, prob = p2.b):\n",
      "“non-integer x = 1.530000”\n",
      "Warning message in dgeom(x, prob = p2.b):\n",
      "“non-integer x = 1.700000”\n",
      "Warning message in dgeom(x, prob = p2.b):\n",
      "“non-integer x = 1.870000”\n",
      "Warning message in dgeom(x, prob = p2.b):\n",
      "“non-integer x = 2.040000”\n",
      "Warning message in dgeom(x, prob = p2.b):\n",
      "“non-integer x = 2.210000”\n",
      "Warning message in dgeom(x, prob = p2.b):\n",
      "“non-integer x = 2.380000”\n",
      "Warning message in dgeom(x, prob = p2.b):\n",
      "“non-integer x = 2.550000”\n",
      "Warning message in dgeom(x, prob = p2.b):\n",
      "“non-integer x = 2.720000”\n",
      "Warning message in dgeom(x, prob = p2.b):\n",
      "“non-integer x = 2.890000”\n",
      "Warning message in dgeom(x, prob = p2.b):\n",
      "“non-integer x = 3.060000”\n",
      "Warning message in dgeom(x, prob = p2.b):\n",
      "“non-integer x = 3.230000”\n",
      "Warning message in dgeom(x, prob = p2.b):\n",
      "“non-integer x = 3.400000”\n",
      "Warning message in dgeom(x, prob = p2.b):\n",
      "“non-integer x = 3.570000”\n",
      "Warning message in dgeom(x, prob = p2.b):\n",
      "“non-integer x = 3.740000”\n",
      "Warning message in dgeom(x, prob = p2.b):\n",
      "“non-integer x = 3.910000”\n",
      "Warning message in dgeom(x, prob = p2.b):\n",
      "“non-integer x = 4.080000”\n",
      "Warning message in dgeom(x, prob = p2.b):\n",
      "“non-integer x = 4.250000”\n",
      "Warning message in dgeom(x, prob = p2.b):\n",
      "“non-integer x = 4.420000”\n",
      "Warning message in dgeom(x, prob = p2.b):\n",
      "“non-integer x = 4.590000”\n",
      "Warning message in dgeom(x, prob = p2.b):\n",
      "“non-integer x = 4.760000”\n",
      "Warning message in dgeom(x, prob = p2.b):\n",
      "“non-integer x = 4.930000”\n",
      "Warning message in dgeom(x, prob = p2.b):\n",
      "“non-integer x = 5.100000”\n",
      "Warning message in dgeom(x, prob = p2.b):\n",
      "“non-integer x = 5.270000”\n",
      "Warning message in dgeom(x, prob = p2.b):\n",
      "“non-integer x = 5.440000”\n",
      "Warning message in dgeom(x, prob = p2.b):\n",
      "“non-integer x = 5.610000”\n",
      "Warning message in dgeom(x, prob = p2.b):\n",
      "“non-integer x = 5.780000”\n",
      "Warning message in dgeom(x, prob = p2.b):\n",
      "“non-integer x = 5.950000”\n",
      "Warning message in dgeom(x, prob = p2.b):\n",
      "“non-integer x = 6.120000”\n",
      "Warning message in dgeom(x, prob = p2.b):\n",
      "“non-integer x = 6.290000”\n",
      "Warning message in dgeom(x, prob = p2.b):\n",
      "“non-integer x = 6.460000”\n",
      "Warning message in dgeom(x, prob = p2.b):\n",
      "“non-integer x = 6.630000”\n",
      "Warning message in dgeom(x, prob = p2.b):\n",
      "“non-integer x = 6.800000”\n",
      "Warning message in dgeom(x, prob = p2.b):\n",
      "“non-integer x = 6.970000”\n",
      "Warning message in dgeom(x, prob = p2.b):\n",
      "“non-integer x = 7.140000”\n",
      "Warning message in dgeom(x, prob = p2.b):\n",
      "“non-integer x = 7.310000”\n",
      "Warning message in dgeom(x, prob = p2.b):\n",
      "“non-integer x = 7.480000”\n",
      "Warning message in dgeom(x, prob = p2.b):\n",
      "“non-integer x = 7.650000”\n",
      "Warning message in dgeom(x, prob = p2.b):\n",
      "“non-integer x = 7.820000”\n",
      "Warning message in dgeom(x, prob = p2.b):\n",
      "“non-integer x = 7.990000”\n",
      "Warning message in dgeom(x, prob = p2.b):\n",
      "“non-integer x = 8.160000”\n",
      "Warning message in dgeom(x, prob = p2.b):\n",
      "“non-integer x = 8.330000”\n",
      "Warning message in dgeom(x, prob = p2.b):\n",
      "“non-integer x = 8.500000”\n",
      "Warning message in dgeom(x, prob = p2.b):\n",
      "“non-integer x = 8.670000”\n",
      "Warning message in dgeom(x, prob = p2.b):\n",
      "“non-integer x = 8.840000”\n",
      "Warning message in dgeom(x, prob = p2.b):\n",
      "“non-integer x = 9.010000”\n",
      "Warning message in dgeom(x, prob = p2.b):\n",
      "“non-integer x = 9.180000”\n",
      "Warning message in dgeom(x, prob = p2.b):\n",
      "“non-integer x = 9.350000”\n",
      "Warning message in dgeom(x, prob = p2.b):\n",
      "“non-integer x = 9.520000”\n",
      "Warning message in dgeom(x, prob = p2.b):\n",
      "“non-integer x = 9.690000”\n",
      "Warning message in dgeom(x, prob = p2.b):\n",
      "“non-integer x = 9.860000”\n",
      "Warning message in dgeom(x, prob = p2.b):\n",
      "“non-integer x = 10.030000”\n",
      "Warning message in dgeom(x, prob = p2.b):\n",
      "“non-integer x = 10.200000”\n",
      "Warning message in dgeom(x, prob = p2.b):\n",
      "“non-integer x = 10.370000”\n",
      "Warning message in dgeom(x, prob = p2.b):\n",
      "“non-integer x = 10.540000”\n",
      "Warning message in dgeom(x, prob = p2.b):\n",
      "“non-integer x = 10.710000”\n",
      "Warning message in dgeom(x, prob = p2.b):\n",
      "“non-integer x = 10.880000”\n",
      "Warning message in dgeom(x, prob = p2.b):\n",
      "“non-integer x = 11.050000”\n",
      "Warning message in dgeom(x, prob = p2.b):\n",
      "“non-integer x = 11.220000”\n",
      "Warning message in dgeom(x, prob = p2.b):\n",
      "“non-integer x = 11.390000”\n",
      "Warning message in dgeom(x, prob = p2.b):\n",
      "“non-integer x = 11.560000”\n",
      "Warning message in dgeom(x, prob = p2.b):\n",
      "“non-integer x = 11.730000”\n",
      "Warning message in dgeom(x, prob = p2.b):\n",
      "“non-integer x = 11.900000”\n",
      "Warning message in dgeom(x, prob = p2.b):\n",
      "“non-integer x = 12.070000”\n",
      "Warning message in dgeom(x, prob = p2.b):\n",
      "“non-integer x = 12.240000”\n",
      "Warning message in dgeom(x, prob = p2.b):\n",
      "“non-integer x = 12.410000”\n",
      "Warning message in dgeom(x, prob = p2.b):\n",
      "“non-integer x = 12.580000”\n",
      "Warning message in dgeom(x, prob = p2.b):\n",
      "“non-integer x = 12.750000”\n",
      "Warning message in dgeom(x, prob = p2.b):\n",
      "“non-integer x = 12.920000”\n",
      "Warning message in dgeom(x, prob = p2.b):\n",
      "“non-integer x = 13.090000”\n",
      "Warning message in dgeom(x, prob = p2.b):\n",
      "“non-integer x = 13.260000”\n",
      "Warning message in dgeom(x, prob = p2.b):\n",
      "“non-integer x = 13.430000”\n",
      "Warning message in dgeom(x, prob = p2.b):\n",
      "“non-integer x = 13.600000”\n",
      "Warning message in dgeom(x, prob = p2.b):\n",
      "“non-integer x = 13.770000”\n",
      "Warning message in dgeom(x, prob = p2.b):\n",
      "“non-integer x = 13.940000”\n",
      "Warning message in dgeom(x, prob = p2.b):\n",
      "“non-integer x = 14.110000”\n",
      "Warning message in dgeom(x, prob = p2.b):\n",
      "“non-integer x = 14.280000”\n",
      "Warning message in dgeom(x, prob = p2.b):\n",
      "“non-integer x = 14.450000”\n",
      "Warning message in dgeom(x, prob = p2.b):\n",
      "“non-integer x = 14.620000”\n",
      "Warning message in dgeom(x, prob = p2.b):\n",
      "“non-integer x = 14.790000”\n",
      "Warning message in dgeom(x, prob = p2.b):\n",
      "“non-integer x = 14.960000”\n",
      "Warning message in dgeom(x, prob = p2.b):\n",
      "“non-integer x = 15.130000”\n",
      "Warning message in dgeom(x, prob = p2.b):\n",
      "“non-integer x = 15.300000”\n",
      "Warning message in dgeom(x, prob = p2.b):\n",
      "“non-integer x = 15.470000”\n",
      "Warning message in dgeom(x, prob = p2.b):\n",
      "“non-integer x = 15.640000”\n",
      "Warning message in dgeom(x, prob = p2.b):\n",
      "“non-integer x = 15.810000”\n",
      "Warning message in dgeom(x, prob = p2.b):\n",
      "“non-integer x = 15.980000”\n",
      "Warning message in dgeom(x, prob = p2.b):\n",
      "“non-integer x = 16.150000”\n",
      "Warning message in dgeom(x, prob = p2.b):\n",
      "“non-integer x = 16.320000”\n",
      "Warning message in dgeom(x, prob = p2.b):\n",
      "“non-integer x = 16.490000”\n",
      "Warning message in dgeom(x, prob = p2.b):\n",
      "“non-integer x = 16.660000”\n",
      "Warning message in dgeom(x, prob = p2.b):\n",
      "“non-integer x = 16.830000”\n"
     ]
    },
    {
     "data": {
      "image/png": "[encoded data removed]",
      "text/plain": [
       "Plot with title “Density Histogram of Prints”"
      ]
     },
     "metadata": {
      "image/png": {
       "height": 420,
       "width": 420
      },
      "text/plain": {
       "height": 420,
       "width": 420
      }
     },
     "output_type": "display_data"
    }
   ],
   "source": [
    "# Density histogram\n",
    "p2.c.hist <- hist(\n",
    "  prints,\n",
    "  prob = TRUE,\n",
    "  breaks = seq(-0.5, 17.5, 1),\n",
    "  main = \"Density Histogram of Prints\",\n",
    "  xlab = \"Number of Prints Before Jam\"\n",
    ")\n",
    "\n",
    "# Add the geometric distribution curve\n",
    "curve(dgeom(x, prob = p2.b), \n",
    "      from = 0, \n",
    "      to = 17, \n",
    "      col = \"blue\", \n",
    "      add = TRUE, \n",
    "      lwd = 2)\n",
    "\n",
    "\n",
    "# your code here\n"
   ]
  },
  {
   "cell_type": "code",
   "execution_count": 16,
   "metadata": {
    "deletable": false,
    "editable": false,
    "nbgrader": {
     "cell_type": "code",
     "checksum": "543eb0cd06450deccc9751950291c66e",
     "grade": true,
     "grade_id": "cell-a46e96bac036f007",
     "locked": true,
     "points": 1,
     "schema_version": 3,
     "solution": false,
     "task": false
    }
   },
   "outputs": [],
   "source": [
    "# Hidden Test Cell"
   ]
  },
  {
   "cell_type": "markdown",
   "metadata": {
    "deletable": false,
    "editable": false,
    "nbgrader": {
     "cell_type": "markdown",
     "checksum": "8fd2eef04e5b7865d7792ad2b4dbbb13",
     "grade": false,
     "grade_id": "cell-d0290b80b6b155dc",
     "locked": true,
     "schema_version": 3,
     "solution": false,
     "task": false
    }
   },
   "source": [
    "**Part D)** what is the *true* underlying probability of this distribution? Save your answer as `p2.d` and round your answer to two decimal places. If it's not possible to answer this question, save your answer as the string `\"not possible\"`."
   ]
  },
  {
   "cell_type": "code",
   "execution_count": 17,
   "metadata": {
    "deletable": false,
    "nbgrader": {
     "cell_type": "code",
     "checksum": "ebc5453322de8a29dc9f4dcb3cee3019",
     "grade": false,
     "grade_id": "cell-ecb0de26dd3fad02",
     "locked": false,
     "schema_version": 3,
     "solution": true,
     "task": false
    }
   },
   "outputs": [],
   "source": [
    "p2.d <- \"not possible\"\n",
    "\n",
    "# your code here\n"
   ]
  },
  {
   "cell_type": "code",
   "execution_count": 18,
   "metadata": {
    "deletable": false,
    "editable": false,
    "nbgrader": {
     "cell_type": "code",
     "checksum": "61359141df8cadc0835370d66b9572d0",
     "grade": true,
     "grade_id": "cell-feef83956abbdc3a",
     "locked": true,
     "points": 1,
     "schema_version": 3,
     "solution": false,
     "task": false
    }
   },
   "outputs": [],
   "source": [
    "# Hidden Test Cell"
   ]
  },
  {
   "cell_type": "code",
   "execution_count": null,
   "metadata": {},
   "outputs": [],
   "source": []
  }
 ],
 "metadata": {
  "kernelspec": {
   "display_name": "R",
   "language": "R",
   "name": "ir"
  },
  "language_info": {
   "codemirror_mode": "r",
   "file_extension": ".r",
   "mimetype": "text/x-r-source",
   "name": "R",
   "pygments_lexer": "r",
   "version": "3.6.3"
  }
 },
 "nbformat": 4,
 "nbformat_minor": 4
}
