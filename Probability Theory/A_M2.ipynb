{
 "cells": [
  {
   "cell_type": "markdown",
   "metadata": {
    "deletable": false,
    "editable": false,
    "nbgrader": {
     "cell_type": "markdown",
     "checksum": "2a4abe79f0aa201875cacdab20c0a133",
     "grade": false,
     "grade_id": "cell-f252f07e0bcecc14",
     "locked": true,
     "schema_version": 3,
     "solution": false,
     "task": false
    }
   },
   "source": [
    "# Module 2 Assessment\n",
    "In this notebook you will use the rules of conditional probability to solve various problems. Please read each statement and answer all questions in the code blocks that contain \"your code here\". Feel free to add as many blocks as you need, only the original code blocks will be graded."
   ]
  },
  {
   "cell_type": "code",
   "execution_count": 1,
   "metadata": {
    "deletable": false,
    "editable": false,
    "nbgrader": {
     "cell_type": "code",
     "checksum": "4b4578ba2b48c47b0100c9a57db3ca76",
     "grade": false,
     "grade_id": "cell-09e0e7d3480826e1",
     "locked": true,
     "schema_version": 3,
     "solution": false,
     "task": false
    }
   },
   "outputs": [],
   "source": [
    "#Hidden cell that imports the test_that library\n",
    "library(testthat)"
   ]
  },
  {
   "cell_type": "markdown",
   "metadata": {
    "deletable": false,
    "editable": false,
    "nbgrader": {
     "cell_type": "markdown",
     "checksum": "937f957a908759ebaf3038b540d61396",
     "grade": false,
     "grade_id": "cell-bad16d2b40d8d116",
     "locked": true,
     "schema_version": 3,
     "solution": false,
     "task": false
    }
   },
   "source": [
    "### Problem 1"
   ]
  },
  {
   "cell_type": "markdown",
   "metadata": {
    "deletable": false,
    "editable": false,
    "nbgrader": {
     "cell_type": "markdown",
     "checksum": "9e2e6bf41c5dcdc89f7c844512ced96c",
     "grade": false,
     "grade_id": "cell-0c20af4f37e54273",
     "locked": true,
     "schema_version": 3,
     "solution": false,
     "task": false
    }
   },
   "source": [
    "The CU Boulder triathlon team has 12 women and 9 men. The team is\n",
    "going to a race and can only enter 5 participants. What is the probability of\n",
    "randomly selecting a race squad of 5 participants with exactly 3 women? Round your answer to three decimal places. Enter your solution into variable `p1.1`."
   ]
  },
  {
   "cell_type": "code",
   "execution_count": 2,
   "metadata": {
    "deletable": false,
    "nbgrader": {
     "cell_type": "code",
     "checksum": "6611d78f59618849e44e7d18a1df9ee2",
     "grade": false,
     "grade_id": "cell-58708b1e768f5ca4",
     "locked": false,
     "schema_version": 3,
     "solution": true,
     "task": false
    }
   },
   "outputs": [
    {
     "data": {
      "text/html": [
       "0.389"
      ],
      "text/latex": [
       "0.389"
      ],
      "text/markdown": [
       "0.389"
      ],
      "text/plain": [
       "[1] 0.389"
      ]
     },
     "metadata": {},
     "output_type": "display_data"
    }
   ],
   "source": [
    "# Number of ways to choose 3 women from 12\n",
    "women_comb <- choose(12, 3)\n",
    "\n",
    "# Number of ways to choose 2 men from 9\n",
    "men_comb <- choose(9, 2)\n",
    "\n",
    "# Total number of ways to choose 5 participants from 21\n",
    "total_comb <- choose(21, 5)\n",
    "\n",
    "# Probability\n",
    "p1.1 <- (women_comb * men_comb) / total_comb\n",
    "p1.1 <- round(p1.1, 3)\n",
    "\n",
    "p1.1\n"
   ]
  },
  {
   "cell_type": "code",
   "execution_count": 3,
   "metadata": {
    "deletable": false,
    "editable": false,
    "nbgrader": {
     "cell_type": "code",
     "checksum": "a804a754d283230b252256229c20f795",
     "grade": true,
     "grade_id": "cell-633968ca85c5d730",
     "locked": true,
     "points": 1,
     "schema_version": 3,
     "solution": false,
     "task": false
    }
   },
   "outputs": [],
   "source": [
    "# Hidden test cell"
   ]
  },
  {
   "cell_type": "markdown",
   "metadata": {
    "deletable": false,
    "editable": false,
    "nbgrader": {
     "cell_type": "markdown",
     "checksum": "60299dc3a9a467e6ee94000184ab303e",
     "grade": false,
     "grade_id": "cell-bc5688f0d8d5a6cf",
     "locked": true,
     "schema_version": 3,
     "solution": false,
     "task": false
    }
   },
   "source": [
    "### Problem 2"
   ]
  },
  {
   "cell_type": "markdown",
   "metadata": {
    "deletable": false,
    "editable": false,
    "nbgrader": {
     "cell_type": "markdown",
     "checksum": "1e775c96fc83f0e77026e00ffb86a03b",
     "grade": false,
     "grade_id": "cell-fe08ad90153f3dd5",
     "locked": true,
     "schema_version": 3,
     "solution": false,
     "task": false
    }
   },
   "source": [
    "Suppose a particular crime is committed in Jerry’s apartment. We’d like to know\n",
    "whether Newman is guilty of the crime. We are torn as to whether we think he is\n",
    "guilty: we think it’s equally likely that he is guilty or not guilty. Suppose that, in\n",
    "similar situations, we know that if a suspect is guilty, $85\\%$ of the time their finger\n",
    "prints are found at the scene, and, we know that if a suspect is not guilty, $30\\%$ of\n",
    "the time their finger prints are found at the scene."
   ]
  },
  {
   "cell_type": "markdown",
   "metadata": {
    "deletable": false,
    "editable": false,
    "nbgrader": {
     "cell_type": "markdown",
     "checksum": "18fa64ceeb5a482ab47db4c8f02512b8",
     "grade": false,
     "grade_id": "cell-24220e0ede3db5a0",
     "locked": true,
     "schema_version": 3,
     "solution": false,
     "task": false
    }
   },
   "source": [
    "**a)** What is the probability that Newman’s finger prints are found at the scene? Round your answer to three decimal places. Enter your solution into variable `p2.1`."
   ]
  },
  {
   "cell_type": "code",
   "execution_count": 4,
   "metadata": {
    "deletable": false,
    "nbgrader": {
     "cell_type": "code",
     "checksum": "7122bcf5ced374a3421a57b45a1158b5",
     "grade": false,
     "grade_id": "cell-11efc9faec88ab1b",
     "locked": false,
     "schema_version": 3,
     "solution": true,
     "task": false
    }
   },
   "outputs": [
    {
     "data": {
      "text/html": [
       "0.575"
      ],
      "text/latex": [
       "0.575"
      ],
      "text/markdown": [
       "0.575"
      ],
      "text/plain": [
       "[1] 0.575"
      ]
     },
     "metadata": {},
     "output_type": "display_data"
    }
   ],
   "source": [
    "# Given probabilities\n",
    "P_G <- 0.5\n",
    "P_notG <- 0.5\n",
    "P_F_given_G <- 0.85\n",
    "P_F_given_notG <- 0.30\n",
    "\n",
    "# Part (a)\n",
    "P_F <- P_F_given_G * P_G + P_F_given_notG * P_notG\n",
    "P_F <- round(P_F, 3)\n",
    "p2.1 = P_F\n",
    "p2.1"
   ]
  },
  {
   "cell_type": "code",
   "execution_count": 5,
   "metadata": {
    "deletable": false,
    "editable": false,
    "nbgrader": {
     "cell_type": "code",
     "checksum": "360e200e0af0d977cf2e9e4b2894d6ff",
     "grade": true,
     "grade_id": "cell-81a3943d4bfa938e",
     "locked": true,
     "points": 1,
     "schema_version": 3,
     "solution": false,
     "task": false
    }
   },
   "outputs": [],
   "source": [
    "# Hidden test cell"
   ]
  },
  {
   "cell_type": "markdown",
   "metadata": {
    "deletable": false,
    "editable": false,
    "nbgrader": {
     "cell_type": "markdown",
     "checksum": "c493e96ee32d4548e1e7a7c8c7eaddb2",
     "grade": false,
     "grade_id": "cell-b3e1e88ef7de16c8",
     "locked": true,
     "schema_version": 3,
     "solution": false,
     "task": false
    }
   },
   "source": [
    "**b)** If Newman’s finger prints are found at the scene, how likely is it that he is\n",
    "guilty? Round your answer to three decimal places. Enter your solution into variable `p2.2`."
   ]
  },
  {
   "cell_type": "code",
   "execution_count": 6,
   "metadata": {
    "deletable": false,
    "nbgrader": {
     "cell_type": "code",
     "checksum": "5670a233baa2979b032ac474d30a1c63",
     "grade": false,
     "grade_id": "cell-9826937798294c39",
     "locked": false,
     "schema_version": 3,
     "solution": true,
     "task": false
    }
   },
   "outputs": [
    {
     "data": {
      "text/html": [
       "0.739"
      ],
      "text/latex": [
       "0.739"
      ],
      "text/markdown": [
       "0.739"
      ],
      "text/plain": [
       "[1] 0.739"
      ]
     },
     "metadata": {},
     "output_type": "display_data"
    }
   ],
   "source": [
    "# Part (b)\n",
    "P_G_given_F <- (P_F_given_G * P_G) / P_F\n",
    "P_G_given_F <- round(P_G_given_F, 3)\n",
    "p2.2 <- P_G_given_F\n",
    "p2.2"
   ]
  },
  {
   "cell_type": "code",
   "execution_count": 7,
   "metadata": {
    "deletable": false,
    "editable": false,
    "nbgrader": {
     "cell_type": "code",
     "checksum": "91fe578cecc42dc20747cda34777aa84",
     "grade": true,
     "grade_id": "cell-a59941f480f9ae53",
     "locked": true,
     "points": 1,
     "schema_version": 3,
     "solution": false,
     "task": false
    }
   },
   "outputs": [],
   "source": [
    "# Hidden test cell"
   ]
  },
  {
   "cell_type": "markdown",
   "metadata": {
    "deletable": false,
    "editable": false,
    "nbgrader": {
     "cell_type": "markdown",
     "checksum": "b16d504c5994300947203a3873c38886",
     "grade": false,
     "grade_id": "cell-c2084ee507b5aea0",
     "locked": true,
     "schema_version": 3,
     "solution": false,
     "task": false
    }
   },
   "source": [
    "**c)** If Newman’s finger prints are not found at the scene, how likely is it that he\n",
    "is guilty? Round your answer to three decimal places. Enter your answer into variable `p2.3`."
   ]
  },
  {
   "cell_type": "code",
   "execution_count": 8,
   "metadata": {
    "deletable": false,
    "nbgrader": {
     "cell_type": "code",
     "checksum": "3e17eb1279681146ebc9b7b540835034",
     "grade": false,
     "grade_id": "cell-57c466b9c64d89ae",
     "locked": false,
     "schema_version": 3,
     "solution": true,
     "task": false
    }
   },
   "outputs": [
    {
     "data": {
      "text/html": [
       "0.176"
      ],
      "text/latex": [
       "0.176"
      ],
      "text/markdown": [
       "0.176"
      ],
      "text/plain": [
       "[1] 0.176"
      ]
     },
     "metadata": {},
     "output_type": "display_data"
    }
   ],
   "source": [
    "P_notF <- 1 - P_F\n",
    "P_notF_given_G <- 1 - P_F_given_G\n",
    "P_notF_given_notG <- 1 - P_F_given_notG\n",
    "P_G_given_notF <- (P_notF_given_G * P_G) / P_notF\n",
    "P_G_given_notF <- round(P_G_given_notF, 3)\n",
    "p2.3 <- P_G_given_notF\n",
    "p2.3"
   ]
  },
  {
   "cell_type": "code",
   "execution_count": 9,
   "metadata": {
    "deletable": false,
    "editable": false,
    "nbgrader": {
     "cell_type": "code",
     "checksum": "7530c21c1cb3867fcf12ea1ad5d58ccc",
     "grade": true,
     "grade_id": "cell-7dbff117c9640046",
     "locked": true,
     "points": 1,
     "schema_version": 3,
     "solution": false,
     "task": false
    }
   },
   "outputs": [],
   "source": [
    "# Hidden test cell"
   ]
  },
  {
   "cell_type": "markdown",
   "metadata": {
    "deletable": false,
    "editable": false,
    "nbgrader": {
     "cell_type": "markdown",
     "checksum": "bc3b0963a5f658b9dab17187841cf1d0",
     "grade": false,
     "grade_id": "cell-dd157036484dfbaf",
     "locked": true,
     "schema_version": 3,
     "solution": false,
     "task": false
    }
   },
   "source": [
    "### Problem 3"
   ]
  },
  {
   "cell_type": "markdown",
   "metadata": {
    "deletable": false,
    "editable": false,
    "nbgrader": {
     "cell_type": "markdown",
     "checksum": "efba57ac6a0f6576ad9fe631c965ef51",
     "grade": false,
     "grade_id": "cell-020a1d6c10114085",
     "locked": true,
     "schema_version": 3,
     "solution": false,
     "task": false
    }
   },
   "source": [
    "The game of Yahtzee is played with five fair dice. The goal is to roll certain\n",
    "‘hands’, such as Yahtzee (all five dice showing the same number) or a full house\n",
    "(three of a kind and two of a kind). In the first round of a player’s turn, the player\n",
    "rolls all five dice. Based on the outcome of that roll, the player has a second and\n",
    "third round, where he/she can then choose to re-roll any subset of the dice to get\n",
    "a desired hand."
   ]
  },
  {
   "cell_type": "markdown",
   "metadata": {
    "deletable": false,
    "editable": false,
    "nbgrader": {
     "cell_type": "markdown",
     "checksum": "91d46ff58f20379ac831770848f180e6",
     "grade": false,
     "grade_id": "cell-5b8ca03667ad6d53",
     "locked": true,
     "schema_version": 3,
     "solution": false,
     "task": false
    }
   },
   "source": [
    "**a)** What is the probability of rolling a Yahtzee (all 5 dice showing the same number) on the first round? Round your answer to 4 decimal places. Enter your answer into variable `p3.1`."
   ]
  },
  {
   "cell_type": "code",
   "execution_count": 10,
   "metadata": {
    "deletable": false,
    "nbgrader": {
     "cell_type": "code",
     "checksum": "f438dc60ac92822a8f3120f64b817d7e",
     "grade": false,
     "grade_id": "cell-37571027aac6dcbd",
     "locked": false,
     "schema_version": 3,
     "solution": true,
     "task": false
    }
   },
   "outputs": [
    {
     "data": {
      "text/html": [
       "8e-04"
      ],
      "text/latex": [
       "8e-04"
      ],
      "text/markdown": [
       "8e-04"
      ],
      "text/plain": [
       "[1] 8e-04"
      ]
     },
     "metadata": {},
     "output_type": "display_data"
    }
   ],
   "source": [
    "# Total number of outcomes for 5 dice\n",
    "total_outcomes <- 6^5\n",
    "\n",
    "# Number of favorable outcomes for Yahtzee (all five dice showing the same number)\n",
    "favorable_outcomes_yahtzee <- 6\n",
    "\n",
    "# Probability of rolling a Yahtzee on the first roll\n",
    "p3.1 <- favorable_outcomes_yahtzee / total_outcomes\n",
    "p3.1 <- round(p3.1, 4)\n",
    "p3.1\n"
   ]
  },
  {
   "cell_type": "code",
   "execution_count": 11,
   "metadata": {
    "deletable": false,
    "editable": false,
    "nbgrader": {
     "cell_type": "code",
     "checksum": "4b2aac574f3532e16b0c7d018dc55769",
     "grade": true,
     "grade_id": "cell-c91e32e3d0406cb4",
     "locked": true,
     "points": 1,
     "schema_version": 3,
     "solution": false,
     "task": false
    }
   },
   "outputs": [],
   "source": [
    "# Hidden test cell"
   ]
  },
  {
   "cell_type": "markdown",
   "metadata": {
    "deletable": false,
    "editable": false,
    "nbgrader": {
     "cell_type": "markdown",
     "checksum": "7ac191fa8203f3b2d53815fbfa74a121",
     "grade": false,
     "grade_id": "cell-e7bb5b8f4e472794",
     "locked": true,
     "schema_version": 3,
     "solution": false,
     "task": false
    }
   },
   "source": [
    "**b)** Suppose that, on the second round, the dice are {2, 3, 4, 6, 6}. You decide to\n",
    "re-roll both sixes in the third round. What is the probability that you roll\n",
    "either a small straight (exactly four dice are in a row) or a large straight (exactly five\n",
    "dice are in a row)? Round your answer to three decimal places. Enter your solution into variable `p3.2`. (Note that to be \"in a row\" means that the dice come up with numbers that could be arranged in a row. Examples of exactly 5 numbers in a row are \"1,2,3,4,5\" or  \"2,3,4,5,6\". You may want to look up small and large straights in Yhatzee if you are unfamilar with the game or confused by this terminology)."
   ]
  },
  {
   "cell_type": "code",
   "execution_count": 12,
   "metadata": {
    "deletable": false,
    "nbgrader": {
     "cell_type": "code",
     "checksum": "3feaaaa54d5f7667f15c4a2fb0edce73",
     "grade": false,
     "grade_id": "cell-e7077af6a32f566a",
     "locked": false,
     "schema_version": 3,
     "solution": true,
     "task": false
    }
   },
   "outputs": [
    {
     "data": {
      "text/html": [
       "0.278"
      ],
      "text/latex": [
       "0.278"
      ],
      "text/markdown": [
       "0.278"
      ],
      "text/plain": [
       "[1] 0.278"
      ]
     },
     "metadata": {},
     "output_type": "display_data"
    }
   ],
   "source": [
    "# Total number of outcomes for re-rolling 2 dice\n",
    "total_outcomes_reroll <- 6^2\n",
    "\n",
    "# Number of favorable outcomes for small straight or large straight\n",
    "# Possible outcomes to achieve small straight: {2, 3, 4, 1}, {2, 3, 4, 5}, {2, 3, 4, 6}, {3, 4, 5, 6}\n",
    "# Possible outcomes to achieve large straight: {1, 2, 3, 4, 5}, {2, 3, 4, 5, 6}\n",
    "favorable_outcomes_small_straight <- 3 + 3 + 1 + 1  # 4 possible favorable outcomes\n",
    "favorable_outcomes_large_straight <- 1 + 1  # 2 possible favorable outcomes\n",
    "\n",
    "# Total favorable outcomes\n",
    "total_favorable_outcomes <- favorable_outcomes_small_straight + favorable_outcomes_large_straight\n",
    "\n",
    "# Probability of getting either a small or large straight\n",
    "p3.2 <- total_favorable_outcomes / total_outcomes_reroll\n",
    "p3.2 <- round(p3.2, 3)\n",
    "p3.2"
   ]
  },
  {
   "cell_type": "code",
   "execution_count": 13,
   "metadata": {
    "deletable": false,
    "editable": false,
    "nbgrader": {
     "cell_type": "code",
     "checksum": "8739eb7fd535a0a3a76b123011ccdcc3",
     "grade": true,
     "grade_id": "cell-6d8b6a8d81153a8b",
     "locked": true,
     "points": 1,
     "schema_version": 3,
     "solution": false,
     "task": false
    }
   },
   "outputs": [],
   "source": [
    "# Hidden test cell"
   ]
  },
  {
   "cell_type": "markdown",
   "metadata": {
    "deletable": false,
    "editable": false,
    "nbgrader": {
     "cell_type": "markdown",
     "checksum": "982c8f62ef07f34ccf67851d235cccf1",
     "grade": false,
     "grade_id": "cell-b50ead4f4783ed43",
     "locked": true,
     "schema_version": 3,
     "solution": false,
     "task": false
    }
   },
   "source": [
    "**c)** What is the probability of rolling a\n",
    "small straight (exactly four dice in a row) on the first round? Round your answer to have three decimal places. Enter your solution into variable `p3.3`."
   ]
  },
  {
   "cell_type": "code",
   "execution_count": 15,
   "metadata": {
    "deletable": false,
    "nbgrader": {
     "cell_type": "code",
     "checksum": "a68da0e4845820778a6d438545d91ae6",
     "grade": false,
     "grade_id": "cell-a8d06417325f7622",
     "locked": false,
     "schema_version": 3,
     "solution": true,
     "task": false
    }
   },
   "outputs": [
    {
     "data": {
      "text/html": [
       "0.004"
      ],
      "text/latex": [
       "0.004"
      ],
      "text/markdown": [
       "0.004"
      ],
      "text/plain": [
       "[1] 0.004"
      ]
     },
     "metadata": {},
     "output_type": "display_data"
    }
   ],
   "source": [
    "# Number of possible small straights: 3\n",
    "# Each small straight can occur in multiple ways (reordering and remaining die)\n",
    "# For example: {1, 2, 3, 4, x}, {2, 3, 4, 5, x}, {3, 4, 5, 6, x}\n",
    "# Favorable outcomes for each small straight\n",
    "favorable_outcomes_small_straight_first_round <- 3 * (5 * 2)  # 3 possible small straights, each with 5 reorderings and 2 remaining dice\n",
    "\n",
    "# Probability of rolling a small straight on the first roll\n",
    "p3.3 <- favorable_outcomes_small_straight_first_round / total_outcomes\n",
    "p3.3 <- round(p3.3, 3)\n",
    "p3.3"
   ]
  },
  {
   "cell_type": "code",
   "execution_count": 16,
   "metadata": {
    "deletable": false,
    "editable": false,
    "nbgrader": {
     "cell_type": "code",
     "checksum": "5b57e77f85aa14e705bacbd475d08fe1",
     "grade": true,
     "grade_id": "cell-714e77668e93ff44",
     "locked": true,
     "points": 1,
     "schema_version": 3,
     "solution": false,
     "task": false
    }
   },
   "outputs": [],
   "source": [
    "# Hidden test cell"
   ]
  },
  {
   "cell_type": "markdown",
   "metadata": {
    "deletable": false,
    "editable": false,
    "nbgrader": {
     "cell_type": "markdown",
     "checksum": "cb3c5bd5519126a7877c6e0132cda624",
     "grade": false,
     "grade_id": "cell-6ca48e7398137b28",
     "locked": true,
     "schema_version": 3,
     "solution": false,
     "task": false
    }
   },
   "source": [
    "### Problem 4"
   ]
  },
  {
   "cell_type": "markdown",
   "metadata": {
    "deletable": false,
    "editable": false,
    "nbgrader": {
     "cell_type": "markdown",
     "checksum": "f1e125718a65501e5518a74675b96279",
     "grade": false,
     "grade_id": "cell-70655dbf15dadade",
     "locked": true,
     "schema_version": 3,
     "solution": false,
     "task": false
    }
   },
   "source": [
    "In 2008, $3\\%$ of adults (age 25 or older) in Boulder, CO had a PhD, $45\\%$ had at\n",
    "least a bachelor’s degree, and $75\\%$ were employed full-time. Consider randomly\n",
    "selecting an adult from Boulder, CO for an interview. Let $A$ denote the event\n",
    "that the individual has a PhD, let $B$ be the event that the individual has a bachelor’s\n",
    "degree, and let $C$ be the event that the individual is employed full-time. Assume that,\n",
    "in order to have a PhD, you must have a bachelor’s degree."
   ]
  },
  {
   "cell_type": "markdown",
   "metadata": {
    "deletable": false,
    "editable": false,
    "nbgrader": {
     "cell_type": "markdown",
     "checksum": "86b0b77e621e34ca7194b2d375df15d6",
     "grade": false,
     "grade_id": "cell-1eb0e1147dff7d12",
     "locked": true,
     "schema_version": 3,
     "solution": false,
     "task": false
    }
   },
   "source": [
    "**a)** Is it possible for $P(A \\cap B) = 0.03$? Enter your answer as a boolean `TRUE` or `FALSE`. Enter your solution into variable `TF_4.1`."
   ]
  },
  {
   "cell_type": "code",
   "execution_count": 17,
   "metadata": {
    "deletable": false,
    "nbgrader": {
     "cell_type": "code",
     "checksum": "0fbe2f9dbbc0d3a422561f060e5de503",
     "grade": false,
     "grade_id": "cell-26047d0cb3e3d86d",
     "locked": false,
     "schema_version": 3,
     "solution": true,
     "task": false
    }
   },
   "outputs": [],
   "source": [
    "TF_4.1 <- TRUE\n"
   ]
  },
  {
   "cell_type": "code",
   "execution_count": 18,
   "metadata": {
    "deletable": false,
    "editable": false,
    "nbgrader": {
     "cell_type": "code",
     "checksum": "9d8ec253951c696151c1eea3bcabad00",
     "grade": true,
     "grade_id": "cell-f846151bdf8de5ab",
     "locked": true,
     "points": 1,
     "schema_version": 3,
     "solution": false,
     "task": false
    }
   },
   "outputs": [],
   "source": [
    "# Hidden test cell\n",
    "test_that(\"Make sure your answer is Logical: True/False\", expect_is(TF_4.1, \"logical\"))"
   ]
  },
  {
   "cell_type": "markdown",
   "metadata": {
    "deletable": false,
    "editable": false,
    "nbgrader": {
     "cell_type": "markdown",
     "checksum": "b18ce9e13e1b8fce7eec7cd338a0ebf5",
     "grade": false,
     "grade_id": "cell-ac353a742a858c9d",
     "locked": true,
     "schema_version": 3,
     "solution": false,
     "task": false
    }
   },
   "source": [
    "**b)** For the remaining questions, let $P(B \\cup C) = 0.75$. Compute the probability that the selected individual has a bachelor’s degree and full-time employ-ment. Round your answer to two decimal points. Enter your solution into variable `p4.2`."
   ]
  },
  {
   "cell_type": "code",
   "execution_count": 19,
   "metadata": {
    "deletable": false,
    "nbgrader": {
     "cell_type": "code",
     "checksum": "a8c338891df5e9179f95f8277c328d50",
     "grade": false,
     "grade_id": "cell-ca48c40a3472d8a2",
     "locked": false,
     "schema_version": 3,
     "solution": true,
     "task": false
    }
   },
   "outputs": [
    {
     "data": {
      "text/html": [
       "0.45"
      ],
      "text/latex": [
       "0.45"
      ],
      "text/markdown": [
       "0.45"
      ],
      "text/plain": [
       "[1] 0.45"
      ]
     },
     "metadata": {},
     "output_type": "display_data"
    }
   ],
   "source": [
    "P_B <- 0.45\n",
    "P_C <- 0.75\n",
    "P_B_union_C <- 0.75\n",
    "\n",
    "# Using the formula P(B ∪ C) = P(B) + P(C) - P(B ∩ C)\n",
    "P_B_inter_C <- P_B + P_C - P_B_union_C\n",
    "p4.2 <- round(P_B_inter_C, 2)\n",
    "p4.2"
   ]
  },
  {
   "cell_type": "code",
   "execution_count": 20,
   "metadata": {
    "deletable": false,
    "editable": false,
    "nbgrader": {
     "cell_type": "code",
     "checksum": "b261341f4ed9e0ce0296214be71dab22",
     "grade": true,
     "grade_id": "cell-10308340ff350d9c",
     "locked": true,
     "points": 1,
     "schema_version": 3,
     "solution": false,
     "task": false
    }
   },
   "outputs": [],
   "source": [
    "# Hidden test cell"
   ]
  },
  {
   "cell_type": "markdown",
   "metadata": {
    "deletable": false,
    "editable": false,
    "nbgrader": {
     "cell_type": "markdown",
     "checksum": "cb5ed3e7139de258189d08df2b4fc4b6",
     "grade": false,
     "grade_id": "cell-dcf97167225054ab",
     "locked": true,
     "schema_version": 3,
     "solution": false,
     "task": false
    }
   },
   "source": [
    "**c)** What is the probability that the selected individual has a bachelor’s degree\n",
    "given that they are employed full-time? Round your answers to two decimal places. Save your solution as variable `p4.3`."
   ]
  },
  {
   "cell_type": "code",
   "execution_count": 21,
   "metadata": {
    "deletable": false,
    "nbgrader": {
     "cell_type": "code",
     "checksum": "1d17c741913ebce1605d36fe309f002d",
     "grade": false,
     "grade_id": "cell-cd9e593f264808c3",
     "locked": false,
     "schema_version": 3,
     "solution": true,
     "task": false
    }
   },
   "outputs": [
    {
     "data": {
      "text/html": [
       "0.6"
      ],
      "text/latex": [
       "0.6"
      ],
      "text/markdown": [
       "0.6"
      ],
      "text/plain": [
       "[1] 0.6"
      ]
     },
     "metadata": {},
     "output_type": "display_data"
    }
   ],
   "source": [
    "# Using the formula P(B|C) = P(B ∩ C) / P(C)\n",
    "p4.3 <- round(P_B_inter_C / P_C, 2)\n",
    "p4.3"
   ]
  },
  {
   "cell_type": "code",
   "execution_count": 22,
   "metadata": {
    "deletable": false,
    "editable": false,
    "nbgrader": {
     "cell_type": "code",
     "checksum": "a0b8961b4a41e1b3225899413c1e8517",
     "grade": true,
     "grade_id": "cell-4464a004407f02a1",
     "locked": true,
     "points": 1,
     "schema_version": 3,
     "solution": false,
     "task": false
    }
   },
   "outputs": [],
   "source": [
    "# Hidden test cell"
   ]
  },
  {
   "cell_type": "code",
   "execution_count": null,
   "metadata": {},
   "outputs": [],
   "source": []
  }
 ],
 "metadata": {
  "kernelspec": {
   "display_name": "R",
   "language": "R",
   "name": "ir"
  },
  "language_info": {
   "codemirror_mode": "r",
   "file_extension": ".r",
   "mimetype": "text/x-r-source",
   "name": "R",
   "pygments_lexer": "r",
   "version": "3.6.3"
  }
 },
 "nbformat": 4,
 "nbformat_minor": 4
}
