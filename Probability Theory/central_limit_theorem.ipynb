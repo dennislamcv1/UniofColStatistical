{
 "cells": [
  {
   "cell_type": "markdown",
   "metadata": {},
   "source": [
    "# Problem 1: Central Limit Theorem and Simulation"
   ]
  },
  {
   "cell_type": "markdown",
   "metadata": {},
   "source": [
    "**a)** For this problem, we will be sampling from the Uniform distribution with bounds [0, 100]. Before we simulate anything, let's make sure we understand what values to expect. If $X \\sim U(0, 100)$, what is $E[X]$ and $Var(X)$? Work these answers out on paper so you will have something to compare your simulated results to."
   ]
  },
  {
   "cell_type": "markdown",
   "metadata": {},
   "source": [
    "**b)** In real life, if we want to estimate the mean of a population, we have to draw a sample from that population and compute the sample mean. The important questions we have to ask are things like:\n",
    "\n",
    "* Is the sample mean a good approximation of the population mean?\n",
    "* How large does my sample need to be in order for the sample mean to well-approximate the population mean?\n",
    "\n",
    "Complete the following function to sample $n$ rows from the $U(0, 100)$ distribution and return the sample mean. Start with a sample size of 10 and draw a sample mean from your function. Is the estimated mean a good approximation for the population mean we computed above? What if you increase the sample size?"
   ]
  },
  {
   "cell_type": "code",
   "execution_count": 1,
   "metadata": {},
   "outputs": [
    {
     "ename": "ERROR",
     "evalue": "Error in uniform.sample.mean(10): object 'sample.mean' not found\n",
     "output_type": "error",
     "traceback": [
      "Error in uniform.sample.mean(10): object 'sample.mean' not found\nTraceback:\n",
      "1. uniform.sample.mean(10)"
     ]
    }
   ],
   "source": [
    "# Complete and run this cell\n",
    "\n",
    "uniform.sample.mean = function(n){\n",
    "    \n",
    "    # Your Code Here\n",
    "    \n",
    "    return(sample.mean)\n",
    "}\n",
    "\n",
    "uniform.sample.mean(10)"
   ]
  },
  {
   "cell_type": "markdown",
   "metadata": {},
   "source": [
    "**c)** Notice, for a sample size of $n$, our function is returning an estimator of the form\n",
    "\n",
    "$$\n",
    "\\bar{X} = \\frac{1}{n}\\sum_{i=1}^n X_i \n",
    "$$\n",
    "\n",
    "That means, if each $X_i$ is a random variable, then our sample mean is also a random variable with its own distribution. We call this disribution the sample distribution. Let's take a look at what this distribution looks like.  \n",
    "\n",
    "Using the `uniform.sample.mean` function, simulate $m=1000$ sample means, each from a sample of size $n=10$. Create a histogram of these sample means. Then increase the value of $n$ and plot the histogram of those sample means. What do you notice about the distribution of $\\bar{X}$? What is the mean $\\mu$ and variance $\\sigma^2$ of the sample distribution?"
   ]
  },
  {
   "cell_type": "code",
   "execution_count": null,
   "metadata": {},
   "outputs": [],
   "source": [
    "# Your Code Here\n"
   ]
  },
  {
   "cell_type": "markdown",
   "metadata": {},
   "source": [
    "<hr>"
   ]
  },
  {
   "cell_type": "markdown",
   "metadata": {},
   "source": [
    "# Problem 2\n",
    "\n",
    "Let $X$ be a random variable for the face value of a fair $d$-sided die after a single roll. $X$ follows a discrete uniform distribution of the form $\\textrm{unif}\\{1,d\\}$. Below is the mean and variance of $\\textrm{unif}\\{1,d\\}$.\n",
    "\n",
    "$$ E[X] = \\dfrac{1+d}{2} \\qquad Var(X) = \\dfrac{(d- 1 + 1)^2 - 1}{12}$$"
   ]
  },
  {
   "cell_type": "markdown",
   "metadata": {},
   "source": [
    "**a)** Let $\\bar{X}_n$ be the random variable for the mean of $n$ die rolls. Based on the Central Limit Theorem, what distribution does $\\bar{X}_n$ follow when $d=6$?"
   ]
  },
  {
   "cell_type": "markdown",
   "metadata": {},
   "source": [
    "**b)** Generate $n=1000$ die values, with $d=6$. Calculate the running average of your die rolls. In other words, create an array $r$ such that:\n",
    "\n",
    "$$ r[j] = \\sum_{i=1}^j \\dfrac{X_i}{j} $$\n",
    "\n",
    "Finally, plot your running average per the number of iterations. What do you notice?"
   ]
  },
  {
   "cell_type": "code",
   "execution_count": null,
   "metadata": {},
   "outputs": [],
   "source": [
    "# Your code here."
   ]
  }
 ],
 "metadata": {
  "kernelspec": {
   "display_name": "R",
   "language": "R",
   "name": "ir"
  },
  "language_info": {
   "codemirror_mode": "r",
   "file_extension": ".r",
   "mimetype": "text/x-r-source",
   "name": "R",
   "pygments_lexer": "r",
   "version": "3.6.3"
  }
 },
 "nbformat": 4,
 "nbformat_minor": 4
}
