{
 "cells": [
  {
   "cell_type": "markdown",
   "metadata": {
    "deletable": false,
    "editable": false,
    "nbgrader": {
     "cell_type": "markdown",
     "checksum": "358f674fab6ccd867a3785b7750c1090",
     "grade": false,
     "grade_id": "cell-817d95625e6bbc0d",
     "locked": true,
     "schema_version": 3,
     "solution": false,
     "task": false
    }
   },
   "source": [
    "# Module 6 Autograded Assignment"
   ]
  },
  {
   "cell_type": "code",
   "execution_count": 1,
   "metadata": {
    "deletable": false,
    "editable": false,
    "nbgrader": {
     "cell_type": "code",
     "checksum": "859ba2f3533cf990f46264b97633c61b",
     "grade": false,
     "grade_id": "cell-e5924c3e8e1460f6",
     "locked": true,
     "schema_version": 3,
     "solution": false,
     "task": false
    }
   },
   "outputs": [],
   "source": [
    "# Load Packages\n",
    "library(testthat)"
   ]
  },
  {
   "cell_type": "markdown",
   "metadata": {
    "deletable": false,
    "editable": false,
    "nbgrader": {
     "cell_type": "markdown",
     "checksum": "73a96be09a7792e89a89ed40bd8f2a59",
     "grade": false,
     "grade_id": "cell-c26e9d8079382b33",
     "locked": true,
     "schema_version": 3,
     "solution": false,
     "task": false
    }
   },
   "source": [
    "# Problem 1\n",
    "\n",
    "You are a quality assurance tester for hardware equipment and been given a lot of $10,000$ nails to test. You decide to randomly sample $100$ nails from the lot and test if they are defective. The whole lot would be considered defective if the average of the sample is less than $11.97$cm or greater than $12.04$cm. Given that the true population mean $\\mu$ is $12$cm with a true standard deviation $\\sigma$ of $0.2$cm, what is the probability that the lot is **not** defective? Round your answer to two decimal places. Save your answer as `p1`."
   ]
  },
  {
   "cell_type": "code",
   "execution_count": 2,
   "metadata": {
    "deletable": false,
    "nbgrader": {
     "cell_type": "code",
     "checksum": "561ac16d9982a49be45f43ca03f86761",
     "grade": false,
     "grade_id": "cell-b5e82d8720ba5467",
     "locked": false,
     "schema_version": 3,
     "solution": true,
     "task": false
    }
   },
   "outputs": [
    {
     "data": {
      "text/html": [
       "0.91"
      ],
      "text/latex": [
       "0.91"
      ],
      "text/markdown": [
       "0.91"
      ],
      "text/plain": [
       "[1] 0.91"
      ]
     },
     "metadata": {},
     "output_type": "display_data"
    }
   ],
   "source": [
    "p1 <- 0.91\n",
    "p1\n"
   ]
  },
  {
   "cell_type": "code",
   "execution_count": 3,
   "metadata": {
    "deletable": false,
    "editable": false,
    "nbgrader": {
     "cell_type": "code",
     "checksum": "5b0b821db3709cf937d4580a19f91171",
     "grade": true,
     "grade_id": "cell-6f5220442faafb40",
     "locked": true,
     "points": 1,
     "schema_version": 3,
     "solution": false,
     "task": false
    }
   },
   "outputs": [],
   "source": [
    "# Hidden Test Cell"
   ]
  },
  {
   "cell_type": "markdown",
   "metadata": {
    "deletable": false,
    "editable": false,
    "nbgrader": {
     "cell_type": "markdown",
     "checksum": "81c63ef6c3fc4b7cdfe1e566faa35bc3",
     "grade": false,
     "grade_id": "cell-7ae08ae9c670e962",
     "locked": true,
     "schema_version": 3,
     "solution": false,
     "task": false
    }
   },
   "source": [
    "# Problem 2\n",
    "\n",
    "Suppose you are out fishing and you want to predict the amount of time (in minutes) it takes to catch 3 fish. Let $T_F \\sim N(15, 10)$ be the time it takes to reel in a fish. Let $T_T \\sim N(10, 8)$ be the amount of time you spend waiting for the fish to take the bait. Assume $T_F$ and $T_T$ are independent. Also assume you start timing as soon as you start reeling in the first fish, and the time ends when you have finished catching the third fish. "
   ]
  },
  {
   "cell_type": "markdown",
   "metadata": {
    "deletable": false,
    "editable": false,
    "nbgrader": {
     "cell_type": "markdown",
     "checksum": "8c66a5656415e414a314e1ae3b34b1fb",
     "grade": false,
     "grade_id": "cell-1ec3de7be7889e5b",
     "locked": true,
     "schema_version": 3,
     "solution": false,
     "task": false
    }
   },
   "source": [
    "**a)** Let $T$ be the random variable for the total amount of time spent fishing. What is $E[T]$ and $Var[T]$? Save your variables as `exp.T` and `var.T`. (Hint: Note that a variance of 122 is incorrect for this problem. Why? If $Z_1$ and $Z_2$ are indepedent N(0,1) random variables, the distribution of $Z_1 + Z_2 $ is not the same as $2Z_1$. If you want to explore this, you can run some simulations to see for yourself.) "
   ]
  },
  {
   "cell_type": "markdown",
   "metadata": {},
   "source": [
    "Let's break down the problem step by step.\n",
    "\n",
    "### Understanding the Problem\n",
    "\n",
    "You want to determine the expected value \\( E[T] \\) and variance \\( \\text{Var}[T] \\) of the total time \\( T \\) spent fishing.\n",
    "\n",
    "- **\\( T_F \\)**: Time to reel in a fish, \\( T_F \\sim N(15, 10) \\).\n",
    "- **\\( T_T \\)**: Time spent waiting for a fish to take the bait, \\( T_T \\sim N(10, 8) \\).\n",
    "- **Independence**: \\( T_F \\) and \\( T_T \\) are independent.\n",
    "  \n",
    "You're catching 3 fish, so the total time \\( T \\) is the sum of the times to reel in 3 fish and the waiting times before the 2nd and 3rd fish (since the first reeling starts immediately without waiting).\n",
    "\n",
    "### Expression for Total Time \\( T \\)\n",
    "\n",
    "- **Total Reeling Time**: The time to reel in 3 fish is \\( T_{F1} + T_{F2} + T_{F3} \\), where each \\( T_{Fi} \\sim N(15, 10) \\).\n",
    "- **Total Waiting Time**: The waiting time before the 2nd and 3rd fish is \\( T_{T1} + T_{T2} \\), where each \\( T_{Ti} \\sim N(10, 8) \\).\n",
    "\n",
    "Thus, the total time \\( T \\) is:\n",
    "\\[\n",
    "T = (T_{F1} + T_{F2} + T_{F3}) + (T_{T1} + T_{T2})\n",
    "\\]\n",
    "\n",
    "### Expected Value \\( E[T] \\)\n",
    "\n",
    "The expected value of \\( T \\) is the sum of the expected values of the individual components.\n",
    "\n",
    "\\[\n",
    "E[T] = E[T_{F1}] + E[T_{F2}] + E[T_{F3}] + E[T_{T1}] + E[T_{T2}]\n",
    "\\]\n",
    "Since \\( T_{Fi} \\sim N(15, 10) \\) and \\( T_{Ti} \\sim N(10, 8) \\):\n",
    "\\[\n",
    "E[T_{Fi}] = 15 \\quad \\text{and} \\quad E[T_{Ti}] = 10\n",
    "\\]\n",
    "Thus:\n",
    "\\[\n",
    "E[T] = 3 \\times 15 + 2 \\times 10 = 45 + 20 = 65 \\, \\text{minutes}\n",
    "\\]\n",
    "\n",
    "### Variance \\( \\text{Var}[T] \\)\n",
    "\n",
    "Since \\( T_F \\) and \\( T_T \\) are independent, the variance of \\( T \\) is the sum of the variances of the individual components.\n",
    "\n",
    "\\[\n",
    "\\text{Var}[T] = \\text{Var}[T_{F1}] + \\text{Var}[T_{F2}] + \\text{Var}[T_{F3}] + \\text{Var}[T_{T1}] + \\text{Var}[T_{T2}]\n",
    "\\]\n",
    "Given \\( T_{Fi} \\sim N(15, 10) \\) and \\( T_{Ti} \\sim N(10, 8) \\):\n",
    "\\[\n",
    "\\text{Var}[T_{Fi}] = 10 \\quad \\text{and} \\quad \\text{Var}[T_{Ti}] = 8\n",
    "\\]\n",
    "Thus:\n",
    "\\[\n",
    "\\text{Var}[T] = 3 \\times 10 + 2 \\times 8 = 30 + 16 = 46 \\, \\text{minutes}^2\n",
    "\\]\n",
    "\n",
    "### Final Values\n",
    "\n",
    "- Expected Value: \\( E[T] = 65 \\)\n",
    "- Variance: \\( \\text{Var}[T] = 46 \\)\n",
    "\n",
    "These values should be stored in `exp.T` and `var.T` respectively.\n",
    "\n",
    "```r\n",
    "exp.T <- 65\n",
    "var.T <- 46\n",
    "```"
   ]
  },
  {
   "cell_type": "code",
   "execution_count": 4,
   "metadata": {
    "deletable": false,
    "nbgrader": {
     "cell_type": "code",
     "checksum": "9f19b50842d0a130c87ba01b81bd9ad1",
     "grade": false,
     "grade_id": "cell-486a5b231afdf9c4",
     "locked": false,
     "schema_version": 3,
     "solution": true,
     "task": false
    }
   },
   "outputs": [],
   "source": [
    "exp.T = 65\n",
    "var.T = 46\n",
    "# your code here\n"
   ]
  },
  {
   "cell_type": "code",
   "execution_count": 5,
   "metadata": {
    "deletable": false,
    "editable": false,
    "nbgrader": {
     "cell_type": "code",
     "checksum": "4a8045277f1a7243c171247b331cc542",
     "grade": true,
     "grade_id": "cell-5dca06bf3aa0900b",
     "locked": true,
     "points": 1,
     "schema_version": 3,
     "solution": false,
     "task": false
    }
   },
   "outputs": [],
   "source": [
    "# Hidden Test Cell"
   ]
  },
  {
   "cell_type": "markdown",
   "metadata": {
    "deletable": false,
    "editable": false,
    "nbgrader": {
     "cell_type": "markdown",
     "checksum": "41c021adef2d27fe08253ba4132ca553",
     "grade": false,
     "grade_id": "cell-c79e2b7c15360310",
     "locked": true,
     "schema_version": 3,
     "solution": false,
     "task": false
    }
   },
   "source": [
    "**b)** What is the probability that you finish catching the three fish in 60 minutes or less? Round your answer to three decimal places. Save your answer as `p2.2`."
   ]
  },
  {
   "cell_type": "markdown",
   "metadata": {},
   "source": [
    "To solve this problem, we'll use the properties of the normal distribution to find the probability that the total time \\( T \\) is 60 minutes or less.\n",
    "\n",
    "### Step 1: Define the Distribution of \\( T \\)\n",
    "\n",
    "From part (a), we found that the total time \\( T \\) is normally distributed with:\n",
    "\n",
    "- Mean \\( E[T] = 65 \\) minutes\n",
    "- Variance \\( \\text{Var}[T] = 46 \\) minutes²\n",
    "\n",
    "Thus, \\( T \\sim N(65, 46) \\).\n",
    "\n",
    "### Step 2: Standardize the Random Variable\n",
    "\n",
    "To find the probability \\( P(T \\leq 60) \\), we need to standardize \\( T \\) to convert it into a standard normal variable \\( Z \\) (which follows \\( N(0, 1) \\)):\n",
    "\n",
    "\\[\n",
    "Z = \\frac{T - \\mu_T}{\\sigma_T} = \\frac{T - 65}{\\sqrt{46}}\n",
    "\\]\n",
    "\n",
    "For \\( T = 60 \\):\n",
    "\n",
    "\\[\n",
    "Z = \\frac{60 - 65}{\\sqrt{46}} = \\frac{-5}{\\sqrt{46}}\n",
    "\\]\n",
    "\n",
    "Let's calculate this value:\n",
    "\n",
    "\\[\n",
    "Z = \\frac{-5}{\\sqrt{46}} \\approx \\frac{-5}{6.782} \\approx -0.737\n",
    "\\]\n",
    "\n",
    "### Step 3: Find the Probability\n",
    "\n",
    "Next, we use the standard normal distribution table or a calculator to find \\( P(Z \\leq -0.737) \\).\n",
    "\n",
    "Using the cumulative distribution function (CDF) for the standard normal distribution:\n",
    "\n",
    "\\[\n",
    "P(Z \\leq -0.737) \\approx 0.230\n",
    "\\]\n",
    "\n",
    "Thus, the probability that you finish catching the three fish in 60 minutes or less is approximately 0.230.\n",
    "\n",
    "### Final Answer\n",
    "\n",
    "Save the result as `p2.2`:\n",
    "\n",
    "```r\n",
    "p2.2 <- 0.230\n",
    "```\n",
    "\n"
   ]
  },
  {
   "cell_type": "code",
   "execution_count": 6,
   "metadata": {
    "deletable": false,
    "nbgrader": {
     "cell_type": "code",
     "checksum": "35c3f16bf84e211efcca0838977f9d07",
     "grade": false,
     "grade_id": "cell-c5897de05b22e9c5",
     "locked": false,
     "schema_version": 3,
     "solution": true,
     "task": false
    }
   },
   "outputs": [
    {
     "data": {
      "text/html": [
       "0.23"
      ],
      "text/latex": [
       "0.23"
      ],
      "text/markdown": [
       "0.23"
      ],
      "text/plain": [
       "[1] 0.23"
      ]
     },
     "metadata": {},
     "output_type": "display_data"
    }
   ],
   "source": [
    "p2.2 <- 0.230\n",
    "p2.2\n",
    "# your code here\n"
   ]
  },
  {
   "cell_type": "code",
   "execution_count": 7,
   "metadata": {
    "deletable": false,
    "editable": false,
    "nbgrader": {
     "cell_type": "code",
     "checksum": "d36f6ad1025afe5fb89a18dca6e10b32",
     "grade": true,
     "grade_id": "cell-4eeef90569d229a9",
     "locked": true,
     "points": 1,
     "schema_version": 3,
     "solution": false,
     "task": false
    }
   },
   "outputs": [],
   "source": [
    "# Hidden Test Cell"
   ]
  },
  {
   "cell_type": "markdown",
   "metadata": {
    "deletable": false,
    "editable": false,
    "nbgrader": {
     "cell_type": "markdown",
     "checksum": "b1ab7fa3b1afa6d85ad23e7e7ab681df",
     "grade": false,
     "grade_id": "cell-56f245bd232d7f4d",
     "locked": true,
     "schema_version": 3,
     "solution": false,
     "task": false
    }
   },
   "source": [
    "# Problem 3\n",
    "\n",
    "Exams given by a particular instructor in a freshman-level statistics course have a mean of $75$ and a standard deviation of $17$. The instructor gives an exam to two classes, one with $30$ students and the other with $90$ students."
   ]
  },
  {
   "cell_type": "markdown",
   "metadata": {
    "deletable": false,
    "editable": false,
    "nbgrader": {
     "cell_type": "markdown",
     "checksum": "4722a6ea097be4d9b09d87d1a1c17a36",
     "grade": false,
     "grade_id": "cell-85652af628ab9d1e",
     "locked": true,
     "schema_version": 3,
     "solution": false,
     "task": false
    }
   },
   "source": [
    "**a)** Let $\\bar{X}$ represent the average exam score in the class of $30$. Approximate the probability that the average test score $\\bar{X}$ exceeds $80$, that is, estimate $P(\\bar{X} \\ge 80)$. Round your answer to four decimal places. Save your answer as `p3.a`."
   ]
  },
  {
   "cell_type": "markdown",
   "metadata": {},
   "source": [
    "To solve this problem, we need to approximate the probability that the average exam score \\( \\bar{X} \\) for a class of 30 students exceeds 80. Given that the population mean is 75 and the standard deviation is 17, we'll use the Central Limit Theorem (CLT) to approximate the distribution of \\( \\bar{X} \\).\n",
    "\n",
    "### Step 1: Define the Distribution of \\( \\bar{X} \\)\n",
    "\n",
    "According to the Central Limit Theorem, for a sample size \\( n \\), the sampling distribution of the sample mean \\( \\bar{X} \\) is approximately normally distributed with:\n",
    "\n",
    "- Mean: \\( \\mu_{\\bar{X}} = \\mu = 75 \\)\n",
    "- Standard deviation (Standard Error): \\( \\sigma_{\\bar{X}} = \\frac{\\sigma}{\\sqrt{n}} = \\frac{17}{\\sqrt{30}} \\)\n",
    "\n",
    "Let's calculate the standard error:\n",
    "\n",
    "\\[\n",
    "\\sigma_{\\bar{X}} = \\frac{17}{\\sqrt{30}} \\approx \\frac{17}{5.477} \\approx 3.103\n",
    "\\]\n",
    "\n",
    "So, \\( \\bar{X} \\sim N(75, 3.103^2) \\).\n",
    "\n",
    "### Step 2: Standardize the Random Variable\n",
    "\n",
    "To find \\( P(\\bar{X} \\ge 80) \\), we standardize \\( \\bar{X} \\) to convert it into a standard normal variable \\( Z \\):\n",
    "\n",
    "\\[\n",
    "Z = \\frac{\\bar{X} - \\mu_{\\bar{X}}}{\\sigma_{\\bar{X}}} = \\frac{80 - 75}{3.103} \\approx \\frac{5}{3.103} \\approx 1.611\n",
    "\\]\n",
    "\n",
    "### Step 3: Find the Probability\n",
    "\n",
    "We now find the probability \\( P(Z \\geq 1.611) \\) using the standard normal distribution table or a calculator.\n",
    "\n",
    "The probability that a standard normal variable is greater than \\( Z = 1.611 \\) is:\n",
    "\n",
    "\\[\n",
    "P(Z \\geq 1.611) = 1 - P(Z \\leq 1.611) \\approx 1 - 0.9461 = 0.0539\n",
    "\\]\n",
    "\n",
    "Thus, the probability that the average test score \\( \\bar{X} \\) exceeds 80 is approximately 0.0539.\n",
    "\n",
    "### Final Answer\n",
    "\n",
    "Save the result as `p3.a`:\n",
    "\n",
    "```r\n",
    "p3.a <- 0.0539\n",
    "```\n",
    "\n"
   ]
  },
  {
   "cell_type": "code",
   "execution_count": 8,
   "metadata": {
    "deletable": false,
    "nbgrader": {
     "cell_type": "code",
     "checksum": "f538683754bbb2a38da8cfb47ad4f668",
     "grade": false,
     "grade_id": "cell-b4ca82e7942ac5c5",
     "locked": false,
     "schema_version": 3,
     "solution": true,
     "task": false
    }
   },
   "outputs": [],
   "source": [
    "p3.a <- 0.0539\n",
    "# your code here\n"
   ]
  },
  {
   "cell_type": "code",
   "execution_count": 9,
   "metadata": {
    "deletable": false,
    "editable": false,
    "nbgrader": {
     "cell_type": "code",
     "checksum": "14369a8bf457d91b602442689374f7dd",
     "grade": true,
     "grade_id": "cell-4d87cc4202502975",
     "locked": true,
     "points": 1,
     "schema_version": 3,
     "solution": false,
     "task": false
    }
   },
   "outputs": [],
   "source": [
    "# Hidden Test Cell"
   ]
  },
  {
   "cell_type": "markdown",
   "metadata": {
    "deletable": false,
    "editable": false,
    "nbgrader": {
     "cell_type": "markdown",
     "checksum": "9d8c08284db2d8141f887292812ee25c",
     "grade": false,
     "grade_id": "cell-e313f24ee57c72eb",
     "locked": true,
     "schema_version": 3,
     "solution": false,
     "task": false
    }
   },
   "source": [
    "**b)** Let $\\bar{Y}$ represent the average exam score in the class of $90$. Approximate the probability that the average test score $\\bar{Y}$ exceeds $80$, that is, estimate $P(\\bar{Y} \\ge 80)$. Round your answer to four decimal places. Save your answer as `p3.b`."
   ]
  },
  {
   "cell_type": "code",
   "execution_count": 10,
   "metadata": {
    "deletable": false,
    "nbgrader": {
     "cell_type": "code",
     "checksum": "29d5b8e7c099eddf2c4f659436f6c84a",
     "grade": false,
     "grade_id": "cell-2b0fe4f57f4c6ff5",
     "locked": false,
     "schema_version": 3,
     "solution": true,
     "task": false
    }
   },
   "outputs": [],
   "source": [
    "p3.b <- round(1 - pnorm(2.789), 4)\n",
    "# your code here\n"
   ]
  },
  {
   "cell_type": "code",
   "execution_count": 11,
   "metadata": {
    "deletable": false,
    "editable": false,
    "nbgrader": {
     "cell_type": "code",
     "checksum": "163b569dfdb0a04769ba0a7ff0965715",
     "grade": true,
     "grade_id": "cell-2e3d758344a9f33e",
     "locked": true,
     "points": 1,
     "schema_version": 3,
     "solution": false,
     "task": false
    }
   },
   "outputs": [],
   "source": [
    "# Hidden Test Cell"
   ]
  },
  {
   "cell_type": "markdown",
   "metadata": {
    "deletable": false,
    "editable": false,
    "nbgrader": {
     "cell_type": "markdown",
     "checksum": "058601561935581ff7d76b3467e32ae9",
     "grade": false,
     "grade_id": "cell-9ee70ded5db6ed2d",
     "locked": true,
     "schema_version": 3,
     "solution": false,
     "task": false
    }
   },
   "source": [
    "**Thought Question (Not Graded)** Would you be surpised to learn that the $90$ person class had an exam average of $80$ or higher?"
   ]
  },
  {
   "cell_type": "markdown",
   "metadata": {
    "deletable": false,
    "editable": false,
    "nbgrader": {
     "cell_type": "markdown",
     "checksum": "ca27f3a830343c1fe63335348b655c45",
     "grade": false,
     "grade_id": "cell-827bde70e5d92fe2",
     "locked": true,
     "schema_version": 3,
     "solution": false,
     "task": false
    }
   },
   "source": [
    "**c)** Estimate the probability that the averages of the two classes are within one point of each other, that is, estimate $P(-1 \\le \\bar{Y} - \\bar{X} \\le 1)$. Hint: What is the distribution of $\\bar{Y} - \\bar{X}$? Round your answer to two decimal places. Save your answer as `p3.c`."
   ]
  },
  {
   "cell_type": "code",
   "execution_count": 12,
   "metadata": {
    "deletable": false,
    "nbgrader": {
     "cell_type": "code",
     "checksum": "70e6e49d4d0073c34f124eb6f3e7bd2c",
     "grade": false,
     "grade_id": "cell-dccf383515b4c2a9",
     "locked": false,
     "schema_version": 3,
     "solution": true,
     "task": false
    }
   },
   "outputs": [],
   "source": [
    "p3.c <- round(pnorm(0.279) - pnorm(-0.279), 2)\n",
    "# your code here\n"
   ]
  },
  {
   "cell_type": "code",
   "execution_count": 13,
   "metadata": {
    "deletable": false,
    "editable": false,
    "nbgrader": {
     "cell_type": "code",
     "checksum": "3c79bb3b05ee7dfb41814baf0c77e354",
     "grade": true,
     "grade_id": "cell-72873d48d756f2ed",
     "locked": true,
     "points": 1,
     "schema_version": 3,
     "solution": false,
     "task": false
    }
   },
   "outputs": [],
   "source": [
    "# Hidden Test Cell"
   ]
  },
  {
   "cell_type": "markdown",
   "metadata": {
    "deletable": false,
    "editable": false,
    "nbgrader": {
     "cell_type": "markdown",
     "checksum": "ac192f37c639556e6341d58ee29ba0f8",
     "grade": false,
     "grade_id": "cell-79e624ff27d152fc",
     "locked": true,
     "schema_version": 3,
     "solution": false,
     "task": false
    }
   },
   "source": [
    "# Problem 4\n",
    "\n",
    " The Central Limit Theorem states: Let $X_1, \\dots, X_n$ be a random sample with $E[X_i] = \\mu$ and $Var(X_i)=\\sigma^2$. If $n$ is sufficiently large, then $\\bar{X}$ has approximately a normal distribution with mean $\\mu_{\\bar{X}} = \\mu$ and variance $\\sigma_{\\bar{X}}^2 = \\sigma^2/n$. It's also true that $\\sum_{i=1}^n X_i \\sim N(n\\mu, n\\sigma^2)$. \n",
    " \n",
    "Suppose a machine requires a specific type of battery that lasts an exponential amount of time with mean $25$ hours. As soon as the battery fails, you replace it immediately. If you have $50$ such batteries, estimate the probability that the machine is still operating after $1300$ hours. Round your answer to three decimal places. Save your answer as `p4`."
   ]
  },
  {
   "cell_type": "code",
   "execution_count": 14,
   "metadata": {
    "deletable": false,
    "nbgrader": {
     "cell_type": "code",
     "checksum": "69f2e41db640003fa454b10b55b464f0",
     "grade": false,
     "grade_id": "cell-47ca5d695e456ee2",
     "locked": false,
     "schema_version": 3,
     "solution": true,
     "task": false
    }
   },
   "outputs": [
    {
     "data": {
      "text/html": [
       "0.389"
      ],
      "text/latex": [
       "0.389"
      ],
      "text/markdown": [
       "0.389"
      ],
      "text/plain": [
       "[1] 0.389"
      ]
     },
     "metadata": {},
     "output_type": "display_data"
    }
   ],
   "source": [
    "mu <- 25\n",
    "sigma_squared <- 625\n",
    "n <- 50\n",
    "mu_S <- n * mu\n",
    "sigma_S <- sqrt(n * sigma_squared)\n",
    "z <- (1300 - mu_S) / sigma_S\n",
    "\n",
    "p4 <- round(1 - pnorm(z), 3)\n",
    "p4\n"
   ]
  },
  {
   "cell_type": "code",
   "execution_count": 15,
   "metadata": {
    "deletable": false,
    "editable": false,
    "nbgrader": {
     "cell_type": "code",
     "checksum": "cba7810b2890ae4e5896e7ac156928bc",
     "grade": true,
     "grade_id": "cell-556417de8be3ea64",
     "locked": true,
     "points": 1,
     "schema_version": 3,
     "solution": false,
     "task": false
    }
   },
   "outputs": [],
   "source": [
    "# Hidden Test Cell"
   ]
  },
  {
   "cell_type": "code",
   "execution_count": null,
   "metadata": {},
   "outputs": [],
   "source": []
  }
 ],
 "metadata": {
  "kernelspec": {
   "display_name": "R",
   "language": "R",
   "name": "ir"
  },
  "language_info": {
   "codemirror_mode": "r",
   "file_extension": ".r",
   "mimetype": "text/x-r-source",
   "name": "R",
   "pygments_lexer": "r",
   "version": "3.6.3"
  }
 },
 "nbformat": 4,
 "nbformat_minor": 4
}
